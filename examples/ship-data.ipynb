{
 "cells": [
  {
   "cell_type": "markdown",
   "id": "cfd2199a",
   "metadata": {},
   "source": [
    "# Ship data analysis\n",
    "\n",
    "This tutorial is derived from an [upstream MovingPandas example](https://movingpandas.github.io/movingpandas-website/2-analysis-examples/ship-data.html).\n"
   ]
  },
  {
   "cell_type": "markdown",
   "id": "5c4d2f67",
   "metadata": {},
   "source": [
    "```\n",
    "pip install lonboard movingpandas \"geopandas>=1\" pyarrow\n",
    "```\n"
   ]
  },
  {
   "cell_type": "code",
   "execution_count": 1,
   "id": "4fd4d098",
   "metadata": {},
   "outputs": [
    {
     "name": "stderr",
     "output_type": "stream",
     "text": [
      "/Users/kyle/github/developmentseed/lonboard/.venv/lib/python3.11/site-packages/movingpandas/__init__.py:37: UserWarning: Missing optional dependencies. To use the trajectory smoother classes please install Stone Soup (see https://stonesoup.readthedocs.io/en/latest/#installation).\n",
      "  warnings.warn(e.msg, UserWarning)\n"
     ]
    }
   ],
   "source": [
    "import warnings\n",
    "from datetime import datetime, timedelta\n",
    "from os.path import exists\n",
    "from urllib.request import urlretrieve\n",
    "\n",
    "import geopandas as gpd\n",
    "import movingpandas as mpd\n",
    "import pandas as pd\n",
    "\n",
    "from lonboard import viz, Map, PathLayer\n",
    "from lonboard.experimental import TripsLayer\n",
    "from lonboard.colormap import apply_categorical_cmap\n",
    "from matplotlib.colors import to_rgba\n",
    "import pyarrow as pa\n",
    "# import folium\n",
    "\n",
    "# import hvplot.pandas\n",
    "# import matplotlib.pyplot as plt\n",
    "\n",
    "# import numpy as np\n",
    "# import shapely as shp\n",
    "# from geopandas import GeoDataFrame, read_file\n",
    "# from holoviews import dim, opts\n",
    "# from shapely.geometry import LineString, Point, Polygon\n"
   ]
  },
  {
   "cell_type": "markdown",
   "id": "d5bf798a",
   "metadata": {},
   "source": [
    "## Loading sample AIS data\n",
    "\n",
    "We'll load the same AIS data as the upstream notebook.\n"
   ]
  },
  {
   "cell_type": "code",
   "execution_count": 2,
   "id": "3ce4a739",
   "metadata": {},
   "outputs": [],
   "source": [
    "url = \"https://raw.githubusercontent.com/movingpandas/movingpandas-examples/refs/heads/main/data/ais.gpkg\"\n",
    "gdf = gpd.read_file(url, use_arrow=True)"
   ]
  },
  {
   "cell_type": "markdown",
   "id": "b2fc9c28",
   "metadata": {},
   "source": [
    "Let's see what the data looks like:\n"
   ]
  },
  {
   "cell_type": "code",
   "execution_count": 3,
   "id": "1fbad7ab",
   "metadata": {},
   "outputs": [
    {
     "data": {
      "text/html": [
       "<div>\n",
       "<style scoped>\n",
       "    .dataframe tbody tr th:only-of-type {\n",
       "        vertical-align: middle;\n",
       "    }\n",
       "\n",
       "    .dataframe tbody tr th {\n",
       "        vertical-align: top;\n",
       "    }\n",
       "\n",
       "    .dataframe thead th {\n",
       "        text-align: right;\n",
       "    }\n",
       "</style>\n",
       "<table border=\"1\" class=\"dataframe\">\n",
       "  <thead>\n",
       "    <tr style=\"text-align: right;\">\n",
       "      <th></th>\n",
       "      <th>Timestamp</th>\n",
       "      <th>MMSI</th>\n",
       "      <th>NavStatus</th>\n",
       "      <th>SOG</th>\n",
       "      <th>COG</th>\n",
       "      <th>Name</th>\n",
       "      <th>ShipType</th>\n",
       "      <th>geometry</th>\n",
       "    </tr>\n",
       "  </thead>\n",
       "  <tbody>\n",
       "    <tr>\n",
       "      <th>0</th>\n",
       "      <td>05/07/2017 00:00:03</td>\n",
       "      <td>219632000</td>\n",
       "      <td>Under way using engine</td>\n",
       "      <td>0.0</td>\n",
       "      <td>270.4</td>\n",
       "      <td>None</td>\n",
       "      <td>Undefined</td>\n",
       "      <td>POINT (11.85958 57.68817)</td>\n",
       "    </tr>\n",
       "    <tr>\n",
       "      <th>1</th>\n",
       "      <td>05/07/2017 00:00:05</td>\n",
       "      <td>265650970</td>\n",
       "      <td>Under way using engine</td>\n",
       "      <td>0.0</td>\n",
       "      <td>0.5</td>\n",
       "      <td>None</td>\n",
       "      <td>Undefined</td>\n",
       "      <td>POINT (11.84175 57.6615)</td>\n",
       "    </tr>\n",
       "    <tr>\n",
       "      <th>2</th>\n",
       "      <td>05/07/2017 00:00:06</td>\n",
       "      <td>265503900</td>\n",
       "      <td>Under way using engine</td>\n",
       "      <td>0.0</td>\n",
       "      <td>0.0</td>\n",
       "      <td>None</td>\n",
       "      <td>Undefined</td>\n",
       "      <td>POINT (11.9065 57.69077)</td>\n",
       "    </tr>\n",
       "    <tr>\n",
       "      <th>3</th>\n",
       "      <td>05/07/2017 00:00:14</td>\n",
       "      <td>219632000</td>\n",
       "      <td>Under way using engine</td>\n",
       "      <td>0.0</td>\n",
       "      <td>188.4</td>\n",
       "      <td>None</td>\n",
       "      <td>Undefined</td>\n",
       "      <td>POINT (11.85958 57.68817)</td>\n",
       "    </tr>\n",
       "    <tr>\n",
       "      <th>4</th>\n",
       "      <td>05/07/2017 00:00:19</td>\n",
       "      <td>265519650</td>\n",
       "      <td>Under way using engine</td>\n",
       "      <td>0.0</td>\n",
       "      <td>357.2</td>\n",
       "      <td>None</td>\n",
       "      <td>Undefined</td>\n",
       "      <td>POINT (11.87192 57.68233)</td>\n",
       "    </tr>\n",
       "  </tbody>\n",
       "</table>\n",
       "</div>"
      ],
      "text/plain": [
       "             Timestamp       MMSI               NavStatus  SOG    COG  Name  \\\n",
       "0  05/07/2017 00:00:03  219632000  Under way using engine  0.0  270.4  None   \n",
       "1  05/07/2017 00:00:05  265650970  Under way using engine  0.0    0.5  None   \n",
       "2  05/07/2017 00:00:06  265503900  Under way using engine  0.0    0.0  None   \n",
       "3  05/07/2017 00:00:14  219632000  Under way using engine  0.0  188.4  None   \n",
       "4  05/07/2017 00:00:19  265519650  Under way using engine  0.0  357.2  None   \n",
       "\n",
       "    ShipType                   geometry  \n",
       "0  Undefined  POINT (11.85958 57.68817)  \n",
       "1  Undefined   POINT (11.84175 57.6615)  \n",
       "2  Undefined   POINT (11.9065 57.69077)  \n",
       "3  Undefined  POINT (11.85958 57.68817)  \n",
       "4  Undefined  POINT (11.87192 57.68233)  "
      ]
     },
     "execution_count": 3,
     "metadata": {},
     "output_type": "execute_result"
    }
   ],
   "source": [
    "gdf.head()"
   ]
  },
  {
   "cell_type": "markdown",
   "id": "60785123",
   "metadata": {},
   "source": [
    "And let's plot the raw data on a map:\n"
   ]
  },
  {
   "cell_type": "code",
   "execution_count": 4,
   "id": "d51af454",
   "metadata": {},
   "outputs": [
    {
     "data": {
      "application/vnd.jupyter.widget-view+json": {
       "model_id": "4bd0632c74694c1896020349cf84cd0d",
       "version_major": 2,
       "version_minor": 1
      },
      "text/plain": [
       "Map(basemap_style=<CartoBasemap.DarkMatter: 'https://basemaps.cartocdn.com/gl/dark-matter-gl-style/style.json'…"
      ]
     },
     "execution_count": 4,
     "metadata": {},
     "output_type": "execute_result"
    }
   ],
   "source": [
    "viz(gdf)"
   ]
  },
  {
   "cell_type": "markdown",
   "id": "614fa28b",
   "metadata": {},
   "source": [
    "As with the upstream example, let's remove any records where the ships aren't moving.\n"
   ]
  },
  {
   "cell_type": "code",
   "execution_count": 5,
   "id": "71f3ce4a",
   "metadata": {},
   "outputs": [
    {
     "name": "stdout",
     "output_type": "stream",
     "text": [
      "Original size: 84702 rows\n",
      "Reduced to 33593 rows after removing 0 speed records\n"
     ]
    }
   ],
   "source": [
    "print(f\"Original size: {len(gdf)} rows\")\n",
    "gdf = gdf[gdf[\"SOG\"] > 0]\n",
    "print(f\"Reduced to {len(gdf)} rows after removing 0 speed records\")\n"
   ]
  },
  {
   "cell_type": "markdown",
   "id": "fab41615",
   "metadata": {},
   "source": [
    "## Creating trajectories\n"
   ]
  },
  {
   "cell_type": "code",
   "execution_count": 6,
   "id": "3fd34558",
   "metadata": {},
   "outputs": [
    {
     "name": "stdout",
     "output_type": "stream",
     "text": [
      "Finished creating 77 trajectories\n"
     ]
    }
   ],
   "source": [
    "gdf[\"t\"] = pd.to_datetime(gdf[\"Timestamp\"], format=\"%d/%m/%Y %H:%M:%S\")\n",
    "traj_collection = mpd.TrajectoryCollection(gdf, \"MMSI\", t=\"t\", min_length=100)\n",
    "print(f\"Finished creating {len(traj_collection)} trajectories\")"
   ]
  },
  {
   "cell_type": "code",
   "execution_count": 7,
   "id": "e161ebd6",
   "metadata": {},
   "outputs": [],
   "source": [
    "traj_collection = mpd.MinTimeDeltaGeneralizer(traj_collection).generalize(\n",
    "    tolerance=timedelta(minutes=1)\n",
    ")"
   ]
  },
  {
   "cell_type": "markdown",
   "id": "f757f2d2",
   "metadata": {},
   "source": [
    "## Plotting trajectories\n"
   ]
  },
  {
   "cell_type": "code",
   "execution_count": 8,
   "id": "ffa475cf",
   "metadata": {},
   "outputs": [],
   "source": [
    "shiptype_to_color = {\n",
    "    \"Passenger\": \"blue\",\n",
    "    \"HSC\": \"green\",\n",
    "    \"Tanker\": \"red\",\n",
    "    \"Cargo\": \"orange\",\n",
    "    \"Sailing\": \"grey\",\n",
    "    \"Other\": \"grey\",\n",
    "    \"Tug\": \"grey\",\n",
    "    \"SAR\": \"grey\",\n",
    "    \"Undefined\": \"grey\",\n",
    "    \"Pleasure\": \"grey\",\n",
    "    \"Dredging\": \"grey\",\n",
    "    \"Law enforcement\": \"grey\",\n",
    "    \"Pilot\": \"grey\",\n",
    "    \"Fishing\": \"grey\",\n",
    "    \"Diving\": \"grey\",\n",
    "    \"Spare 2\": \"grey\",\n",
    "}"
   ]
  },
  {
   "cell_type": "code",
   "execution_count": 9,
   "id": "0c33f584",
   "metadata": {},
   "outputs": [],
   "source": [
    "ship_types = []\n",
    "for traj in traj_collection.trajectories:\n",
    "    unique_vals = traj.df[\"ShipType\"].unique()\n",
    "    # Apparently this is not always consistent\n",
    "    # assert len(unique_vals) == 1, \"Expected single ship type per trajectory\"\n",
    "    ship_types.append(unique_vals[0])"
   ]
  },
  {
   "cell_type": "code",
   "execution_count": 10,
   "id": "57598b6c",
   "metadata": {},
   "outputs": [],
   "source": [
    "get_color = apply_categorical_cmap(pa.array(ship_types), shiptype_to_color)"
   ]
  },
  {
   "cell_type": "code",
   "execution_count": 12,
   "id": "838bfbe5",
   "metadata": {},
   "outputs": [
    {
     "name": "stderr",
     "output_type": "stream",
     "text": [
      "/Users/kyle/github/developmentseed/lonboard/lonboard/experimental/traits.py:146: UserWarning: Reducing precision of input timestamp data to 's' to fit into available GPU precision.\n",
      "  warnings.warn(\n"
     ]
    }
   ],
   "source": [
    "trips_layer = TripsLayer.from_movingpandas(\n",
    "    traj_collection, get_color=get_color, width_min_pixels=10\n",
    ")"
   ]
  },
  {
   "cell_type": "code",
   "execution_count": 13,
   "id": "42f9829f",
   "metadata": {},
   "outputs": [],
   "source": [
    "linestring_layer = PathLayer(\n",
    "    table=trips_layer.table, get_color=get_color, width_min_pixels=1\n",
    ")"
   ]
  },
  {
   "cell_type": "code",
   "execution_count": 14,
   "id": "3d18b22e",
   "metadata": {},
   "outputs": [
    {
     "data": {
      "application/vnd.jupyter.widget-view+json": {
       "model_id": "b0a35d9c0d404f2a9228763b0358389a",
       "version_major": 2,
       "version_minor": 1
      },
      "text/plain": [
       "Map(custom_attribution='', layers=(PathLayer(get_color=arro3.core.ChunkedArray<FixedSizeList(Field { name: \"\",…"
      ]
     },
     "execution_count": 14,
     "metadata": {},
     "output_type": "execute_result"
    }
   ],
   "source": [
    "m = Map(linestring_layer)\n",
    "m"
   ]
  },
  {
   "cell_type": "code",
   "execution_count": 35,
   "id": "853030f8",
   "metadata": {},
   "outputs": [],
   "source": [
    "layer.width_min_pixels = 20"
   ]
  },
  {
   "cell_type": "code",
   "execution_count": 34,
   "id": "ff742183",
   "metadata": {},
   "outputs": [
    {
     "data": {
      "application/vnd.jupyter.widget-view+json": {
       "model_id": "40d593dcea2741afb4170777360b6ce0",
       "version_major": 2,
       "version_minor": 1
      },
      "text/plain": [
       "Map(custom_attribution='', layers=(TripsLayer(get_color=arro3.core.ChunkedArray<FixedSizeList(Field { name: \"\"…"
      ]
     },
     "execution_count": 34,
     "metadata": {},
     "output_type": "execute_result"
    }
   ],
   "source": [
    "m"
   ]
  },
  {
   "cell_type": "markdown",
   "id": "c13e89fb",
   "metadata": {},
   "source": []
  },
  {
   "cell_type": "code",
   "execution_count": null,
   "id": "134913ec",
   "metadata": {},
   "outputs": [],
   "source": [
    "traj_collection.plot(\n",
    "    column=\"ShipType\", column_to_color=shiptype_to_color, linewidth=1, capstyle=\"round\"\n",
    ")\n"
   ]
  },
  {
   "cell_type": "code",
   "execution_count": null,
   "id": "13f3379a",
   "metadata": {},
   "outputs": [],
   "source": []
  }
 ],
 "metadata": {
  "kernelspec": {
   "display_name": "lonboard",
   "language": "python",
   "name": "lonboard"
  },
  "language_info": {
   "codemirror_mode": {
    "name": "ipython",
    "version": 3
   },
   "file_extension": ".py",
   "mimetype": "text/x-python",
   "name": "python",
   "nbconvert_exporter": "python",
   "pygments_lexer": "ipython3",
   "version": "3.11.8"
  }
 },
 "nbformat": 4,
 "nbformat_minor": 5
}
