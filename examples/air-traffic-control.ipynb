{
 "cells": [
  {
   "cell_type": "markdown",
   "metadata": {},
   "source": [
    "# Air Traffic Control\n",
    "\n",
    "In this example we'll visualize air traffic control data for planes that arrive at or depart from three New York City-area airports: [JFK](https://en.wikipedia.org/wiki/John_F._Kennedy_International_Airport), [LGA](https://en.wikipedia.org/wiki/LaGuardia_Airport), and [EWR](https://en.wikipedia.org/wiki/Newark_Liberty_International_Airport).\n",
    "\n",
    "This air traffic control data comes from [adsb.lol](https://adsb.lol/), an open source project to distribute [ADSB](https://en.wikipedia.org/wiki/Automatic_Dependent_Surveillance%E2%80%93Broadcast) data.\n"
   ]
  },
  {
   "cell_type": "markdown",
   "metadata": {},
   "source": [
    "## Dependencies\n",
    "\n",
    "```\n",
    "pip install lonboard requests\n",
    "```\n"
   ]
  },
  {
   "cell_type": "markdown",
   "metadata": {},
   "source": [
    "## Imports\n"
   ]
  },
  {
   "cell_type": "code",
   "execution_count": 1,
   "metadata": {},
   "outputs": [],
   "source": [
    "from datetime import timedelta\n",
    "from io import BytesIO\n",
    "\n",
    "import requests\n",
    "from arro3.io import read_parquet\n",
    "\n",
    "from lonboard import Map\n",
    "from lonboard.experimental import TripsLayer"
   ]
  },
  {
   "cell_type": "markdown",
   "metadata": {},
   "source": [
    "The bulk ADSB files [distributed by adsb.lol](https://github.com/adsblol/globe_history_2024) are very large (~2GB). To make it easy to use this data in a demo, we've prepared an extract of only the data used in this demo.\n",
    "\n",
    "Information about how this extract was prepared is [documented in `kylebarron/adsb-extract`](https://github.com/kylebarron/adsb-extract).\n",
    "\n",
    "The Parquet file we're loading has been constructed in the specific format required by the `TripsLayer`. Airplane trajectories are stored as GeoArrow LineStrings in the `geometry` column. Timestamps are stored in the `timestamp` column in an Arrow list array, with the same nesting as the `geometry` column, so there's one timestamp per point.\n"
   ]
  },
  {
   "cell_type": "code",
   "execution_count": 2,
   "metadata": {},
   "outputs": [],
   "source": [
    "# Fetch the Parquet file and parse to an Arrow table\n",
    "url = \"https://github.com/kylebarron/adsb-extract/releases/download/v0.1/2024-10-03_traces.parquet\"\n",
    "r = requests.get(url)\n",
    "table = read_parquet(BytesIO(r.content)).read_all()"
   ]
  },
  {
   "cell_type": "markdown",
   "metadata": {},
   "source": [
    "Now we can create a `TripsLayer`. Since we already have Arrow data, we can pass it directly into the `table` argument.\n"
   ]
  },
  {
   "cell_type": "code",
   "execution_count": 3,
   "metadata": {},
   "outputs": [
    {
     "name": "stderr",
     "output_type": "stream",
     "text": [
      "/Users/kyle/github/developmentseed/lonboard/lonboard/experimental/traits.py:146: UserWarning: Reducing precision of input timestamp data to 's' to fit into available GPU precision.\n",
      "  warnings.warn(\n"
     ]
    }
   ],
   "source": [
    "layer = TripsLayer(\n",
    "    table=table,\n",
    "    get_timestamps=table[\"timestamp\"],\n",
    "    width_min_pixels=2,\n",
    "    get_color=[30, 30, 200, 200],\n",
    "    trail_length=300,\n",
    "    # Turn off tooltip data selection for better performance\n",
    "    pickable=False,\n",
    ")"
   ]
  },
  {
   "cell_type": "code",
   "execution_count": 4,
   "metadata": {},
   "outputs": [
    {
     "data": {
      "application/vnd.jupyter.widget-view+json": {
       "model_id": "f0d31eb1f2914e92b56945d43de004b9",
       "version_major": 2,
       "version_minor": 1
      },
      "text/plain": [
       "Map(custom_attribution='', layers=(TripsLayer(get_color=[30, 30, 200, 200], get_timestamps=arro3.core.ChunkedA…"
      ]
     },
     "execution_count": 4,
     "metadata": {},
     "output_type": "execute_result"
    }
   ],
   "source": [
    "m = Map(\n",
    "    layer,\n",
    "    view_state={\n",
    "        \"longitude\": -73.8,\n",
    "        \"latitude\": 40.6,\n",
    "        \"zoom\": 9.5,\n",
    "        \"pitch\": 50.6,\n",
    "        \"bearing\": 8.24,\n",
    "    },\n",
    "    # Increase height of generated map (API subject to change)\n",
    "    _height=800,\n",
    ")\n",
    "m"
   ]
  },
  {
   "cell_type": "markdown",
   "metadata": {},
   "source": [
    "Now we can animate the layer! Click the play button to watch the data animate!\n"
   ]
  },
  {
   "cell_type": "code",
   "execution_count": 5,
   "metadata": {},
   "outputs": [
    {
     "data": {
      "application/vnd.jupyter.widget-view+json": {
       "model_id": "83916b2742ef420ca5cf6d37485ab0aa",
       "version_major": 2,
       "version_minor": 0
      },
      "text/plain": [
       "Play(value=-16777216, interval=20, max=-16690817, min=-16777216, repeat=True, step=60)"
      ]
     },
     "execution_count": 5,
     "metadata": {},
     "output_type": "execute_result"
    }
   ],
   "source": [
    "layer.animate(step=timedelta(minutes=1), fps=50)"
   ]
  },
  {
   "cell_type": "markdown",
   "metadata": {},
   "source": [
    "If you wish, you can stop the animation either with the UI controls above or with `stop_animation` below:\n"
   ]
  },
  {
   "cell_type": "code",
   "execution_count": null,
   "metadata": {},
   "outputs": [],
   "source": [
    "layer.stop_animation()"
   ]
  },
  {
   "cell_type": "markdown",
   "metadata": {},
   "source": [
    "## Notes\n",
    "\n",
    "- If you see some planes moving _very fast_ between Asia and the U.S. west coast, that's due to issues in data handling around the antimeridian. When creating these data extracts in [`adsb-extract`](https://github.com/kylebarron/adsb-extract), I didn't do any special antimeridian handling, and so by default deck.gl thinks data is moving on a euclidean plane. The ideal way to solve this is to split trajectories that cross the antimeridian into two segments, but this is not yet implemented.\n"
   ]
  },
  {
   "cell_type": "code",
   "execution_count": null,
   "metadata": {},
   "outputs": [],
   "source": []
  }
 ],
 "metadata": {
  "kernelspec": {
   "display_name": "lonboard",
   "language": "python",
   "name": "lonboard"
  },
  "language_info": {
   "codemirror_mode": {
    "name": "ipython",
    "version": 3
   },
   "file_extension": ".py",
   "mimetype": "text/x-python",
   "name": "python",
   "nbconvert_exporter": "python",
   "pygments_lexer": "ipython3",
   "version": "3.11.8"
  }
 },
 "nbformat": 4,
 "nbformat_minor": 4
}
