{
 "cells": [
  {
   "cell_type": "markdown",
   "id": "0f09e1c5",
   "metadata": {},
   "source": [
    "# Speedtest Data (`ScatterplotLayer`)\n",
    "\n",
    "This example will use data collected from Ookla's Speed Test application and [shared publicly in the AWS Open Data Registry](https://registry.opendata.aws/speedtest-global-performance/). From the AWS page:\n",
    "\n",
    "> Global fixed broadband and mobile (cellular) network performance, allocated to zoom level 16 web mercator tiles (approximately 610.8 meters by 610.8 meters at the equator). Data is provided in both Shapefile format as well as Apache Parquet with geometries represented in Well Known Text (WKT) projected in EPSG:4326. Download speed, upload speed, and latency are collected via the Speedtest by Ookla applications for Android and iOS and averaged for each tile.\n",
    "\n",
    "You can view a [hosted version of this notebook on Notebook Sharing Space](https://notebooksharing.space/view/2c2fc0b1ef5f93c70a8c36de30b560d1316d16760714742dcf22a119f4991762#displayOptions=) (35MB download)."
   ]
  },
  {
   "cell_type": "markdown",
   "id": "7dd1dfef-3756-49d9-9480-9a4cdba22345",
   "metadata": {},
   "source": [
    "## Imports"
   ]
  },
  {
   "cell_type": "code",
   "execution_count": 1,
   "id": "d1678764",
   "metadata": {},
   "outputs": [],
   "source": [
    "from pathlib import Path\n",
    "\n",
    "import geopandas as gpd\n",
    "import numpy as np\n",
    "import pandas as pd\n",
    "import shapely\n",
    "from palettable.colorbrewer.diverging import BrBG_10\n",
    "\n",
    "from lonboard import Map, ScatterplotLayer\n",
    "from lonboard.colormap import apply_continuous_cmap"
   ]
  },
  {
   "cell_type": "markdown",
   "id": "d51ca576",
   "metadata": {},
   "source": [
    "## Fetch data\n",
    "\n"
   ]
  },
  {
   "cell_type": "markdown",
   "id": "c747d8b9-94b9-421a-967a-8350bf72de9a",
   "metadata": {},
   "source": [
    "The URL for a single data file for mobile network speeds in the first quarter of 2019:"
   ]
  },
  {
   "cell_type": "code",
   "execution_count": 2,
   "id": "34ac8eae",
   "metadata": {},
   "outputs": [],
   "source": [
    "url = \"https://ookla-open-data.s3.us-west-2.amazonaws.com/parquet/performance/type=mobile/year=2019/quarter=1/2019-01-01_performance_mobile_tiles.parquet\""
   ]
  },
  {
   "cell_type": "markdown",
   "id": "5991ef2c-5db0-4110-b6a1-b33fcbddad0d",
   "metadata": {},
   "source": [
    "The data used in this example is relatively large. In the cell below, we cache the downloading and preparation of the dataset so that it's faster to run this notebook the second time.\n",
    "\n",
    "We fetch two columns — `avg_d_kbps` and `tile` — from this data file directly from AWS. The `pd.read_parquet` command will perform a network request for these columns from the data file, so it may take a while on a slow network connection. `avg_d_kbps` is the average download speed for that data point in kilobits per second. `tile` is the WKT string representing a given zoom-16 Web Mercator tile.\n",
    "\n",
    "The `tile` column contains _strings_ representing WKT-formatted geometries. We need to parse those strings into geometries. Then for simplicity we'll convert into their centroids."
   ]
  },
  {
   "cell_type": "code",
   "execution_count": 3,
   "id": "7c20cb4c-9746-486f-aef7-95dd2dedd6a5",
   "metadata": {},
   "outputs": [],
   "source": [
    "local_path = Path(\"internet-speeds.parquet\")\n",
    "if local_path.exists():\n",
    "    gdf = gpd.read_parquet(local_path)\n",
    "else:\n",
    "    columns = [\"avg_d_kbps\", \"tile\"]\n",
    "    df = pd.read_parquet(url, columns=columns)\n",
    "\n",
    "    tile_geometries = shapely.from_wkt(df[\"tile\"])\n",
    "    tile_centroids = shapely.centroid(tile_geometries)\n",
    "    gdf = gpd.GeoDataFrame(df[[\"avg_d_kbps\"]], geometry=tile_centroids, crs='EPSG:4326')\n",
    "    gdf.to_parquet(local_path)"
   ]
  },
  {
   "cell_type": "markdown",
   "id": "5852aa94-2d18-4a1b-b379-be19682d57eb",
   "metadata": {},
   "source": [
    "We can take a quick look at this data:"
   ]
  },
  {
   "cell_type": "code",
   "execution_count": 4,
   "id": "4b27e9a4",
   "metadata": {},
   "outputs": [
    {
     "data": {
      "text/html": [
       "<div>\n",
       "<style scoped>\n",
       "    .dataframe tbody tr th:only-of-type {\n",
       "        vertical-align: middle;\n",
       "    }\n",
       "\n",
       "    .dataframe tbody tr th {\n",
       "        vertical-align: top;\n",
       "    }\n",
       "\n",
       "    .dataframe thead th {\n",
       "        text-align: right;\n",
       "    }\n",
       "</style>\n",
       "<table border=\"1\" class=\"dataframe\">\n",
       "  <thead>\n",
       "    <tr style=\"text-align: right;\">\n",
       "      <th></th>\n",
       "      <th>avg_d_kbps</th>\n",
       "      <th>geometry</th>\n",
       "    </tr>\n",
       "  </thead>\n",
       "  <tbody>\n",
       "    <tr>\n",
       "      <th>0</th>\n",
       "      <td>5983</td>\n",
       "      <td>POINT (-160.01862 70.63722)</td>\n",
       "    </tr>\n",
       "    <tr>\n",
       "      <th>1</th>\n",
       "      <td>3748</td>\n",
       "      <td>POINT (-160.04059 70.63357)</td>\n",
       "    </tr>\n",
       "    <tr>\n",
       "      <th>2</th>\n",
       "      <td>3364</td>\n",
       "      <td>POINT (-160.04059 70.63175)</td>\n",
       "    </tr>\n",
       "    <tr>\n",
       "      <th>3</th>\n",
       "      <td>2381</td>\n",
       "      <td>POINT (-160.03510 70.63357)</td>\n",
       "    </tr>\n",
       "    <tr>\n",
       "      <th>4</th>\n",
       "      <td>3047</td>\n",
       "      <td>POINT (-160.03510 70.63175)</td>\n",
       "    </tr>\n",
       "  </tbody>\n",
       "</table>\n",
       "</div>"
      ],
      "text/plain": [
       "   avg_d_kbps                     geometry\n",
       "0        5983  POINT (-160.01862 70.63722)\n",
       "1        3748  POINT (-160.04059 70.63357)\n",
       "2        3364  POINT (-160.04059 70.63175)\n",
       "3        2381  POINT (-160.03510 70.63357)\n",
       "4        3047  POINT (-160.03510 70.63175)"
      ]
     },
     "execution_count": 4,
     "metadata": {},
     "output_type": "execute_result"
    }
   ],
   "source": [
    "gdf.head()"
   ]
  },
  {
   "cell_type": "markdown",
   "id": "65436a4a-c498-4f40-ba79-1082062376bf",
   "metadata": {},
   "source": [
    "To ensure that this demo is snappy on most computers, we'll filter to a bounding box over Europe.\n",
    "\n",
    "If you're on a recent computer, feel free to comment out the next line."
   ]
  },
  {
   "cell_type": "code",
   "execution_count": 5,
   "id": "80326895-70ba-4f4b-a7b3-106b4bbd36d9",
   "metadata": {},
   "outputs": [],
   "source": [
    "gdf = gdf.cx[-11.83:25.5, 34.9:59]"
   ]
  },
  {
   "cell_type": "markdown",
   "id": "3cc2215e-7706-4ab3-b674-3de4ca41899c",
   "metadata": {},
   "source": [
    "Even this filtered data frame still has 800,000 rows, so it's still a lot of data to explore:"
   ]
  },
  {
   "cell_type": "code",
   "execution_count": 6,
   "id": "a34a6a27-0259-4da9-94c4-923466da05fb",
   "metadata": {},
   "outputs": [
    {
     "data": {
      "text/html": [
       "<div>\n",
       "<style scoped>\n",
       "    .dataframe tbody tr th:only-of-type {\n",
       "        vertical-align: middle;\n",
       "    }\n",
       "\n",
       "    .dataframe tbody tr th {\n",
       "        vertical-align: top;\n",
       "    }\n",
       "\n",
       "    .dataframe thead th {\n",
       "        text-align: right;\n",
       "    }\n",
       "</style>\n",
       "<table border=\"1\" class=\"dataframe\">\n",
       "  <thead>\n",
       "    <tr style=\"text-align: right;\">\n",
       "      <th></th>\n",
       "      <th>avg_d_kbps</th>\n",
       "      <th>geometry</th>\n",
       "    </tr>\n",
       "  </thead>\n",
       "  <tbody>\n",
       "    <tr>\n",
       "      <th>0</th>\n",
       "      <td>5983</td>\n",
       "      <td>POINT (-160.01862 70.63722)</td>\n",
       "    </tr>\n",
       "    <tr>\n",
       "      <th>1</th>\n",
       "      <td>3748</td>\n",
       "      <td>POINT (-160.04059 70.63357)</td>\n",
       "    </tr>\n",
       "    <tr>\n",
       "      <th>2</th>\n",
       "      <td>3364</td>\n",
       "      <td>POINT (-160.04059 70.63175)</td>\n",
       "    </tr>\n",
       "    <tr>\n",
       "      <th>3</th>\n",
       "      <td>2381</td>\n",
       "      <td>POINT (-160.03510 70.63357)</td>\n",
       "    </tr>\n",
       "    <tr>\n",
       "      <th>4</th>\n",
       "      <td>3047</td>\n",
       "      <td>POINT (-160.03510 70.63175)</td>\n",
       "    </tr>\n",
       "    <tr>\n",
       "      <th>...</th>\n",
       "      <td>...</td>\n",
       "      <td>...</td>\n",
       "    </tr>\n",
       "    <tr>\n",
       "      <th>3231240</th>\n",
       "      <td>19528</td>\n",
       "      <td>POINT (169.81842 -46.29571)</td>\n",
       "    </tr>\n",
       "    <tr>\n",
       "      <th>3231241</th>\n",
       "      <td>15693</td>\n",
       "      <td>POINT (169.81293 -46.30710)</td>\n",
       "    </tr>\n",
       "    <tr>\n",
       "      <th>3231242</th>\n",
       "      <td>26747</td>\n",
       "      <td>POINT (169.66461 -46.42082)</td>\n",
       "    </tr>\n",
       "    <tr>\n",
       "      <th>3231243</th>\n",
       "      <td>67995</td>\n",
       "      <td>POINT (169.65912 -46.45110)</td>\n",
       "    </tr>\n",
       "    <tr>\n",
       "      <th>3231244</th>\n",
       "      <td>1230</td>\n",
       "      <td>POINT (168.85162 -46.56075)</td>\n",
       "    </tr>\n",
       "  </tbody>\n",
       "</table>\n",
       "<p>3231245 rows × 2 columns</p>\n",
       "</div>"
      ],
      "text/plain": [
       "         avg_d_kbps                     geometry\n",
       "0              5983  POINT (-160.01862 70.63722)\n",
       "1              3748  POINT (-160.04059 70.63357)\n",
       "2              3364  POINT (-160.04059 70.63175)\n",
       "3              2381  POINT (-160.03510 70.63357)\n",
       "4              3047  POINT (-160.03510 70.63175)\n",
       "...             ...                          ...\n",
       "3231240       19528  POINT (169.81842 -46.29571)\n",
       "3231241       15693  POINT (169.81293 -46.30710)\n",
       "3231242       26747  POINT (169.66461 -46.42082)\n",
       "3231243       67995  POINT (169.65912 -46.45110)\n",
       "3231244        1230  POINT (168.85162 -46.56075)\n",
       "\n",
       "[3231245 rows x 2 columns]"
      ]
     },
     "execution_count": 6,
     "metadata": {},
     "output_type": "execute_result"
    }
   ],
   "source": [
    "gdf"
   ]
  },
  {
   "cell_type": "markdown",
   "id": "81a61ec4-2a09-40c0-aa92-7dca570bbd49",
   "metadata": {},
   "source": [
    "To render point data, first create a `ScatterplotLayer` and then add it to a `Map` object:"
   ]
  },
  {
   "cell_type": "code",
   "execution_count": 7,
   "id": "570ab332-3767-4246-8d83-df4625b2ae48",
   "metadata": {},
   "outputs": [
    {
     "data": {
      "application/vnd.jupyter.widget-view+json": {
       "model_id": "93ebf1b446784969877cf66f8f455615",
       "version_major": 2,
       "version_minor": 0
      },
      "text/plain": [
       "Map(layers=[ScatterplotLayer(table=pyarrow.Table\n",
       "avg_d_kbps: uint32\n",
       "geometry: fixed_size_list<item: double>[2]…"
      ]
     },
     "execution_count": 7,
     "metadata": {},
     "output_type": "execute_result"
    }
   ],
   "source": [
    "layer = ScatterplotLayer.from_geopandas(gdf)\n",
    "m = Map(layer)\n",
    "m"
   ]
  },
  {
   "cell_type": "markdown",
   "id": "6f4d89c3-282a-4beb-9f35-68eb9645e8c0",
   "metadata": {},
   "source": [
    "We can look at the [documentation for `ScatterplotLayer`](https://developmentseed.org/lonboard/latest/api/layers/scatterplot-layer/) to see what other rendering options it allows. Let's set the fill color to something other than black:"
   ]
  },
  {
   "cell_type": "code",
   "execution_count": 8,
   "id": "3912b241-577f-4ac3-b78f-2702e89d6010",
   "metadata": {},
   "outputs": [],
   "source": [
    "layer.get_fill_color = [0, 0, 200, 200]"
   ]
  },
  {
   "cell_type": "markdown",
   "id": "b66a73b6-69c1-4661-a7ad-2dd3941c8753",
   "metadata": {},
   "source": [
    "Blue is pretty, but the map would be more informative if we colored each point by a relevant characteristic. In this case, we have the download speed associated with each location, so let's use that!"
   ]
  },
  {
   "cell_type": "markdown",
   "id": "ce630455-3e19-47f1-bb69-81fdcd99b126",
   "metadata": {},
   "source": [
    "Here we compute a linear statistic for the download speed. Given a minimum bound of `5000` and a maximum bound of `50,000` the normalized speed is linearly scaled to between 0 and 1."
   ]
  },
  {
   "cell_type": "code",
   "execution_count": 9,
   "id": "179071b3",
   "metadata": {},
   "outputs": [],
   "source": [
    "min_bound = 5000\n",
    "max_bound = 50000\n",
    "download_speed = gdf['avg_d_kbps']\n",
    "normalized_download_speed = (download_speed - min_bound) / (max_bound - min_bound)"
   ]
  },
  {
   "cell_type": "markdown",
   "id": "7f678b8e-ad23-4ebd-842c-c5158e1ec741",
   "metadata": {},
   "source": [
    "`normalized_download_speed` is now linearly scaled based on the bounds provided above. Keep in mind that the **input range of the colormap is 0-1**. So any values that are below 0 will receive the left-most color in the colormap, while any values above 1 will receive the right-most color in the colormap."
   ]
  },
  {
   "cell_type": "code",
   "execution_count": 10,
   "id": "a8df3963-2bc2-4f89-8a38-20e232a13932",
   "metadata": {},
   "outputs": [
    {
     "data": {
      "text/plain": [
       "0          0.021844\n",
       "1         -0.027822\n",
       "2         -0.036356\n",
       "3         -0.058200\n",
       "4         -0.043400\n",
       "             ...   \n",
       "3231240    0.322844\n",
       "3231241    0.237622\n",
       "3231242    0.483267\n",
       "3231243    1.399889\n",
       "3231244   -0.083778\n",
       "Name: avg_d_kbps, Length: 3231245, dtype: float64"
      ]
     },
     "execution_count": 10,
     "metadata": {},
     "output_type": "execute_result"
    }
   ],
   "source": [
    "normalized_download_speed"
   ]
  },
  {
   "cell_type": "markdown",
   "id": "dc0e388f-eeed-4339-bd54-0491f79f45aa",
   "metadata": {},
   "source": [
    "We can use any colormap provided by the [`palettable`](https://github.com/jiffyclub/palettable) package. Let's inspect the `BrBG_10` diverging colormap below:"
   ]
  },
  {
   "cell_type": "code",
   "execution_count": 11,
   "id": "9d5347e2-84c7-40bc-af45-c8638188709e",
   "metadata": {},
   "outputs": [
    {
     "data": {
      "image/png": "[encoded data removed]",
      "text/html": [
       "<div style=\"vertical-align: middle;\"><strong>BrBG</strong> </div><div class=\"cmap\"><img alt=\"BrBG colormap\" title=\"BrBG\" style=\"border: 1px solid #555;\" src=\"data:image/png;base64,iVBORw0KGgoAAAANSUhEUgAAAgAAAABACAYAAABsv8+/AAAAE3RFWHRUaXRsZQBCckJHIGNvbG9ybWFwMTXIUAAAABl0RVh0RGVzY3JpcHRpb24AQnJCRyBjb2xvcm1hcLqHWMgAAAAwdEVYdEF1dGhvcgBNYXRwbG90bGliIHYzLjcuNSwgaHR0cHM6Ly9tYXRwbG90bGliLm9yZ9ESsrYAAAAydEVYdFNvZnR3YXJlAE1hdHBsb3RsaWIgdjMuNy41LCBodHRwczovL21hdHBsb3RsaWIub3Jn/7QtkQAAAilJREFUeJzt1k1u2zAURlGSQffTxXT/O7GYgSUHejahBPGgwHfOROWPKCYBitv//f0zW2ut99Zaa21cPu//GOPd+/t5/O7949h/39iP8WP+GI/TfO9l3yj79vXn88bL9/riO/Ueva4v7tHLd/rHx/7+6+d4rI/z+uq9sn8s18u5i/PG4tyrexz3bsffr5f3HvP7vnEer/a3Xu6x2N/K+V/7X8+3i++u7jn3v/Ns9+fWxv6s8+f15/lvnvPj7/32fne3Oe/j/XmbWxkf69ti/2/XV9970/q2nZ5bGd+2uZg/9pdzZj1nlv3fO/9p3/zhPco5x88763xZr/NzMb967+n8i/eX56/us1hv+++97b+Hr/GxPi/G/+n7+779fysAIIkAAIBAAgAAAgkAAAgkAAAgkAAAgEACAAACCQAACCQAACCQAACAQAIAAAIJAAAIJAAAIJAAAIBAAgAAAgkAAAgkAAAgkAAAgEACAAACCQAACCQAACCQAACAQAIAAAIJAAAIJAAAIJAAAIBAAgAAAgkAAAgkAAAgkAAAgEACAAACCQAACCQAACCQAACAQAIAAAIJAAAIJAAAIJAAAIBAAgAAAgkAAAgkAAAgkAAAgEACAAACCQAACCQAACCQAACAQAIAAAIJAAAIJAAAIJAAAIBAAgAAAgkAAAgkAAAgkAAAgEACAAACCQAACCQAACCQAACAQAIAAAIJAAAIJAAAIJAAAIBAAgAAAn0CyK5V+uT9Ti4AAAAASUVORK5CYII=\"></div><div style=\"vertical-align: middle; max-width: 514px; display: flex; justify-content: space-between;\"><div style=\"float: left;\"><div title=\"#543005ff\" style=\"display: inline-block; width: 1em; height: 1em; margin: 0; vertical-align: middle; border: 1px solid #555; background-color: #543005ff;\"></div> under</div><div style=\"margin: 0 auto; display: inline-block;\">bad <div title=\"#00000000\" style=\"display: inline-block; width: 1em; height: 1em; margin: 0; vertical-align: middle; border: 1px solid #555; background-color: #00000000;\"></div></div><div style=\"float: right;\">over <div title=\"#003c30ff\" style=\"display: inline-block; width: 1em; height: 1em; margin: 0; vertical-align: middle; border: 1px solid #555; background-color: #003c30ff;\"></div></div>"
      ],
      "text/plain": [
       "<matplotlib.colors.LinearSegmentedColormap at 0x2caa32cd0>"
      ]
     },
     "execution_count": 11,
     "metadata": {},
     "output_type": "execute_result"
    }
   ],
   "source": [
    "BrBG_10.mpl_colormap"
   ]
  },
  {
   "cell_type": "markdown",
   "id": "8eb59fd6-3b7d-4db9-ad9b-a66e4e58152f",
   "metadata": {},
   "source": [
    "Now let's apply the colormap on `normalized_download_speed` using a helper provided by `lonboard`. We can set it on `layer.get_fill_color` to update the existing colors."
   ]
  },
  {
   "cell_type": "code",
   "execution_count": 12,
   "id": "5a77f728-9cbe-4372-9bfd-d6dee4b93a01",
   "metadata": {},
   "outputs": [],
   "source": [
    "layer.get_fill_color = apply_continuous_cmap(normalized_download_speed, BrBG_10, alpha=0.7)"
   ]
  },
  {
   "cell_type": "markdown",
   "id": "44611c75-f9e6-4f53-af7d-c640d641dc15",
   "metadata": {},
   "source": [
    "After running the above cell, you should see the map above update with a different color per point!"
   ]
  },
  {
   "cell_type": "markdown",
   "id": "0bd168fe-53a1-4313-9c11-720edbfa5c6c",
   "metadata": {},
   "source": [
    "We can pass an array into any of the \"accessors\" supported by the layer (this is any attribute that starts with `get_*`).\n",
    "\n",
    "For demonstration purposes, let's also set `get_radius` to `normalized_download_speed`."
   ]
  },
  {
   "cell_type": "code",
   "execution_count": 13,
   "id": "579233ef-e077-4c8f-a111-f33d44f30a0d",
   "metadata": {},
   "outputs": [],
   "source": [
    "layer.get_radius = normalized_download_speed * 200\n",
    "layer.radius_units = \"meters\"\n",
    "layer.radius_min_pixels = 0.5"
   ]
  },
  {
   "cell_type": "markdown",
   "id": "06e2338e-8461-49f7-9884-475fffc64789",
   "metadata": {},
   "source": [
    "After running the above cell, you should see the map updated to have a different radius per point!"
   ]
  }
 ],
 "metadata": {
  "kernelspec": {
   "display_name": "lonboard",
   "language": "python",
   "name": "lonboard"
  },
  "language_info": {
   "codemirror_mode": {
    "name": "ipython",
    "version": 3
   },
   "file_extension": ".py",
   "mimetype": "text/x-python",
   "name": "python",
   "nbconvert_exporter": "python",
   "pygments_lexer": "ipython3",
   "version": "3.11.4"
  },
  "widgets": {
   "application/vnd.jupyter.widget-state+json": {
    "state": {},
    "version_major": 2,
    "version_minor": 0
   }
  }
 },
 "nbformat": 4,
 "nbformat_minor": 5
}
