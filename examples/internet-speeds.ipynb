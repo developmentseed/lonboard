{
 "cells": [
  {
   "cell_type": "markdown",
   "id": "0f09e1c5",
   "metadata": {},
   "source": [
    "# Speedtest Data (`ScatterplotLayer`)\n",
    "\n",
    "This example will use data collected from Ookla's Speed Test application and [shared publicly in the AWS Open Data Registry](https://registry.opendata.aws/speedtest-global-performance/). From the AWS page:\n",
    "\n",
    "> Global fixed broadband and mobile (cellular) network performance, allocated to zoom level 16 web mercator tiles (approximately 610.8 meters by 610.8 meters at the equator). Data is provided in both Shapefile format as well as Apache Parquet with geometries represented in Well Known Text (WKT) projected in EPSG:4326. Download speed, upload speed, and latency are collected via the Speedtest by Ookla applications for Android and iOS and averaged for each tile.\n",
    "\n",
    "You can view a [hosted version of this notebook on Notebook Sharing Space](https://notebooksharing.space/view/2c2fc0b1ef5f93c70a8c36de30b560d1316d16760714742dcf22a119f4991762#displayOptions=) (35MB download)."
   ]
  },
  {
   "cell_type": "markdown",
   "id": "7dd1dfef-3756-49d9-9480-9a4cdba22345",
   "metadata": {},
   "source": [
    "## Imports"
   ]
  },
  {
   "cell_type": "code",
   "execution_count": 1,
   "id": "d1678764",
   "metadata": {},
   "outputs": [],
   "source": [
    "from pathlib import Path\n",
    "import pyarrow as pa\n",
    "\n",
    "from arro3.core import Array, Table, DataType, ChunkedArray\n",
    "import geopandas as gpd\n",
    "import numpy as np\n",
    "import pandas as pd\n",
    "import shapely\n",
    "from palettable.colorbrewer.diverging import BrBG_10\n",
    "\n",
    "import quak\n",
    "from lonboard import Map, ScatterplotLayer\n",
    "from lonboard.colormap import apply_continuous_cmap\n",
    "from lonboard.layer_extension import DataFilterExtension"
   ]
  },
  {
   "cell_type": "code",
   "execution_count": 2,
   "id": "1ae334fe-bb36-4ab2-9b8c-b2fe10bd4038",
   "metadata": {},
   "outputs": [],
   "source": [
    "import sqlglot"
   ]
  },
  {
   "cell_type": "markdown",
   "id": "d51ca576",
   "metadata": {},
   "source": [
    "## Fetch data\n",
    "\n"
   ]
  },
  {
   "cell_type": "code",
   "execution_count": 3,
   "id": "34ac8eae",
   "metadata": {},
   "outputs": [],
   "source": [
    "url = \"https://ookla-open-data.s3.us-west-2.amazonaws.com/parquet/performance/type=mobile/year=2019/quarter=1/2019-01-01_performance_mobile_tiles.parquet\""
   ]
  },
  {
   "cell_type": "code",
   "execution_count": 4,
   "id": "7c20cb4c-9746-486f-aef7-95dd2dedd6a5",
   "metadata": {},
   "outputs": [],
   "source": [
    "local_path = Path(\"internet-speeds.parquet\")\n",
    "if local_path.exists():\n",
    "    gdf = gpd.read_parquet(local_path)\n",
    "else:\n",
    "    columns = [\"avg_d_kbps\", \"tile\"]\n",
    "    df = pd.read_parquet(url, columns=columns)\n",
    "\n",
    "    tile_geometries = shapely.from_wkt(df[\"tile\"])\n",
    "    tile_centroids = shapely.centroid(tile_geometries)\n",
    "    gdf = gpd.GeoDataFrame(df[[\"avg_d_kbps\"]], geometry=tile_centroids, crs='EPSG:4326')\n",
    "    gdf.to_parquet(local_path)"
   ]
  },
  {
   "cell_type": "code",
   "execution_count": 5,
   "id": "4b27e9a4",
   "metadata": {},
   "outputs": [
    {
     "data": {
      "text/html": [
       "<div>\n",
       "<style scoped>\n",
       "    .dataframe tbody tr th:only-of-type {\n",
       "        vertical-align: middle;\n",
       "    }\n",
       "\n",
       "    .dataframe tbody tr th {\n",
       "        vertical-align: top;\n",
       "    }\n",
       "\n",
       "    .dataframe thead th {\n",
       "        text-align: right;\n",
       "    }\n",
       "</style>\n",
       "<table border=\"1\" class=\"dataframe\">\n",
       "  <thead>\n",
       "    <tr style=\"text-align: right;\">\n",
       "      <th></th>\n",
       "      <th>avg_d_kbps</th>\n",
       "      <th>geometry</th>\n",
       "    </tr>\n",
       "  </thead>\n",
       "  <tbody>\n",
       "    <tr>\n",
       "      <th>0</th>\n",
       "      <td>5983</td>\n",
       "      <td>POINT (-160.01862 70.63722)</td>\n",
       "    </tr>\n",
       "    <tr>\n",
       "      <th>1</th>\n",
       "      <td>3748</td>\n",
       "      <td>POINT (-160.04059 70.63357)</td>\n",
       "    </tr>\n",
       "    <tr>\n",
       "      <th>2</th>\n",
       "      <td>3364</td>\n",
       "      <td>POINT (-160.04059 70.63175)</td>\n",
       "    </tr>\n",
       "    <tr>\n",
       "      <th>3</th>\n",
       "      <td>2381</td>\n",
       "      <td>POINT (-160.0351 70.63357)</td>\n",
       "    </tr>\n",
       "    <tr>\n",
       "      <th>4</th>\n",
       "      <td>3047</td>\n",
       "      <td>POINT (-160.0351 70.63175)</td>\n",
       "    </tr>\n",
       "  </tbody>\n",
       "</table>\n",
       "</div>"
      ],
      "text/plain": [
       "   avg_d_kbps                     geometry\n",
       "0        5983  POINT (-160.01862 70.63722)\n",
       "1        3748  POINT (-160.04059 70.63357)\n",
       "2        3364  POINT (-160.04059 70.63175)\n",
       "3        2381   POINT (-160.0351 70.63357)\n",
       "4        3047   POINT (-160.0351 70.63175)"
      ]
     },
     "execution_count": 5,
     "metadata": {},
     "output_type": "execute_result"
    }
   ],
   "source": [
    "gdf.head()"
   ]
  },
  {
   "cell_type": "code",
   "execution_count": 6,
   "id": "5bcebd7c-58d4-487e-b191-a27e4ffb6349",
   "metadata": {},
   "outputs": [
    {
     "name": "stdout",
     "output_type": "stream",
     "text": [
      "added_names\n",
      "[]\n"
     ]
    }
   ],
   "source": [
    "layer = ScatterplotLayer.from_geopandas(gdf)"
   ]
  },
  {
   "cell_type": "code",
   "execution_count": 7,
   "id": "77abfe2b-8c6b-4c14-ad4a-9562feb33768",
   "metadata": {},
   "outputs": [],
   "source": [
    "ext = DataFilterExtension(category_size=1)"
   ]
  },
  {
   "cell_type": "code",
   "execution_count": 8,
   "id": "3764dd90-e512-4a87-89d8-bfc90e05acab",
   "metadata": {},
   "outputs": [
    {
     "name": "stdout",
     "output_type": "stream",
     "text": [
      "calling add traits\n",
      "{'filter_categories': <traitlets.traitlets.Union object at 0x17e5696d0>, 'filter_enabled': <traitlets.traitlets.Bool object at 0x17e505d90>, 'filter_range': <traitlets.traitlets.Union object at 0x17e569e10>, 'filter_soft_range': <traitlets.traitlets.Tuple object at 0x17e56a050>, 'filter_transform_size': <traitlets.traitlets.Bool object at 0x17e56a0d0>, 'filter_transform_color': <traitlets.traitlets.Bool object at 0x17e56a1d0>, 'get_filter_value': <lonboard.traits.FilterValueAccessor object at 0x17e56a250>, 'get_filter_category': <lonboard.traits.FilterValueAccessor object at 0x17e56a350>}\n"
     ]
    }
   ],
   "source": [
    "layer.add_extension(ext)"
   ]
  },
  {
   "cell_type": "code",
   "execution_count": 9,
   "id": "dfc39cc6-200c-4f26-ba93-a446185f0ff3",
   "metadata": {},
   "outputs": [],
   "source": [
    "table = layer.table\n",
    "num_rows = table.num_rows\n",
    "if num_rows <= np.iinfo(np.uint8).max:\n",
    "    row_index = Array.from_numpy(np.arange(num_rows, dtype=np.uint8))\n",
    "    filter_arr = np.ones(num_rows, dtype=np.float32)\n",
    "elif num_rows <= np.iinfo(np.uint16).max:\n",
    "    row_index = Array.from_numpy(np.arange(num_rows, dtype=np.uint16))\n",
    "    filter_arr = np.ones(num_rows, dtype=np.float32)\n",
    "elif num_rows <= np.iinfo(np.uint32).max:\n",
    "    row_index = Array.from_numpy(np.arange(num_rows, dtype=np.uint32))\n",
    "    filter_arr = np.ones(num_rows, dtype=np.float32)\n",
    "else:\n",
    "    row_index = Array.from_numpy(np.arange(num_rows, dtype=np.uint64))\n",
    "    filter_arr = np.ones(num_rows, dtype=np.float32)\n",
    "\n",
    "table_with_row_index = table.append_column(\"_row_index\", ChunkedArray(row_index))\n",
    "quak_widget = quak.Widget(table_with_row_index)"
   ]
  },
  {
   "cell_type": "code",
   "execution_count": 10,
   "id": "9dee0cf6-3082-4403-92b0-124cbb99e667",
   "metadata": {
    "scrolled": true
   },
   "outputs": [
    {
     "data": {
      "application/vnd.jupyter.widget-view+json": {
       "model_id": "58913ce13cef47149625f6940735e6b8",
       "version_major": 2,
       "version_minor": 1
      },
      "text/plain": [
       "Widget(sql='SELECT * FROM \"df\"', temp_indexes=True)"
      ]
     },
     "execution_count": 10,
     "metadata": {},
     "output_type": "execute_result"
    }
   ],
   "source": [
    "quak_widget"
   ]
  },
  {
   "cell_type": "code",
   "execution_count": 21,
   "id": "bd4431d9-93af-492d-aa4f-e7ca5d394ed0",
   "metadata": {},
   "outputs": [
    {
     "data": {
      "application/vnd.jupyter.widget-view+json": {
       "model_id": "0c81a699d5f44adf98912538fddf2032",
       "version_major": 2,
       "version_minor": 1
      },
      "text/plain": [
       "Map(custom_attribution='', layers=[ScatterplotLayer(extensions=[DataFilterExtension()], filter_categories=[1],…"
      ]
     },
     "execution_count": 21,
     "metadata": {},
     "output_type": "execute_result"
    }
   ],
   "source": [
    "m"
   ]
  },
  {
   "cell_type": "code",
   "execution_count": 19,
   "id": "a99da0b6-ce83-49d7-b7a8-85b23377dcec",
   "metadata": {},
   "outputs": [
    {
     "data": {
      "application/vnd.jupyter.widget-view+json": {
       "model_id": "0c81a699d5f44adf98912538fddf2032",
       "version_major": 2,
       "version_minor": 1
      },
      "text/plain": [
       "Map(custom_attribution='', layers=[ScatterplotLayer(extensions=[DataFilterExtension()], filter_categories=[1],…"
      ]
     },
     "execution_count": 19,
     "metadata": {},
     "output_type": "execute_result"
    }
   ],
   "source": [
    "m = Map(layer)\n",
    "m"
   ]
  },
  {
   "cell_type": "code",
   "execution_count": 11,
   "id": "1a43a9fa-bed7-4eae-97c8-2524eda01781",
   "metadata": {},
   "outputs": [
    {
     "data": {
      "text/plain": [
       "array([1., 1., 1., ..., 1., 1., 1.], dtype=float32)"
      ]
     },
     "execution_count": 11,
     "metadata": {},
     "output_type": "execute_result"
    }
   ],
   "source": [
    "filter_arr"
   ]
  },
  {
   "cell_type": "code",
   "execution_count": 12,
   "id": "e55c9d4f-26ee-45d4-a006-d2f19967ad1d",
   "metadata": {},
   "outputs": [
    {
     "data": {
      "text/plain": [
       "[DataFilterExtension()]"
      ]
     },
     "execution_count": 12,
     "metadata": {},
     "output_type": "execute_result"
    }
   ],
   "source": [
    "layer.extensions"
   ]
  },
  {
   "cell_type": "code",
   "execution_count": 13,
   "id": "8b94a3ae-ba93-4e7b-9b85-f85125beb712",
   "metadata": {},
   "outputs": [],
   "source": [
    "# layer.extensions = [ext]\n",
    "layer.get_filter_category = filter_arr\n",
    "layer.filter_categories = [1]"
   ]
  },
  {
   "cell_type": "code",
   "execution_count": 14,
   "id": "41b96069-4bae-412f-a502-15cc1ee0da92",
   "metadata": {},
   "outputs": [],
   "source": [
    "def row_index_callback(change):\n",
    "    sql = sqlglot.parse_one(quak_widget.sql, dialect=\"duckdb\")\n",
    "    sql.set(\"expressions\", [sqlglot.column(\"_row_index\")])\n",
    "    row_index_table = quak_widget._conn.query(sql.sql(dialect=\"duckdb\")).arrow()\n",
    "\n",
    "    # Reset all to 2. We don't use zero because there might be a bug with 0\n",
    "    filter_arr[:] = 2\n",
    "\n",
    "    # Set the desired _row_index to 1\n",
    "    filter_arr[row_index_table[\"_row_index\"]] = 1\n",
    "\n",
    "    layer.get_filter_category = filter_arr\n",
    "\n",
    "quak_widget.observe(row_index_callback, names=\"sql\")"
   ]
  },
  {
   "cell_type": "code",
   "execution_count": 15,
   "id": "ef7decf8-5d7f-49f2-be44-9a4198327cdf",
   "metadata": {},
   "outputs": [
    {
     "data": {
      "text/plain": [
       "arro3.core.Array<Float32>"
      ]
     },
     "execution_count": 15,
     "metadata": {},
     "output_type": "execute_result"
    }
   ],
   "source": [
    "layer.get_filter_category"
   ]
  },
  {
   "cell_type": "code",
   "execution_count": 17,
   "id": "b7ea012c-7ab8-49c6-86bc-859ee345b761",
   "metadata": {},
   "outputs": [],
   "source": [
    "layer.send_state()"
   ]
  },
  {
   "cell_type": "code",
   "execution_count": 18,
   "id": "0215bbce-97b3-48fb-a185-426a431b3c3a",
   "metadata": {},
   "outputs": [
    {
     "data": {
      "text/plain": [
       "[1]"
      ]
     },
     "execution_count": 18,
     "metadata": {},
     "output_type": "execute_result"
    }
   ],
   "source": [
    "layer.filter_categories"
   ]
  },
  {
   "cell_type": "code",
   "execution_count": null,
   "id": "c64b53f9-5f32-4afe-8bd0-56bd69b453c0",
   "metadata": {},
   "outputs": [],
   "source": []
  },
  {
   "cell_type": "code",
   "execution_count": 30,
   "id": "a238c681-6ebc-4977-9aef-cbd93d8a1640",
   "metadata": {},
   "outputs": [],
   "source": [
    "gdf[\"slow\"] = gdf[\"avg_d_kbps\"] < 5000"
   ]
  },
  {
   "cell_type": "code",
   "execution_count": 6,
   "id": "6e3a8ad3-af0e-45e8-b0dc-277ee2a59ccf",
   "metadata": {},
   "outputs": [],
   "source": [
    "from lonboard.layer_extension import DataFilterExtension"
   ]
  },
  {
   "cell_type": "code",
   "execution_count": 7,
   "id": "47517cd2-e886-4aeb-a266-a609c97c0cb6",
   "metadata": {},
   "outputs": [],
   "source": [
    "ext = DataFilterExtension(category_size=1)"
   ]
  },
  {
   "cell_type": "code",
   "execution_count": 16,
   "id": "2daf3b7c-fadb-461f-b1c1-6a834eb71df7",
   "metadata": {},
   "outputs": [
    {
     "data": {
      "application/vnd.jupyter.widget-view+json": {
       "model_id": "28b673727f4e4506ae9d8551acbf5fab",
       "version_major": 2,
       "version_minor": 1
      },
      "text/plain": [
       "Map(custom_attribution='', layers=[ScatterplotLayer(extensions=[DataFilterExtension()], filter_categories=[0],…"
      ]
     },
     "execution_count": 16,
     "metadata": {},
     "output_type": "execute_result"
    }
   ],
   "source": [
    "layer = ScatterplotLayer.from_geopandas(\n",
    "    gdf,\n",
    "    get_filter_category = gdf[\"slow\"].astype(np.float32),\n",
    "    filter_categories = [0],\n",
    "    extensions=[ext]\n",
    "                                       )\n",
    "m = Map(layer)\n",
    "m"
   ]
  },
  {
   "cell_type": "code",
   "execution_count": 24,
   "id": "f6dc26f8-34ac-48f4-b3f4-2c9da083be16",
   "metadata": {},
   "outputs": [],
   "source": [
    "layer.filter_categories = [0]"
   ]
  },
  {
   "cell_type": "code",
   "execution_count": 15,
   "id": "f51b34e8-a903-4a41-a9ad-78120b7bb63d",
   "metadata": {},
   "outputs": [
    {
     "data": {
      "text/plain": [
       "[1]"
      ]
     },
     "execution_count": 15,
     "metadata": {},
     "output_type": "execute_result"
    }
   ],
   "source": [
    "layer.filter_categories"
   ]
  },
  {
   "cell_type": "code",
   "execution_count": 11,
   "id": "e93bcb7f-6de8-4eca-91fe-19febbcd5ae7",
   "metadata": {},
   "outputs": [
    {
     "data": {
      "text/plain": [
       "array([0., 1., 1., ..., 0., 0., 1.], dtype=float32)"
      ]
     },
     "execution_count": 11,
     "metadata": {},
     "output_type": "execute_result"
    }
   ],
   "source": [
    "np.array(layer.get_filter_category)"
   ]
  },
  {
   "cell_type": "code",
   "execution_count": 9,
   "id": "66128647-702e-4902-a29d-4edd7c852eed",
   "metadata": {},
   "outputs": [],
   "source": [
    "ext = DataFilterExtension(category_size=1)"
   ]
  },
  {
   "cell_type": "code",
   "execution_count": 12,
   "id": "2aa68b6c-72a3-4e27-a98a-90b1f404a34c",
   "metadata": {},
   "outputs": [],
   "source": [
    "layer.extensions = [ext]"
   ]
  },
  {
   "cell_type": "code",
   "execution_count": 14,
   "id": "44a4852c-385f-42da-a8a0-115c16135b9f",
   "metadata": {},
   "outputs": [],
   "source": [
    "layer.get_filter_category = gdf[\"slow\"]"
   ]
  },
  {
   "cell_type": "code",
   "execution_count": 15,
   "id": "9eb20ef9-8bf7-4a1c-a6e0-9c56720d20d0",
   "metadata": {},
   "outputs": [],
   "source": [
    "layer.filter_categories = [0]"
   ]
  },
  {
   "cell_type": "markdown",
   "id": "65436a4a-c498-4f40-ba79-1082062376bf",
   "metadata": {},
   "source": [
    "To ensure that this demo is snappy on most computers, we'll filter to a bounding box over Europe.\n",
    "\n",
    "If you're on a recent computer, feel free to comment out the next line."
   ]
  },
  {
   "cell_type": "markdown",
   "id": "3cc2215e-7706-4ab3-b674-3de4ca41899c",
   "metadata": {},
   "source": [
    "Even this filtered data frame still has 800,000 rows, so it's still a lot of data to explore:"
   ]
  },
  {
   "cell_type": "code",
   "execution_count": 6,
   "id": "a34a6a27-0259-4da9-94c4-923466da05fb",
   "metadata": {},
   "outputs": [
    {
     "data": {
      "text/html": [
       "<div>\n",
       "<style scoped>\n",
       "    .dataframe tbody tr th:only-of-type {\n",
       "        vertical-align: middle;\n",
       "    }\n",
       "\n",
       "    .dataframe tbody tr th {\n",
       "        vertical-align: top;\n",
       "    }\n",
       "\n",
       "    .dataframe thead th {\n",
       "        text-align: right;\n",
       "    }\n",
       "</style>\n",
       "<table border=\"1\" class=\"dataframe\">\n",
       "  <thead>\n",
       "    <tr style=\"text-align: right;\">\n",
       "      <th></th>\n",
       "      <th>avg_d_kbps</th>\n",
       "      <th>geometry</th>\n",
       "    </tr>\n",
       "  </thead>\n",
       "  <tbody>\n",
       "    <tr>\n",
       "      <th>0</th>\n",
       "      <td>5983</td>\n",
       "      <td>POINT (-160.01862 70.63722)</td>\n",
       "    </tr>\n",
       "    <tr>\n",
       "      <th>1</th>\n",
       "      <td>3748</td>\n",
       "      <td>POINT (-160.04059 70.63357)</td>\n",
       "    </tr>\n",
       "    <tr>\n",
       "      <th>2</th>\n",
       "      <td>3364</td>\n",
       "      <td>POINT (-160.04059 70.63175)</td>\n",
       "    </tr>\n",
       "    <tr>\n",
       "      <th>3</th>\n",
       "      <td>2381</td>\n",
       "      <td>POINT (-160.03510 70.63357)</td>\n",
       "    </tr>\n",
       "    <tr>\n",
       "      <th>4</th>\n",
       "      <td>3047</td>\n",
       "      <td>POINT (-160.03510 70.63175)</td>\n",
       "    </tr>\n",
       "    <tr>\n",
       "      <th>...</th>\n",
       "      <td>...</td>\n",
       "      <td>...</td>\n",
       "    </tr>\n",
       "    <tr>\n",
       "      <th>3231240</th>\n",
       "      <td>19528</td>\n",
       "      <td>POINT (169.81842 -46.29571)</td>\n",
       "    </tr>\n",
       "    <tr>\n",
       "      <th>3231241</th>\n",
       "      <td>15693</td>\n",
       "      <td>POINT (169.81293 -46.30710)</td>\n",
       "    </tr>\n",
       "    <tr>\n",
       "      <th>3231242</th>\n",
       "      <td>26747</td>\n",
       "      <td>POINT (169.66461 -46.42082)</td>\n",
       "    </tr>\n",
       "    <tr>\n",
       "      <th>3231243</th>\n",
       "      <td>67995</td>\n",
       "      <td>POINT (169.65912 -46.45110)</td>\n",
       "    </tr>\n",
       "    <tr>\n",
       "      <th>3231244</th>\n",
       "      <td>1230</td>\n",
       "      <td>POINT (168.85162 -46.56075)</td>\n",
       "    </tr>\n",
       "  </tbody>\n",
       "</table>\n",
       "<p>3231245 rows × 2 columns</p>\n",
       "</div>"
      ],
      "text/plain": [
       "         avg_d_kbps                     geometry\n",
       "0              5983  POINT (-160.01862 70.63722)\n",
       "1              3748  POINT (-160.04059 70.63357)\n",
       "2              3364  POINT (-160.04059 70.63175)\n",
       "3              2381  POINT (-160.03510 70.63357)\n",
       "4              3047  POINT (-160.03510 70.63175)\n",
       "...             ...                          ...\n",
       "3231240       19528  POINT (169.81842 -46.29571)\n",
       "3231241       15693  POINT (169.81293 -46.30710)\n",
       "3231242       26747  POINT (169.66461 -46.42082)\n",
       "3231243       67995  POINT (169.65912 -46.45110)\n",
       "3231244        1230  POINT (168.85162 -46.56075)\n",
       "\n",
       "[3231245 rows x 2 columns]"
      ]
     },
     "execution_count": 6,
     "metadata": {},
     "output_type": "execute_result"
    }
   ],
   "source": [
    "gdf"
   ]
  },
  {
   "cell_type": "markdown",
   "id": "81a61ec4-2a09-40c0-aa92-7dca570bbd49",
   "metadata": {},
   "source": [
    "To render point data, first create a `ScatterplotLayer` and then add it to a `Map` object:"
   ]
  },
  {
   "cell_type": "code",
   "execution_count": 7,
   "id": "570ab332-3767-4246-8d83-df4625b2ae48",
   "metadata": {},
   "outputs": [
    {
     "data": {
      "application/vnd.jupyter.widget-view+json": {
       "model_id": "93ebf1b446784969877cf66f8f455615",
       "version_major": 2,
       "version_minor": 0
      },
      "text/plain": [
       "Map(layers=[ScatterplotLayer(table=pyarrow.Table\n",
       "avg_d_kbps: uint32\n",
       "geometry: fixed_size_list<item: double>[2]…"
      ]
     },
     "execution_count": 7,
     "metadata": {},
     "output_type": "execute_result"
    }
   ],
   "source": [
    "layer = ScatterplotLayer.from_geopandas(gdf)\n",
    "m = Map(layer)\n",
    "m"
   ]
  },
  {
   "cell_type": "markdown",
   "id": "6f4d89c3-282a-4beb-9f35-68eb9645e8c0",
   "metadata": {},
   "source": [
    "We can look at the [documentation for `ScatterplotLayer`](https://developmentseed.org/lonboard/latest/api/layers/scatterplot-layer/) to see what other rendering options it allows. Let's set the fill color to something other than black:"
   ]
  },
  {
   "cell_type": "code",
   "execution_count": 8,
   "id": "3912b241-577f-4ac3-b78f-2702e89d6010",
   "metadata": {},
   "outputs": [],
   "source": [
    "layer.get_fill_color = [0, 0, 200, 200]"
   ]
  },
  {
   "cell_type": "markdown",
   "id": "b66a73b6-69c1-4661-a7ad-2dd3941c8753",
   "metadata": {},
   "source": [
    "Blue is pretty, but the map would be more informative if we colored each point by a relevant characteristic. In this case, we have the download speed associated with each location, so let's use that!"
   ]
  },
  {
   "cell_type": "markdown",
   "id": "ce630455-3e19-47f1-bb69-81fdcd99b126",
   "metadata": {},
   "source": [
    "Here we compute a linear statistic for the download speed. Given a minimum bound of `5000` and a maximum bound of `50,000` the normalized speed is linearly scaled to between 0 and 1."
   ]
  },
  {
   "cell_type": "code",
   "execution_count": 9,
   "id": "179071b3",
   "metadata": {},
   "outputs": [],
   "source": [
    "min_bound = 5000\n",
    "max_bound = 50000\n",
    "download_speed = gdf['avg_d_kbps']\n",
    "normalized_download_speed = (download_speed - min_bound) / (max_bound - min_bound)"
   ]
  },
  {
   "cell_type": "markdown",
   "id": "7f678b8e-ad23-4ebd-842c-c5158e1ec741",
   "metadata": {},
   "source": [
    "`normalized_download_speed` is now linearly scaled based on the bounds provided above. Keep in mind that the **input range of the colormap is 0-1**. So any values that are below 0 will receive the left-most color in the colormap, while any values above 1 will receive the right-most color in the colormap."
   ]
  },
  {
   "cell_type": "code",
   "execution_count": 10,
   "id": "a8df3963-2bc2-4f89-8a38-20e232a13932",
   "metadata": {},
   "outputs": [
    {
     "data": {
      "text/plain": [
       "0          0.021844\n",
       "1         -0.027822\n",
       "2         -0.036356\n",
       "3         -0.058200\n",
       "4         -0.043400\n",
       "             ...   \n",
       "3231240    0.322844\n",
       "3231241    0.237622\n",
       "3231242    0.483267\n",
       "3231243    1.399889\n",
       "3231244   -0.083778\n",
       "Name: avg_d_kbps, Length: 3231245, dtype: float64"
      ]
     },
     "execution_count": 10,
     "metadata": {},
     "output_type": "execute_result"
    }
   ],
   "source": [
    "normalized_download_speed"
   ]
  },
  {
   "cell_type": "markdown",
   "id": "dc0e388f-eeed-4339-bd54-0491f79f45aa",
   "metadata": {},
   "source": [
    "We can use any colormap provided by the [`palettable`](https://github.com/jiffyclub/palettable) package. Let's inspect the `BrBG_10` diverging colormap below:"
   ]
  },
  {
   "cell_type": "code",
   "execution_count": 11,
   "id": "9d5347e2-84c7-40bc-af45-c8638188709e",
   "metadata": {},
   "outputs": [
    {
     "data": {
      "image/png": "[encoded data removed]",
      "text/html": [
       "<div style=\"vertical-align: middle;\"><strong>BrBG</strong> </div><div class=\"cmap\"><img alt=\"BrBG colormap\" title=\"BrBG\" style=\"border: 1px solid #555;\" src=\"data:image/png;base64,iVBORw0KGgoAAAANSUhEUgAAAgAAAABACAYAAABsv8+/AAAAE3RFWHRUaXRsZQBCckJHIGNvbG9ybWFwMTXIUAAAABl0RVh0RGVzY3JpcHRpb24AQnJCRyBjb2xvcm1hcLqHWMgAAAAwdEVYdEF1dGhvcgBNYXRwbG90bGliIHYzLjcuNSwgaHR0cHM6Ly9tYXRwbG90bGliLm9yZ9ESsrYAAAAydEVYdFNvZnR3YXJlAE1hdHBsb3RsaWIgdjMuNy41LCBodHRwczovL21hdHBsb3RsaWIub3Jn/7QtkQAAAilJREFUeJzt1k1u2zAURlGSQffTxXT/O7GYgSUHejahBPGgwHfOROWPKCYBitv//f0zW2ut99Zaa21cPu//GOPd+/t5/O7949h/39iP8WP+GI/TfO9l3yj79vXn88bL9/riO/Ueva4v7tHLd/rHx/7+6+d4rI/z+uq9sn8s18u5i/PG4tyrexz3bsffr5f3HvP7vnEer/a3Xu6x2N/K+V/7X8+3i++u7jn3v/Ns9+fWxv6s8+f15/lvnvPj7/32fne3Oe/j/XmbWxkf69ti/2/XV9970/q2nZ5bGd+2uZg/9pdzZj1nlv3fO/9p3/zhPco5x88763xZr/NzMb967+n8i/eX56/us1hv+++97b+Hr/GxPi/G/+n7+779fysAIIkAAIBAAgAAAgkAAAgkAAAgkAAAgEACAAACCQAACCQAACCQAACAQAIAAAIJAAAIJAAAIJAAAIBAAgAAAgkAAAgkAAAgkAAAgEACAAACCQAACCQAACCQAACAQAIAAAIJAAAIJAAAIJAAAIBAAgAAAgkAAAgkAAAgkAAAgEACAAACCQAACCQAACCQAACAQAIAAAIJAAAIJAAAIJAAAIBAAgAAAgkAAAgkAAAgkAAAgEACAAACCQAACCQAACCQAACAQAIAAAIJAAAIJAAAIJAAAIBAAgAAAgkAAAgkAAAgkAAAgEACAAACCQAACCQAACCQAACAQAIAAAIJAAAIJAAAIJAAAIBAAgAAAn0CyK5V+uT9Ti4AAAAASUVORK5CYII=\"></div><div style=\"vertical-align: middle; max-width: 514px; display: flex; justify-content: space-between;\"><div style=\"float: left;\"><div title=\"#543005ff\" style=\"display: inline-block; width: 1em; height: 1em; margin: 0; vertical-align: middle; border: 1px solid #555; background-color: #543005ff;\"></div> under</div><div style=\"margin: 0 auto; display: inline-block;\">bad <div title=\"#00000000\" style=\"display: inline-block; width: 1em; height: 1em; margin: 0; vertical-align: middle; border: 1px solid #555; background-color: #00000000;\"></div></div><div style=\"float: right;\">over <div title=\"#003c30ff\" style=\"display: inline-block; width: 1em; height: 1em; margin: 0; vertical-align: middle; border: 1px solid #555; background-color: #003c30ff;\"></div></div>"
      ],
      "text/plain": [
       "<matplotlib.colors.LinearSegmentedColormap at 0x2caa32cd0>"
      ]
     },
     "execution_count": 11,
     "metadata": {},
     "output_type": "execute_result"
    }
   ],
   "source": [
    "BrBG_10.mpl_colormap"
   ]
  },
  {
   "cell_type": "markdown",
   "id": "8eb59fd6-3b7d-4db9-ad9b-a66e4e58152f",
   "metadata": {},
   "source": [
    "Now let's apply the colormap on `normalized_download_speed` using a helper provided by `lonboard`. We can set it on `layer.get_fill_color` to update the existing colors."
   ]
  },
  {
   "cell_type": "code",
   "execution_count": 12,
   "id": "5a77f728-9cbe-4372-9bfd-d6dee4b93a01",
   "metadata": {},
   "outputs": [],
   "source": [
    "layer.get_fill_color = apply_continuous_cmap(normalized_download_speed, BrBG_10, alpha=0.7)"
   ]
  },
  {
   "cell_type": "markdown",
   "id": "44611c75-f9e6-4f53-af7d-c640d641dc15",
   "metadata": {},
   "source": [
    "After running the above cell, you should see the map above update with a different color per point!"
   ]
  },
  {
   "cell_type": "markdown",
   "id": "0bd168fe-53a1-4313-9c11-720edbfa5c6c",
   "metadata": {},
   "source": [
    "We can pass an array into any of the \"accessors\" supported by the layer (this is any attribute that starts with `get_*`).\n",
    "\n",
    "For demonstration purposes, let's also set `get_radius` to `normalized_download_speed`."
   ]
  },
  {
   "cell_type": "code",
   "execution_count": 13,
   "id": "579233ef-e077-4c8f-a111-f33d44f30a0d",
   "metadata": {},
   "outputs": [],
   "source": [
    "layer.get_radius = normalized_download_speed * 200\n",
    "layer.radius_units = \"meters\"\n",
    "layer.radius_min_pixels = 0.5"
   ]
  },
  {
   "cell_type": "markdown",
   "id": "06e2338e-8461-49f7-9884-475fffc64789",
   "metadata": {},
   "source": [
    "After running the above cell, you should see the map updated to have a different radius per point!"
   ]
  }
 ],
 "metadata": {
  "kernelspec": {
   "display_name": "lonboard",
   "language": "python",
   "name": "lonboard"
  },
  "language_info": {
   "codemirror_mode": {
    "name": "ipython",
    "version": 3
   },
   "file_extension": ".py",
   "mimetype": "text/x-python",
   "name": "python",
   "nbconvert_exporter": "python",
   "pygments_lexer": "ipython3",
   "version": "3.11.8"
  },
  "widgets": {
   "application/vnd.jupyter.widget-state+json": {
    "state": {},
    "version_major": 2,
    "version_minor": 0
   }
  }
 },
 "nbformat": 4,
 "nbformat_minor": 5
}
