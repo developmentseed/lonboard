{
 "cells": [
  {
   "cell_type": "code",
   "execution_count": null,
   "id": "57e4678a",
   "metadata": {
    "jupyter": {
     "source_hidden": true
    }
   },
   "outputs": [],
   "source": [
    "# /// script\n",
    "# requires-python = \">=3.12\"\n",
    "# dependencies = [\n",
    "#     \"geoarrow-rust-core\",\n",
    "#     \"geoarrow-rust-io\",\n",
    "#     \"lonboard\",\n",
    "#     \"obstore\",\n",
    "# ]\n",
    "# ///"
   ]
  },
  {
   "cell_type": "markdown",
   "id": "250a25da-9547-4a0a-b709-8659e0669545",
   "metadata": {},
   "source": [
    "# Visualizing Overture Data in Lonboard with Obstore and GeoArrow-Rust\n",
    "\n",
    "This demo will show how to inspect the spatial partitioning of [GeoParquet](https://geoparquet.org/) datasets and visualize spatial extracts in Lonboard.\n",
    "\n",
    "This notebook uses [Obstore](https://developmentseed.org/obstore/latest/) to inspect data on S3. \n",
    "\n",
    "This notebook uses the [Python bindings of GeoArrow Rust](https://geoarrow.org/geoarrow-rs/python/latest/) to load spatially-filtered GeoParquet data."
   ]
  },
  {
   "cell_type": "markdown",
   "id": "665edcb2-b546-435e-ba77-7ea651ab6ae6",
   "metadata": {
    "jp-MarkdownHeadingCollapsed": true
   },
   "source": [
    "## Dependencies\n",
    "\n",
    "First install [`uv`](https://docs.astral.sh/uv) and then run this notebook with\n",
    "\n",
    "```\n",
    "uvx juv run overture-geoparquet.ipynb\n",
    "```\n",
    "\n",
    "That will automatically create a temporary `uv` environment with the dependencies required by this notebook."
   ]
  },
  {
   "cell_type": "markdown",
   "id": "62c1bef5-071e-4cf0-98e4-2e70171c3006",
   "metadata": {},
   "source": [
    "## Imports"
   ]
  },
  {
   "cell_type": "code",
   "execution_count": 1,
   "id": "9ae52a41",
   "metadata": {},
   "outputs": [],
   "source": [
    "from geoarrow.rust.io import GeoParquetDataset\n",
    "from obstore.store import S3Store\n",
    "\n",
    "from lonboard import Map, viz\n",
    "from lonboard.basemap import CartoBasemap"
   ]
  },
  {
   "cell_type": "markdown",
   "id": "1f86a07a-a118-4ab4-8be6-c72c40467924",
   "metadata": {},
   "source": [
    "We'll create an [S3Store](https://developmentseed.org/obstore/latest/api/store/aws/#obstore.store.S3Store) to access Overture data on AWS S3.\n",
    "\n",
    "Alternatively, we could create an [`AzureStore`](https://developmentseed.org/obstore/latest/api/store/azure/#obstore.store.AzureStore) to access the copy of Overture data stored on Azure and all the following steps would be the same."
   ]
  },
  {
   "cell_type": "code",
   "execution_count": 2,
   "id": "32f354d5",
   "metadata": {},
   "outputs": [],
   "source": [
    "store = S3Store.from_url(\n",
    "    \"s3://overturemaps-us-west-2/release/2025-06-25.0/\",\n",
    "    region=\"us-west-2\",\n",
    "    skip_signature=True,\n",
    ")"
   ]
  },
  {
   "cell_type": "markdown",
   "id": "dcaf6e1c-e067-4a29-84b7-916fca8cf8d5",
   "metadata": {},
   "source": [
    "Let's inspect the directories under this release. `list_with_delimiter` shows us the `common_prefixes` (i.e. directories)."
   ]
  },
  {
   "cell_type": "code",
   "execution_count": 4,
   "id": "4e61872e",
   "metadata": {},
   "outputs": [
    {
     "data": {
      "text/plain": [
       "{'common_prefixes': ['theme=addresses',\n",
       "  'theme=base',\n",
       "  'theme=buildings',\n",
       "  'theme=divisions',\n",
       "  'theme=places',\n",
       "  'theme=transportation'],\n",
       " 'objects': []}"
      ]
     },
     "execution_count": 4,
     "metadata": {},
     "output_type": "execute_result"
    }
   ],
   "source": [
    "store.list_with_delimiter()"
   ]
  },
  {
   "cell_type": "markdown",
   "id": "62cfd8a6-7842-4bf1-9fa9-85ff6151c4de",
   "metadata": {},
   "source": [
    "Now we can inspect the directories within `theme=buildings`"
   ]
  },
  {
   "cell_type": "code",
   "execution_count": 5,
   "id": "5570867c",
   "metadata": {},
   "outputs": [
    {
     "data": {
      "text/plain": [
       "{'common_prefixes': ['theme=buildings/type=building',\n",
       "  'theme=buildings/type=building_part'],\n",
       " 'objects': []}"
      ]
     },
     "execution_count": 5,
     "metadata": {},
     "output_type": "execute_result"
    }
   ],
   "source": [
    "store.list_with_delimiter(\"theme=buildings\")"
   ]
  },
  {
   "cell_type": "markdown",
   "id": "5d90dd0e-e632-48ac-b685-b4c2d7274a0d",
   "metadata": {},
   "source": [
    "And the directories within `theme=buildings/type=building`.\n",
    "\n",
    "This gives us the object metadata for each of these raw Parquet files:"
   ]
  },
  {
   "cell_type": "code",
   "execution_count": 6,
   "id": "1fa90048",
   "metadata": {},
   "outputs": [
    {
     "data": {
      "text/plain": [
       "[{'path': 'theme=buildings/type=building/part-00000-8a741876-e04d-4e66-bc96-0171910fa1b1-c000.zstd.parquet',\n",
       "  'last_modified': datetime.datetime(2025, 6, 25, 10, 19, 2, tzinfo=datetime.timezone.utc),\n",
       "  'size': 1057456618,\n",
       "  'e_tag': '\"d02e00f5c225cd5fb55db8c57074a6f7-202\"',\n",
       "  'version': None},\n",
       " {'path': 'theme=buildings/type=building/part-00001-8a741876-e04d-4e66-bc96-0171910fa1b1-c000.zstd.parquet',\n",
       "  'last_modified': datetime.datetime(2025, 6, 25, 10, 19, 2, tzinfo=datetime.timezone.utc),\n",
       "  'size': 1039045476,\n",
       "  'e_tag': '\"c0bc02d43c98db116791ac54b9eac087-199\"',\n",
       "  'version': None}]"
      ]
     },
     "execution_count": 6,
     "metadata": {},
     "output_type": "execute_result"
    }
   ],
   "source": [
    "objects = store.list_with_delimiter(\"theme=buildings/type=building\")[\"objects\"]\n",
    "objects[:2]"
   ]
  },
  {
   "cell_type": "markdown",
   "id": "ca9b07c4-d008-498c-8850-c280c3264350",
   "metadata": {},
   "source": [
    "Now we can open a `GeoParquetDataset` with these objects:"
   ]
  },
  {
   "cell_type": "code",
   "execution_count": 7,
   "id": "3657e121-bd0d-4e2e-9420-079ab3d4cdee",
   "metadata": {},
   "outputs": [
    {
     "name": "stderr",
     "output_type": "stream",
     "text": [
      "/var/folders/42/5jr6891d4ds4xysz7q0rsghw0000gn/T/ipykernel_80857/4219646126.py:1: RuntimeWarning: Successfully reconstructed a store defined in another Python module. Connection pooling will not be shared across store instances.\n",
      "  dataset = GeoParquetDataset.open(objects, store=store)\n"
     ]
    }
   ],
   "source": [
    "dataset = GeoParquetDataset.open(objects, store=store)"
   ]
  },
  {
   "cell_type": "code",
   "execution_count": 8,
   "id": "f5841504",
   "metadata": {},
   "outputs": [
    {
     "data": {
      "text/plain": [
       "16861"
      ]
     },
     "execution_count": 8,
     "metadata": {},
     "output_type": "execute_result"
    }
   ],
   "source": [
    "dataset.num_row_groups"
   ]
  },
  {
   "cell_type": "code",
   "execution_count": 9,
   "id": "3c26197d",
   "metadata": {},
   "outputs": [
    {
     "data": {
      "text/plain": [
       "2534560183"
      ]
     },
     "execution_count": 9,
     "metadata": {},
     "output_type": "execute_result"
    }
   ],
   "source": [
    "dataset.num_rows"
   ]
  },
  {
   "cell_type": "markdown",
   "id": "a61c8dab-5a6c-4301-9b55-8445681a3908",
   "metadata": {},
   "source": [
    "We can call `dataset.fragments` to access the raw underlying GeoParquet files:"
   ]
  },
  {
   "cell_type": "code",
   "execution_count": 10,
   "id": "9f64e0b0-5fb0-476e-9be2-bbbfb7b2887c",
   "metadata": {},
   "outputs": [
    {
     "data": {
      "text/plain": [
       "[<geoarrow.rust.io.GeoParquetFile at 0x11b077330>,\n",
       " <geoarrow.rust.io.GeoParquetFile at 0x11b0776f0>,\n",
       " <geoarrow.rust.io.GeoParquetFile at 0x11b0778d0>,\n",
       " <geoarrow.rust.io.GeoParquetFile at 0x11b077930>,\n",
       " <geoarrow.rust.io.GeoParquetFile at 0x11b077990>]"
      ]
     },
     "execution_count": 10,
     "metadata": {},
     "output_type": "execute_result"
    }
   ],
   "source": [
    "dataset.fragments[:5]"
   ]
  },
  {
   "cell_type": "markdown",
   "id": "6ab983a2-a7be-4790-8124-b2bfe065cb58",
   "metadata": {},
   "source": [
    "Each fragment is a `GeoParquetFile` with a `row_groups_bounds` method to access the bounding box information from the GeoParquet covering column:"
   ]
  },
  {
   "cell_type": "code",
   "execution_count": 11,
   "id": "d7f0557f-496b-4144-9d83-ec6db8448e15",
   "metadata": {},
   "outputs": [],
   "source": [
    "row_groups_bounds = [fragment.row_groups_bounds() for fragment in dataset.fragments]"
   ]
  },
  {
   "cell_type": "markdown",
   "id": "a742453d-1f20-4212-ac84-ae16ca3fada2",
   "metadata": {},
   "source": [
    "So for example, the first GeoParquet file has these bounds for each GeoParquet row group."
   ]
  },
  {
   "cell_type": "code",
   "execution_count": 12,
   "id": "e5cd06b2-4d0c-43a1-9325-c17da4296f9d",
   "metadata": {},
   "outputs": [
    {
     "data": {
      "text/plain": [
       "arro3.core.Array<Struct(xmin Float64, ymin Float64, xmax Float64, ymax Float64)>\n",
       "[\n",
       "  {xmin: -180.0, ymin: -84.29460906982422, xmax: -135.00332641601562, ymax: -13.186331748962402},\n",
       "  {xmin: -172.5196075439453, ymin: -22.49992561340332, xmax: -148.06675720214844, ymax: -2.7685303688049316},\n",
       "  {xmin: -155.93409729003906, ymin: -77.65557861328125, xmax: -46.41456985473633, ymax: -0.0031376995611935854},\n",
       "  {xmin: -73.12500762939453, ymin: -53.43754577636719, xmax: -68.20381927490234, ymax: -50.6250114440918},\n",
       "  {xmin: -75.63844299316406, ymin: -53.43662643432617, xmax: -67.66509246826172, ymax: -44.99996566772461},\n",
       "  {xmin: -73.12500762939453, ymin: -49.33192825317383, xmax: -67.50086975097656, ymax: -44.999977111816406},\n",
       "  {xmin: -71.71881103515625, ymin: -47.812496185302734, xmax: -67.49979400634766, ymax: -45.000179290771484},\n",
       "  {xmin: -80.82723236083984, ymin: -77.87444305419922, xmax: -2.8229823112487793, ymax: -33.76310729980469},\n",
       "  {xmin: -74.19165802001953, ymin: -42.92656707763672, xmax: -73.12517547607422, ymax: -41.789337158203125},\n",
       "  {xmin: -73.93946075439453, ymin: -42.18755340576172, xmax: -73.12490844726562, ymax: -40.798301696777344},\n",
       "]"
      ]
     },
     "execution_count": 12,
     "metadata": {},
     "output_type": "execute_result"
    }
   ],
   "source": [
    "row_groups_bounds[0]"
   ]
  },
  {
   "cell_type": "markdown",
   "id": "fe197a41-5153-4b31-a44c-3d5ac519bee1",
   "metadata": {},
   "source": [
    "Create Lonboard layers for each of these chunks\n",
    "\n",
    "This is a quick hack to make each chunk have a different color"
   ]
  },
  {
   "cell_type": "code",
   "execution_count": 13,
   "id": "5cd737b5",
   "metadata": {},
   "outputs": [
    {
     "name": "stderr",
     "output_type": "stream",
     "text": [
      "/Users/kyle/.cache/uv/environments-v2/juv-tmp-lxsappl-c437c1b13a6c249f/lib/python3.12/site-packages/lonboard/_geoarrow/ops/reproject.py:37: UserWarning: No CRS exists on data. If no data is shown on the map, double check that your CRS is WGS84.\n",
      "  warn(\n"
     ]
    }
   ],
   "source": [
    "layers = [viz(chunk).layers[0] for chunk in row_groups_bounds[:10]]"
   ]
  },
  {
   "cell_type": "code",
   "execution_count": 14,
   "id": "19fcf99f-8fdc-4ad8-aa84-d05cef10cfe5",
   "metadata": {},
   "outputs": [],
   "source": [
    "for i in range(len(layers)):\n",
    "    layers[i].opacity = 0.05"
   ]
  },
  {
   "cell_type": "code",
   "execution_count": 15,
   "id": "70161397",
   "metadata": {},
   "outputs": [],
   "source": [
    "m = Map(layers, _height=600, basemap_style=CartoBasemap.DarkMatter)"
   ]
  },
  {
   "cell_type": "code",
   "execution_count": 16,
   "id": "ec300287",
   "metadata": {},
   "outputs": [
    {
     "data": {
      "application/vnd.jupyter.widget-view+json": {
       "model_id": "0adf1d07f3db4d01869b989fd9cd4939",
       "version_major": 2,
       "version_minor": 1
      },
      "text/plain": [
       "Map(basemap_style=<CartoBasemap.DarkMatter: 'https://basemaps.cartocdn.com/gl/dark-matter-gl-style/style.json'…"
      ]
     },
     "execution_count": 16,
     "metadata": {},
     "output_type": "execute_result"
    }
   ],
   "source": [
    "m"
   ]
  },
  {
   "cell_type": "code",
   "execution_count": 17,
   "id": "2133d64d",
   "metadata": {},
   "outputs": [
    {
     "data": {
      "text/plain": [
       "(-70.71328781156221,\n",
       " -33.48881085205176,\n",
       " -70.59366078909468,\n",
       " -33.39647614556973)"
      ]
     },
     "execution_count": 17,
     "metadata": {},
     "output_type": "execute_result"
    }
   ],
   "source": [
    "m.selected_bounds"
   ]
  },
  {
   "cell_type": "markdown",
   "id": "c9f82242-2a5d-4789-9985-c489af6edbbc",
   "metadata": {},
   "source": [
    "Make sure you select a bounding box area on the map. Keep in mind that selecting too large of an area will make the data download take a long time."
   ]
  },
  {
   "cell_type": "code",
   "execution_count": 18,
   "id": "eb1fb5e1-3ab6-4ab4-b3de-f78dc8d2a13e",
   "metadata": {},
   "outputs": [],
   "source": [
    "assert m.selected_bounds is not None, (\n",
    "    \"Use the map's bounding box selection to select a small download area\"\n",
    ")"
   ]
  },
  {
   "cell_type": "code",
   "execution_count": 19,
   "id": "e9ac6f72-355e-4b1e-ad45-8704567b22a1",
   "metadata": {},
   "outputs": [
    {
     "data": {
      "text/plain": [
       "\u001b[31mSignature:\u001b[39m\n",
       "dataset.read(\n",
       "    *,\n",
       "    batch_size=\u001b[38;5;28;01mNone\u001b[39;00m,\n",
       "    bbox=\u001b[38;5;28;01mNone\u001b[39;00m,\n",
       "    parse_to_native=\u001b[38;5;28;01mTrue\u001b[39;00m,\n",
       "    coord_type=\u001b[38;5;28;01mNone\u001b[39;00m,\n",
       ")\n",
       "\u001b[31mDocstring:\u001b[39m <no docstring>\n",
       "\u001b[31mType:\u001b[39m      builtin_function_or_method"
      ]
     },
     "metadata": {},
     "output_type": "display_data"
    }
   ],
   "source": [
    "dataset.read?"
   ]
  },
  {
   "cell_type": "code",
   "execution_count": 20,
   "id": "c8332d85-518f-4b07-85e7-fadc5d1686a6",
   "metadata": {},
   "outputs": [],
   "source": [
    "data = dataset.read(bbox=m.selected_bounds)"
   ]
  },
  {
   "cell_type": "code",
   "execution_count": 21,
   "id": "f3f0c33a-4612-4d0b-b657-c88e3310dc86",
   "metadata": {},
   "outputs": [
    {
     "data": {
      "text/plain": [
       "165684"
      ]
     },
     "execution_count": 21,
     "metadata": {},
     "output_type": "execute_result"
    }
   ],
   "source": [
    "data.num_rows"
   ]
  },
  {
   "cell_type": "code",
   "execution_count": 22,
   "id": "7299e3c9-0a48-470c-8a92-15f68751a088",
   "metadata": {},
   "outputs": [
    {
     "data": {
      "application/vnd.jupyter.widget-view+json": {
       "model_id": "f385f349c6824ebfb8f49a525cd1b87c",
       "version_major": 2,
       "version_minor": 1
      },
      "text/plain": [
       "Map(basemap_style=<CartoBasemap.DarkMatter: 'https://basemaps.cartocdn.com/gl/dark-matter-gl-style/style.json'…"
      ]
     },
     "execution_count": 22,
     "metadata": {},
     "output_type": "execute_result"
    }
   ],
   "source": [
    "m = viz(data)\n",
    "m._height = 600\n",
    "m"
   ]
  },
  {
   "cell_type": "code",
   "execution_count": null,
   "id": "3904c279-87aa-4f71-93b7-d8b7ec435ae6",
   "metadata": {},
   "outputs": [],
   "source": []
  }
 ],
 "metadata": {
  "kernelspec": {
   "display_name": "Python 3 (ipykernel)",
   "language": "python",
   "name": "python3"
  },
  "language_info": {
   "codemirror_mode": {
    "name": "ipython",
    "version": 3
   },
   "file_extension": ".py",
   "mimetype": "text/x-python",
   "name": "python",
   "nbconvert_exporter": "python",
   "pygments_lexer": "ipython3",
   "version": "3.12.7"
  }
 },
 "nbformat": 4,
 "nbformat_minor": 5
}
