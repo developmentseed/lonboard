{
 "cells": [
  {
   "cell_type": "markdown",
   "id": "68b4877a-d595-47b4-988f-b470eb4251e5",
   "metadata": {},
   "source": [
    "# North America Roads\n",
    "\n",
    "This example uses data from [Natural Earth](https://www.naturalearthdata.com/) to plot the road network in North America. Refer to the [data documentation](https://www.naturalearthdata.com/downloads/10m-cultural-vectors/roads/) for more information about this dataset."
   ]
  },
  {
   "cell_type": "markdown",
   "id": "c4f33772-767a-4f79-ab31-b75ddb07089d",
   "metadata": {},
   "source": [
    "## Dependencies\n",
    "\n",
    "- lonboard\n",
    "- pyogrio"
   ]
  },
  {
   "cell_type": "markdown",
   "id": "d404b794-1456-42ee-9161-c50b70c831ef",
   "metadata": {},
   "source": [
    "## Imports"
   ]
  },
  {
   "cell_type": "code",
   "execution_count": 1,
   "id": "51abc06e-0d06-40ef-aea6-19130e88bce3",
   "metadata": {},
   "outputs": [],
   "source": [
    "import geopandas as gpd\n",
    "import palettable.colorbrewer.diverging\n",
    "\n",
    "from lonboard import PathLayer, viz\n",
    "from lonboard.colormap import apply_continuous_cmap"
   ]
  },
  {
   "cell_type": "markdown",
   "id": "d4ddc6c3-7538-44cd-a082-912aa5aef1cc",
   "metadata": {},
   "source": [
    "The \"public\" URL for this dataset from the Natural Earth website is\n",
    "```\n",
    "https://www.naturalearthdata.com/http//www.naturalearthdata.com/download/10m/cultural/ne_10m_roads_north_america.zip\n",
    "```\n",
    "That doesn't appear to work directly inside a notebook, so we'll use the URL the above redirects to:\n",
    "\n",
    "```\n",
    "https://naciscdn.org/naturalearth/10m/cultural/ne_10m_roads_north_america.zip\n",
    "```\n",
    "\n",
    "It's possible this \"private\" URL will change in the future."
   ]
  },
  {
   "cell_type": "code",
   "execution_count": 2,
   "id": "ce868022-f3e4-4db5-83d7-af65b5e2f959",
   "metadata": {},
   "outputs": [],
   "source": [
    "url = 'https://naciscdn.org/naturalearth/10m/cultural/ne_10m_roads_north_america.zip'"
   ]
  },
  {
   "cell_type": "markdown",
   "id": "6d77aa88-6d94-4eac-a5c7-e52efcc93930",
   "metadata": {},
   "source": [
    "We'll use GeoPandas to fetch this data (45MB) over the internet and load it into a `GeoDataFrame`. This uses the [`pyogrio` engine](https://geopandas.org/en/stable/docs/reference/api/geopandas.read_file.html), which is faster. Ensure you have [`pyogrio`](https://github.com/geopandas/pyogrio) installed. "
   ]
  },
  {
   "cell_type": "code",
   "execution_count": 3,
   "id": "c97da98c-cce8-4f66-b598-59eef05367de",
   "metadata": {},
   "outputs": [],
   "source": [
    "gdf = gpd.read_file(url, engine=\"pyogrio\")"
   ]
  },
  {
   "cell_type": "markdown",
   "id": "f4a9b9a1-9d78-42a3-be88-60ac550a84de",
   "metadata": {},
   "source": [
    "This dataframe has a variety of attributes, plus a geometry column with a `LineString` type."
   ]
  },
  {
   "cell_type": "code",
   "execution_count": 4,
   "id": "14d60ee4-4006-48b3-8ddb-52e3ae6002da",
   "metadata": {
    "scrolled": true
   },
   "outputs": [
    {
     "data": {
      "text/html": [
       "<div>\n",
       "<style scoped>\n",
       "    .dataframe tbody tr th:only-of-type {\n",
       "        vertical-align: middle;\n",
       "    }\n",
       "\n",
       "    .dataframe tbody tr th {\n",
       "        vertical-align: top;\n",
       "    }\n",
       "\n",
       "    .dataframe thead th {\n",
       "        text-align: right;\n",
       "    }\n",
       "</style>\n",
       "<table border=\"1\" class=\"dataframe\">\n",
       "  <thead>\n",
       "    <tr style=\"text-align: right;\">\n",
       "      <th></th>\n",
       "      <th>prefix</th>\n",
       "      <th>number</th>\n",
       "      <th>class</th>\n",
       "      <th>type</th>\n",
       "      <th>divided</th>\n",
       "      <th>country</th>\n",
       "      <th>state</th>\n",
       "      <th>note</th>\n",
       "      <th>scalerank</th>\n",
       "      <th>uident</th>\n",
       "      <th>length</th>\n",
       "      <th>rank</th>\n",
       "      <th>continent</th>\n",
       "      <th>geometry</th>\n",
       "    </tr>\n",
       "  </thead>\n",
       "  <tbody>\n",
       "    <tr>\n",
       "      <th>0</th>\n",
       "      <td>None</td>\n",
       "      <td>None</td>\n",
       "      <td>Other</td>\n",
       "      <td>Unpaved</td>\n",
       "      <td>None</td>\n",
       "      <td>United States</td>\n",
       "      <td>California</td>\n",
       "      <td>None</td>\n",
       "      <td>12</td>\n",
       "      <td>0</td>\n",
       "      <td>10.373500</td>\n",
       "      <td>0</td>\n",
       "      <td>North America</td>\n",
       "      <td>LINESTRING (-119.63954 37.85634, -119.63954 37...</td>\n",
       "    </tr>\n",
       "    <tr>\n",
       "      <th>1</th>\n",
       "      <td>None</td>\n",
       "      <td>None</td>\n",
       "      <td>Other</td>\n",
       "      <td>Other Paved</td>\n",
       "      <td>None</td>\n",
       "      <td>United States</td>\n",
       "      <td>Nevada</td>\n",
       "      <td>None</td>\n",
       "      <td>12</td>\n",
       "      <td>1</td>\n",
       "      <td>2.307760</td>\n",
       "      <td>0</td>\n",
       "      <td>North America</td>\n",
       "      <td>LINESTRING (-119.76779 39.14514, -119.74707 39...</td>\n",
       "    </tr>\n",
       "    <tr>\n",
       "      <th>2</th>\n",
       "      <td>None</td>\n",
       "      <td>S2</td>\n",
       "      <td>Other</td>\n",
       "      <td>Other Paved</td>\n",
       "      <td>None</td>\n",
       "      <td>Mexico</td>\n",
       "      <td>None</td>\n",
       "      <td>None</td>\n",
       "      <td>11</td>\n",
       "      <td>2</td>\n",
       "      <td>92.178100</td>\n",
       "      <td>-1</td>\n",
       "      <td>North America</td>\n",
       "      <td>LINESTRING (-116.47485 33.09658, -116.46246 33...</td>\n",
       "    </tr>\n",
       "    <tr>\n",
       "      <th>3</th>\n",
       "      <td>None</td>\n",
       "      <td>S1</td>\n",
       "      <td>Other</td>\n",
       "      <td>Other Paved</td>\n",
       "      <td>None</td>\n",
       "      <td>United States</td>\n",
       "      <td>California</td>\n",
       "      <td>None</td>\n",
       "      <td>11</td>\n",
       "      <td>3</td>\n",
       "      <td>46.124100</td>\n",
       "      <td>0</td>\n",
       "      <td>North America</td>\n",
       "      <td>LINESTRING (-116.56070 33.01205, -116.55359 33...</td>\n",
       "    </tr>\n",
       "    <tr>\n",
       "      <th>4</th>\n",
       "      <td>None</td>\n",
       "      <td>S1</td>\n",
       "      <td>Other</td>\n",
       "      <td>Secondary</td>\n",
       "      <td>Undivided</td>\n",
       "      <td>United States</td>\n",
       "      <td>California</td>\n",
       "      <td>None</td>\n",
       "      <td>10</td>\n",
       "      <td>4</td>\n",
       "      <td>0.305463</td>\n",
       "      <td>0</td>\n",
       "      <td>North America</td>\n",
       "      <td>LINESTRING (-116.50827 32.81225, -116.50820 32...</td>\n",
       "    </tr>\n",
       "  </tbody>\n",
       "</table>\n",
       "</div>"
      ],
      "text/plain": [
       "  prefix number  class         type    divided        country       state  \\\n",
       "0   None   None  Other      Unpaved       None  United States  California   \n",
       "1   None   None  Other  Other Paved       None  United States      Nevada   \n",
       "2   None     S2  Other  Other Paved       None         Mexico        None   \n",
       "3   None     S1  Other  Other Paved       None  United States  California   \n",
       "4   None     S1  Other    Secondary  Undivided  United States  California   \n",
       "\n",
       "   note  scalerank  uident     length  rank      continent  \\\n",
       "0  None         12       0  10.373500     0  North America   \n",
       "1  None         12       1   2.307760     0  North America   \n",
       "2  None         11       2  92.178100    -1  North America   \n",
       "3  None         11       3  46.124100     0  North America   \n",
       "4  None         10       4   0.305463     0  North America   \n",
       "\n",
       "                                            geometry  \n",
       "0  LINESTRING (-119.63954 37.85634, -119.63954 37...  \n",
       "1  LINESTRING (-119.76779 39.14514, -119.74707 39...  \n",
       "2  LINESTRING (-116.47485 33.09658, -116.46246 33...  \n",
       "3  LINESTRING (-116.56070 33.01205, -116.55359 33...  \n",
       "4  LINESTRING (-116.50827 32.81225, -116.50820 32...  "
      ]
     },
     "execution_count": 4,
     "metadata": {},
     "output_type": "execute_result"
    }
   ],
   "source": [
    "gdf.head()"
   ]
  },
  {
   "cell_type": "markdown",
   "id": "3d1caaa7-7d99-451c-a385-6aac276fd43c",
   "metadata": {},
   "source": [
    "To ensure that this demo is snappy on most computers, we'll filter to only the contiguous U.S. If you're on a recent computer, feel free to comment out this line."
   ]
  },
  {
   "cell_type": "code",
   "execution_count": 5,
   "id": "0e690480-25fa-4f12-aba6-3477a0f86a27",
   "metadata": {},
   "outputs": [],
   "source": [
    "gdf = gdf[gdf[\"state\"] == \"California\"]"
   ]
  },
  {
   "cell_type": "markdown",
   "id": "11f005c2-2cac-47d7-aec4-cd00057646f8",
   "metadata": {},
   "source": [
    "First, just to see what the data looks like, we'll pass some default parameters:"
   ]
  },
  {
   "cell_type": "code",
   "execution_count": 6,
   "id": "053eb025-6ddd-46c1-8159-061b9eb7c09e",
   "metadata": {},
   "outputs": [
    {
     "data": {
      "application/vnd.jupyter.widget-view+json": {
       "model_id": "8b473d8dd0c640d09b2f7b1163785f8d",
       "version_major": 2,
       "version_minor": 0
      },
      "text/plain": [
       "PathLayer(table=pyarrow.Table\n",
       "__index_level_0__: int64\n",
       "geometry: list<item: list<item: fixed_size_list<item: d…"
      ]
     },
     "execution_count": 6,
     "metadata": {},
     "output_type": "execute_result"
    }
   ],
   "source": [
    "map_ = viz(gdf.geometry, width_min_pixels=0.8)\n",
    "map_"
   ]
  },
  {
   "cell_type": "markdown",
   "id": "42b7892e-b0b6-4fa8-87a5-937e363c6e34",
   "metadata": {},
   "source": [
    "This map object is a [`PathLayer`](https://developmentseed.org/lonboard/api/layers/path-layer/) type. You could have created the same map by using\n",
    "\n",
    "```py\n",
    "map_ = lonboard.PathLayer.from_geopandas(gdf)\n",
    "```"
   ]
  },
  {
   "cell_type": "code",
   "execution_count": 7,
   "id": "8ff0879a-ae90-4302-91df-7c381a0a1f09",
   "metadata": {},
   "outputs": [
    {
     "data": {
      "text/plain": [
       "lonboard.layer.PathLayer"
      ]
     },
     "execution_count": 7,
     "metadata": {},
     "output_type": "execute_result"
    }
   ],
   "source": [
    "type(map_)"
   ]
  },
  {
   "cell_type": "markdown",
   "id": "a6bdfd6d-2689-42f6-a538-8f833c6d539a",
   "metadata": {},
   "source": [
    "We can look at the [documentation for `PathLayer`](https://developmentseed.org/lonboard/api/layers/path-layer/) to see what other rendering options it allows. Let's set the path color to something other than black:"
   ]
  },
  {
   "cell_type": "code",
   "execution_count": 8,
   "id": "75f67a77-062a-4043-9454-5b2b97b52288",
   "metadata": {},
   "outputs": [],
   "source": [
    "map_.get_color = [200, 0, 200]"
   ]
  },
  {
   "cell_type": "markdown",
   "id": "9bac0f0b-7129-476c-8ea0-51c1bede0f4d",
   "metadata": {},
   "source": [
    "Ok, so we can see the data! That's great! But let's customize the rendering based on an attribute!\n",
    "\n",
    "The `scalerank` column tells how important the road is in the road network. Let's see what the distribution of values is for this column:"
   ]
  },
  {
   "cell_type": "code",
   "execution_count": 9,
   "id": "5c33098b-0348-4b07-9ae4-5c56d5d50723",
   "metadata": {
    "scrolled": true
   },
   "outputs": [
    {
     "data": {
      "text/plain": [
       "scalerank\n",
       "3       19\n",
       "4       93\n",
       "5       35\n",
       "6       94\n",
       "7      178\n",
       "8      122\n",
       "9        1\n",
       "10     237\n",
       "11     541\n",
       "12    1562\n",
       "Name: count, dtype: int64"
      ]
     },
     "execution_count": 9,
     "metadata": {},
     "output_type": "execute_result"
    }
   ],
   "source": [
    "gdf['scalerank'].value_counts().sort_index()"
   ]
  },
  {
   "cell_type": "markdown",
   "id": "667e990e-5424-47fe-9847-c8be297cf425",
   "metadata": {},
   "source": [
    "Ok, so the values range from `3` to `12`. To assign a colormap to this column, we need \"normalized\" values that span between 0 and 1:"
   ]
  },
  {
   "cell_type": "code",
   "execution_count": 10,
   "id": "c7d26678-418e-48f8-827d-050d9f2df1dd",
   "metadata": {},
   "outputs": [],
   "source": [
    "normalized_scale_rank = (gdf['scalerank'] - 3) / 9"
   ]
  },
  {
   "cell_type": "markdown",
   "id": "00f628bc-34ff-4b95-9998-27e0d66b1b61",
   "metadata": {},
   "source": [
    "The values of this array now range from 0 to 1:"
   ]
  },
  {
   "cell_type": "code",
   "execution_count": 11,
   "id": "12be09c8-0857-44d8-ad14-69b4c7277fbc",
   "metadata": {},
   "outputs": [
    {
     "data": {
      "text/plain": [
       "(0.0, 1.0)"
      ]
     },
     "execution_count": 11,
     "metadata": {},
     "output_type": "execute_result"
    }
   ],
   "source": [
    "normalized_scale_rank.min(), normalized_scale_rank.max()"
   ]
  },
  {
   "cell_type": "markdown",
   "id": "a5c4f17e-9465-44ee-b54e-26a351574a29",
   "metadata": {},
   "source": [
    "Let's select a colormap to apply to this data:"
   ]
  },
  {
   "cell_type": "code",
   "execution_count": 12,
   "id": "1df9d2c9-6f10-49e6-aa4f-6718f3d2f765",
   "metadata": {},
   "outputs": [],
   "source": [
    "cmap = palettable.colorbrewer.diverging.PuOr_10"
   ]
  },
  {
   "cell_type": "code",
   "execution_count": 13,
   "id": "6e0f48ab-0cbe-4ce9-b804-9a1a3330ff9f",
   "metadata": {},
   "outputs": [
    {
     "data": {
      "image/png": "[encoded data removed]",
      "text/html": [
       "<div style=\"vertical-align: middle;\"><strong>PuOr</strong> </div><div class=\"cmap\"><img alt=\"PuOr colormap\" title=\"PuOr\" style=\"border: 1px solid #555;\" src=\"data:image/png;base64,iVBORw0KGgoAAAANSUhEUgAAAgAAAABACAYAAABsv8+/AAAAE3RFWHRUaXRsZQBQdU9yIGNvbG9ybWFw1Lg2NQAAABl0RVh0RGVzY3JpcHRpb24AUHVPciBjb2xvcm1hcF8Kpq0AAAAwdEVYdEF1dGhvcgBNYXRwbG90bGliIHYzLjcuMywgaHR0cHM6Ly9tYXRwbG90bGliLm9yZ7rJ3hAAAAAydEVYdFNvZnR3YXJlAE1hdHBsb3RsaWIgdjMuNy4zLCBodHRwczovL21hdHBsb3RsaWIub3JnlG9BNwAAAgRJREFUeJzt1kFy2yAAhlFQNr1TD9eTS3QR5IyxsdEknS7+9zYMCIG8SOarf37/aqWUUmsrpZSy1bI01sV98/2v7/v++ZN92zmvS/NtO89/Pf9f5z3OP96M2/28Lu67+ryunrO2b+vj7Qf388ttfTL/9r439/30d5TP+44+tlL7OKy37fn68PwY3p+d8/B+Gd5fvm88pw739fOOz7//o7U+L5P1trheLu7/R+f094/j6GN7Om+T9a/nz9fP/W2y/tPnvP3Ova/vw/59eH7bfz6frQ/fvV98ftyfP65f/t52zve7+df663lr+2R99v7aPY/r1+45x/7fDQBIIgAAIJAAAIBAAgAAAgkAAAgkAAAgkAAAgEACAAACCQAACCQAACCQAACAQAIAAAIJAAAIJAAAIJAAAIBAAgAAAgkAAAgkAAAgkAAAgEACAAACCQAACCQAACCQAACAQAIAAAIJAAAIJAAAIJAAAIBAAgAAAgkAAAgkAAAgkAAAgEACAAACCQAACCQAACCQAACAQAIAAAIJAAAIJAAAIJAAAIBAAgAAAgkAAAgkAAAgkAAAgEACAAACCQAACCQAACCQAACAQAIAAAIJAAAIJAAAIJAAAIBAAgAAAgkAAAgkAAAgkAAAgEACAAACCQAACCQAACCQAACAQAIAAAIJAAAIJAAAIJAAAIBAfwF0sXUGDv0RXAAAAABJRU5ErkJggg==\"></div><div style=\"vertical-align: middle; max-width: 514px; display: flex; justify-content: space-between;\"><div style=\"float: left;\"><div title=\"#7f3b08ff\" style=\"display: inline-block; width: 1em; height: 1em; margin: 0; vertical-align: middle; border: 1px solid #555; background-color: #7f3b08ff;\"></div> under</div><div style=\"margin: 0 auto; display: inline-block;\">bad <div title=\"#00000000\" style=\"display: inline-block; width: 1em; height: 1em; margin: 0; vertical-align: middle; border: 1px solid #555; background-color: #00000000;\"></div></div><div style=\"float: right;\">over <div title=\"#2d004bff\" style=\"display: inline-block; width: 1em; height: 1em; margin: 0; vertical-align: middle; border: 1px solid #555; background-color: #2d004bff;\"></div></div>"
      ],
      "text/plain": [
       "<matplotlib.colors.LinearSegmentedColormap at 0x2959c6b50>"
      ]
     },
     "execution_count": 13,
     "metadata": {},
     "output_type": "execute_result"
    }
   ],
   "source": [
    "cmap.mpl_colormap"
   ]
  },
  {
   "cell_type": "markdown",
   "id": "74d9d749-4222-4aa8-bf12-ded79187a616",
   "metadata": {},
   "source": [
    "Now we'll use `apply_continuous_cmap` onto this array to generate colors for our data. Just set this new array onto the existing map, and you'll see the map update with the new colors!"
   ]
  },
  {
   "cell_type": "code",
   "execution_count": 14,
   "id": "7288a2d7-3190-4f9e-b29e-bbba32109024",
   "metadata": {},
   "outputs": [],
   "source": [
    "map_.get_color = apply_continuous_cmap(normalized_scale_rank, palettable.colorbrewer.diverging.PuOr_10, alpha=0.8)"
   ]
  },
  {
   "cell_type": "code",
   "execution_count": null,
   "id": "72807632-f5de-4dcc-9c8e-f4e0c8495e2b",
   "metadata": {},
   "outputs": [],
   "source": []
  }
 ],
 "metadata": {
  "kernelspec": {
   "display_name": "Python 3 (ipykernel)",
   "language": "python",
   "name": "python3"
  },
  "language_info": {
   "codemirror_mode": {
    "name": "ipython",
    "version": 3
   },
   "file_extension": ".py",
   "mimetype": "text/x-python",
   "name": "python",
   "nbconvert_exporter": "python",
   "pygments_lexer": "ipython3",
   "version": "3.11.4"
  }
 },
 "nbformat": 4,
 "nbformat_minor": 5
}
