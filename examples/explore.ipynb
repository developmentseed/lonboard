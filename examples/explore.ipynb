{
 "cells": [
  {
   "cell_type": "code",
   "execution_count": null,
   "id": "a76948e2-eda2-4c6f-8fe2-341b67ac5531",
   "metadata": {},
   "outputs": [],
   "source": [
    "%load_ext autoreload\n",
    "%autoreload 2\n",
    "\n",
    "\n",
    "import geodatasets\n",
    "import geopandas as gpd\n",
    "import numpy as np\n",
    "from mapclassify import classify\n",
    "\n",
    "import lonboard.geopandas  # noqa: F401\n",
    "from lonboard import PolygonLayer"
   ]
  },
  {
   "cell_type": "code",
   "execution_count": null,
   "id": "1e09eb28-7b9a-4dd6-a11a-f9d26bd5e793",
   "metadata": {},
   "outputs": [],
   "source": [
    "%load_ext watermark\n",
    "%watermark -a 'eli knaap'  -iv"
   ]
  },
  {
   "cell_type": "code",
   "execution_count": null,
   "id": "3902a38a-84c2-492a-b8b8-fad2b4afef72",
   "metadata": {},
   "outputs": [],
   "source": [
    "gdf = gpd.read_file(geodatasets.get_path(\"geoda.milwaukee1\"))"
   ]
  },
  {
   "cell_type": "code",
   "execution_count": null,
   "id": "9b0db679-e16b-4111-b24f-19de0c544fc5",
   "metadata": {},
   "outputs": [],
   "source": [
    "gdf = gdf.to_crs(gdf.estimate_utm_crs())"
   ]
  },
  {
   "cell_type": "code",
   "execution_count": null,
   "id": "0e071041-a9a6-4d9a-9c3f-e8b252bda744",
   "metadata": {},
   "outputs": [],
   "source": [
    "gdf = gdf[[\"HH_INC\", \"geometry\"]]"
   ]
  },
  {
   "cell_type": "markdown",
   "id": "d3b67d78-8ddc-4691-9f09-3fbb81a65cd0",
   "metadata": {},
   "source": [
    "## Simple Map"
   ]
  },
  {
   "cell_type": "code",
   "execution_count": null,
   "id": "11c477e4-b3c0-489c-a85c-2a9ac9e48d8c",
   "metadata": {
    "scrolled": true
   },
   "outputs": [],
   "source": [
    "gdf.explore()"
   ]
  },
  {
   "cell_type": "markdown",
   "id": "93da152a-6409-4764-ab24-f773e3d09fb9",
   "metadata": {},
   "source": [
    "## boorish (classless :P) choropleth"
   ]
  },
  {
   "cell_type": "code",
   "execution_count": null,
   "id": "487cafd3-4735-4c2c-b19f-6ff6dcdfe93c",
   "metadata": {},
   "outputs": [],
   "source": [
    "gdf.explore(\"HH_INC\", tiles=\"CartoDB Darkmatter\")"
   ]
  },
  {
   "cell_type": "code",
   "execution_count": null,
   "id": "f044e655-32be-4ce1-b015-223ed9c71de1",
   "metadata": {
    "scrolled": true
   },
   "outputs": [],
   "source": [
    "gdf.lb.explore(\n",
    "    column=\"HH_INC\",\n",
    ")"
   ]
  },
  {
   "cell_type": "code",
   "execution_count": null,
   "id": "03ea7ff8-6373-426c-a046-0398bab5a114",
   "metadata": {},
   "outputs": [],
   "source": [
    "gdf.assign(catinc=gdf.HH_INC.astype(\"str\")).lb.explore(\n",
    "    column=\"catinc\",\n",
    "    categorical=True,\n",
    ")"
   ]
  },
  {
   "cell_type": "markdown",
   "id": "37f82819-37f7-4e32-abc2-e26b8b38c24a",
   "metadata": {},
   "source": [
    "## simple classified choropleth"
   ]
  },
  {
   "cell_type": "code",
   "execution_count": null,
   "id": "d39aeef9-3d1f-433c-b053-fc4f12fe81c7",
   "metadata": {},
   "outputs": [],
   "source": [
    "gdf.explore(\n",
    "    column=\"HH_INC\",\n",
    "    scheme=\"quantiles\",\n",
    "    k=6,\n",
    "    cmap=\"YlOrBr\",\n",
    ")"
   ]
  },
  {
   "cell_type": "code",
   "execution_count": null,
   "id": "e70b95c3-09b2-40be-8f5e-fd1482388be2",
   "metadata": {},
   "outputs": [],
   "source": [
    "gdf.lb.explore(\n",
    "    column=\"HH_INC\",\n",
    "    cmap=\"YlOrBr\",\n",
    "    scheme=\"quantiles\",\n",
    "    alpha=0.5,\n",
    "    layer_kwargs={\"opacity\": 1},\n",
    ")"
   ]
  },
  {
   "cell_type": "code",
   "execution_count": null,
   "id": "148bce49-d04d-4c74-b246-7d5125622ede",
   "metadata": {},
   "outputs": [],
   "source": [
    "gdf.lb.explore(\n",
    "    column=\"HH_INC\",\n",
    "    cmap=\"YlOrBr\",\n",
    "    scheme=\"quantiles\",\n",
    "    alpha=1,\n",
    "    layer_kwargs={\"opacity\": 0.5},\n",
    ")"
   ]
  },
  {
   "cell_type": "markdown",
   "id": "d43d7314-5db4-4cdc-89fd-3733698c5c10",
   "metadata": {},
   "source": [
    "### custom classification"
   ]
  },
  {
   "cell_type": "code",
   "execution_count": null,
   "id": "7eb2b472-a17f-4ff3-8853-3c3a2e7dc058",
   "metadata": {
    "scrolled": true
   },
   "outputs": [],
   "source": [
    "classify_kwds = {\"bins\": [20000, 40000, 800000, 2000000]}\n",
    "\n",
    "gdf.explore(\n",
    "    column=\"HH_INC\",\n",
    "    cmap=\"YlOrBr\",\n",
    "    scheme=\"user_defined\",\n",
    "    classification_kwds=classify_kwds,\n",
    ")"
   ]
  },
  {
   "cell_type": "code",
   "execution_count": null,
   "id": "ad5c4e9f-7dcc-4144-b5ba-77987cea0def",
   "metadata": {},
   "outputs": [],
   "source": [
    "gdf.lb.explore(\n",
    "    column=\"HH_INC\",\n",
    "    cmap=\"YlOrBr\",\n",
    "    scheme=\"user_defined\",\n",
    "    classification_kwds=classify_kwds,\n",
    ")"
   ]
  },
  {
   "cell_type": "markdown",
   "id": "998168a1-fa09-4b01-a4e3-77acf5de22fb",
   "metadata": {},
   "source": [
    "## compose with lines and points"
   ]
  },
  {
   "cell_type": "code",
   "execution_count": null,
   "id": "7bfeed99-4ce3-4353-93e5-43c6b72c552e",
   "metadata": {},
   "outputs": [],
   "source": [
    "linedf = gpd.GeoDataFrame(geometry=gdf.boundary)\n",
    "linedf[\"len\"] = linedf.length"
   ]
  },
  {
   "cell_type": "code",
   "execution_count": null,
   "id": "13d4ca32-c4c7-44e7-b108-4a82e54da0ac",
   "metadata": {},
   "outputs": [],
   "source": [
    "m = linedf.explore(\n",
    "    column=\"len\",\n",
    "    cmap=\"viridis_r\",\n",
    "    scheme=\"quantiles\",\n",
    "    k=10,\n",
    "    tiles=\"CartoDB Darkmatter\",\n",
    ")\n",
    "gdf.set_geometry(gdf.centroid).explore(color=\"magenta\", m=m)\n",
    "m"
   ]
  },
  {
   "cell_type": "code",
   "execution_count": null,
   "id": "54df1700-2971-4813-9842-aa0116b46e20",
   "metadata": {},
   "outputs": [],
   "source": [
    "m = linedf.lb.explore(column=\"len\", cmap=\"viridis_r\", scheme=\"quantiles\", k=10)\n",
    "gdf.set_geometry(gdf.centroid).lb.explore(color=\"magenta\", m=m)\n",
    "\n",
    "# cant do this part unless you use fit_bounds?\n",
    "m.set_view_state(zoom=10.5, longitude=-87.85, latitude=43.05)\n",
    "m"
   ]
  },
  {
   "cell_type": "markdown",
   "id": "732114af-7e34-49ee-94e1-5eb04cd505b1",
   "metadata": {},
   "source": [
    "## categorical"
   ]
  },
  {
   "cell_type": "code",
   "execution_count": null,
   "id": "1018dc7c-7dca-4e24-80bc-e908216e416f",
   "metadata": {},
   "outputs": [],
   "source": [
    "# random categories\n",
    "gdf[\"i\"] = gdf.index.values"
   ]
  },
  {
   "cell_type": "code",
   "execution_count": null,
   "id": "b907bc91-f3a2-4513-a9ce-1718acf29489",
   "metadata": {},
   "outputs": [],
   "source": [
    "gdf.explore(\n",
    "    \"i\",\n",
    "    categorical=True,\n",
    ")"
   ]
  },
  {
   "cell_type": "code",
   "execution_count": null,
   "id": "a7f86337-b4ed-4ac6-929c-13d053f21767",
   "metadata": {},
   "outputs": [],
   "source": [
    "gdf.assign(i=gdf[\"i\"].astype(str)).lb.explore(\n",
    "    column=\"i\",\n",
    "    # categorical=True,\n",
    ")"
   ]
  },
  {
   "cell_type": "code",
   "execution_count": null,
   "id": "d6a5442e-e60a-4587-9ab5-c91c3fa29a44",
   "metadata": {},
   "outputs": [],
   "source": [
    "gdf.assign(icat=gdf[\"i\"].astype(\"category\")).lb.explore(\n",
    "    column=\"icat\",\n",
    "    categorical=True,\n",
    ")"
   ]
  },
  {
   "cell_type": "code",
   "execution_count": null,
   "id": "73ccf36d-a9af-4bf6-853e-fb117e188e4e",
   "metadata": {},
   "outputs": [],
   "source": [
    "categories = classify(gdf.HH_INC, scheme=\"quantiles\", k=5).yb"
   ]
  },
  {
   "cell_type": "code",
   "execution_count": null,
   "id": "e71e3277-2f5d-4129-92b6-d0431f39dc92",
   "metadata": {},
   "outputs": [],
   "source": [
    "# categories that are actually quantiles\n",
    "gdf[\"q5\"] = categories\n",
    "gdf[\"q5\"] = gdf[\"q5\"].astype(\"category\")"
   ]
  },
  {
   "cell_type": "code",
   "execution_count": null,
   "id": "90cb3055-4990-41b1-a0f0-de3ebcd8caa3",
   "metadata": {},
   "outputs": [],
   "source": [
    "gdf.explore(\"q5\", categorical=True, cmap=\"tab20b\", tiles=\"CartoDB Positron\")"
   ]
  },
  {
   "cell_type": "code",
   "execution_count": null,
   "id": "9bd34a9c-6a45-4f53-a9ca-19324e6aa32d",
   "metadata": {},
   "outputs": [],
   "source": [
    "m = gdf.lb.explore(\n",
    "    column=\"q5\",\n",
    "    categorical=True,\n",
    "    cmap=\"tab20b\",\n",
    "    nan_color=[0, 0, 0, 0],\n",
    "    tiles=\"CartoDB Positron\",\n",
    ")\n",
    "m"
   ]
  },
  {
   "cell_type": "code",
   "execution_count": null,
   "id": "c54f7abe-ca10-467a-baf0-ff6c499ea4e8",
   "metadata": {},
   "outputs": [],
   "source": [
    "m = gdf.lb.explore(column=\"q5\", categorical=True, cmap=\"RdBu\", alpha=0.5)"
   ]
  },
  {
   "cell_type": "code",
   "execution_count": null,
   "id": "433064c8-6f54-43fe-9e73-1754100a6d50",
   "metadata": {},
   "outputs": [],
   "source": [
    "m"
   ]
  },
  {
   "cell_type": "markdown",
   "id": "4c6c26e7-3cc1-434f-ae00-84a1544bbf0d",
   "metadata": {},
   "source": [
    "## animated choropleth"
   ]
  },
  {
   "cell_type": "code",
   "execution_count": null,
   "id": "074b0cef-484d-4f63-b258-e71d77aabc36",
   "metadata": {},
   "outputs": [],
   "source": [
    "m = gdf.lb.explore(\n",
    "    categorical=True,\n",
    "    color=\"orange\",\n",
    "    map_kwargs={\"show_side_panel\": True},\n",
    ")\n",
    "m"
   ]
  },
  {
   "cell_type": "code",
   "execution_count": null,
   "id": "fc26c67d-35f2-43c2-9163-f8d4676ef559",
   "metadata": {},
   "outputs": [],
   "source": [
    "m.layers[0].get_fill_color = \"blue\""
   ]
  },
  {
   "cell_type": "markdown",
   "id": "09460532-e6b1-4db1-b7f0-0969cfc18603",
   "metadata": {},
   "source": [
    "without rerendering the map you can update the color"
   ]
  },
  {
   "cell_type": "markdown",
   "id": "7b45e650-b4b6-4e07-a753-a3dd5102b09c",
   "metadata": {},
   "source": [
    "(this updates *both* maps, including the cell above)"
   ]
  },
  {
   "cell_type": "code",
   "execution_count": null,
   "id": "3679be91-b2da-439c-8e31-f9fecbca1989",
   "metadata": {},
   "outputs": [],
   "source": [
    "m"
   ]
  },
  {
   "cell_type": "code",
   "execution_count": null,
   "id": "77350cf2-3d15-47ec-a517-aa532355b77b",
   "metadata": {},
   "outputs": [],
   "source": [
    "from time import sleep\n",
    "\n",
    "for _ in range(5):\n",
    "    for color in [\"yellow\", \"red\", \"blue\"]:\n",
    "        m.layers[0].get_fill_color = color\n",
    "        sleep(0.3)\n",
    "    sleep(1)"
   ]
  },
  {
   "cell_type": "markdown",
   "id": "d456a881-5748-4ea0-9b88-1e3890fc1bf8",
   "metadata": {},
   "source": [
    "change color in a timed loop like a gif"
   ]
  },
  {
   "cell_type": "code",
   "execution_count": null,
   "id": "48c5bb2c-f908-47d8-8e3d-62d7eb7c9cd1",
   "metadata": {},
   "outputs": [],
   "source": [
    "from ipywidgets import widget\n",
    "from mapclassify import classify\n",
    "from mapclassify.util import get_color_array\n",
    "from matplotlib import colormaps"
   ]
  },
  {
   "cell_type": "code",
   "execution_count": null,
   "id": "9bef0a45-e050-48c6-a295-2cfe55f7787f",
   "metadata": {},
   "outputs": [],
   "source": [
    "def choro(\n",
    "    vals: np.ndarray,\n",
    "    classifier: str,\n",
    "    cmap: str,\n",
    "    k: int,\n",
    "    layer: PolygonLayer,\n",
    ") -> widget:\n",
    "    layer.get_fill_color = get_color_array(vals, classifier, k=k, cmap=cmap)"
   ]
  },
  {
   "cell_type": "code",
   "execution_count": null,
   "id": "0577a3a1-74e2-4d89-b1ce-e4ddd27340c4",
   "metadata": {},
   "outputs": [],
   "source": [
    "m = gdf.lb.explore()\n",
    "m"
   ]
  },
  {
   "cell_type": "code",
   "execution_count": null,
   "id": "1ba6de4d-c2e3-45ae-a444-d2c78606064b",
   "metadata": {},
   "outputs": [],
   "source": [
    "from mapclassify._classify_API import _classifiers"
   ]
  },
  {
   "cell_type": "code",
   "execution_count": null,
   "id": "a766ea7e-f400-4bed-8fcd-6cf332174f6e",
   "metadata": {},
   "outputs": [],
   "source": [
    "from ipywidgets import fixed, interact\n",
    "\n",
    "interact(\n",
    "    choro,\n",
    "    vals=fixed(gdf.HH_INC),\n",
    "    classifier=list(_classifiers.keys()),\n",
    "    k=range(3, 10),\n",
    "    cmap=list(colormaps.keys()),\n",
    "    layer=fixed(m.layers[0]),\n",
    ")"
   ]
  },
  {
   "cell_type": "code",
   "execution_count": null,
   "id": "73c7a823-c3fd-4ade-aa73-5709b0ee29d7",
   "metadata": {},
   "outputs": [],
   "source": [
    "gdf.loc[0:200, \"HH_INC\"] = np.nan\n",
    "\n",
    "m = gdf.lb.explore(\n",
    "    column=\"HH_INC\",\n",
    "    cmap=\"Accent\",\n",
    "    nan_color=[0, 0, 0, 0],\n",
    ")\n",
    "m"
   ]
  },
  {
   "cell_type": "code",
   "execution_count": null,
   "id": "89bca34c-7123-44ca-be2c-e451f946ec38",
   "metadata": {},
   "outputs": [],
   "source": []
  },
  {
   "cell_type": "markdown",
   "id": "5b1833da-1fbe-4f35-96bf-d1d63d350e25",
   "metadata": {},
   "source": [
    "## Additional features not yet implemented"
   ]
  },
  {
   "cell_type": "markdown",
   "id": "e1f9f5c8-9a2a-425c-a4f0-13886dd459d6",
   "metadata": {},
   "source": [
    "The cells below may be considered via additional keyword arguments to the `explore` method. If these options are added, the following cells can be changed from \"raw\" to \"code\" and executed."
   ]
  },
  {
   "cell_type": "markdown",
   "id": "a1e212ce-466f-48db-9f3a-29bdf081f747",
   "metadata": {},
   "source": [
    "### 3D customized choropleth"
   ]
  },
  {
   "cell_type": "markdown",
   "id": "a63025bc-882e-411e-a351-b5e3694c2914",
   "metadata": {},
   "source": [
    "not actually intended to be attractive; no analogue in `explore`"
   ]
  },
  {
   "cell_type": "raw",
   "id": "faac05ec-4bc2-48d9-ad0b-dea626220455",
   "metadata": {},
   "source": [
    "gdf.lb.explore(\n",
    "    column=\"HH_INC\",\n",
    "    cmap=\"plasma\",\n",
    "    scheme=\"fisher_jenks\",\n",
    "    k=8,\n",
    "    elevation=\"HH_INC\",\n",
    "    elevation_scale=0.1,\n",
    "    wireframe=True,\n",
    "    layer_kwargs={\n",
    "        \"get_line_color\": \"green\",\n",
    "        \"auto_highlight\": True,\n",
    "    },\n",
    "    map_kwargs={\n",
    "        \"view_state\": {\n",
    "            \"longitude\": -87.84,\n",
    "            \"latitude\": 43.13,\n",
    "            \"zoom\": 8.8,\n",
    "            \"pitch\": 44,\n",
    "            \"bearing\": -14,\n",
    "        },\n",
    "    },\n",
    ")"
   ]
  }
 ],
 "metadata": {
  "kernelspec": {
   "display_name": "Python [conda env:lonboard]",
   "language": "python",
   "name": "conda-env-lonboard-py"
  },
  "language_info": {
   "codemirror_mode": {
    "name": "ipython",
    "version": 3
   },
   "file_extension": ".py",
   "mimetype": "text/x-python",
   "name": "python",
   "nbconvert_exporter": "python",
   "pygments_lexer": "ipython3",
   "version": "3.12.8"
  },
  "widgets": {
   "application/vnd.jupyter.widget-state+json": {
    "state": {},
    "version_major": 2,
    "version_minor": 0
   }
  }
 },
 "nbformat": 4,
 "nbformat_minor": 5
}
