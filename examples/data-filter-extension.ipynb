{
 "cells": [
  {
   "cell_type": "markdown",
   "metadata": {},
   "source": [
    "# DataFilterExtension\n",
    "\n",
    "The `DataFilterExtension` adds GPU-based data filtering functionalities to\n",
    "layers, allowing the layer to show/hide objects based on user-defined\n",
    "properties.\n",
    "\n",
    "In this demo we'll use the `DataFilterExtension` to filter millions of points based on three numeric attributes.\n",
    "\n",
    "As with the `ScatterplotLayer` example, this example will use data from Ookla's Speed Test application and [shared publicly in the AWS Open Data Registry](https://registry.opendata.aws/speedtest-global-performance/)."
   ]
  },
  {
   "cell_type": "markdown",
   "metadata": {},
   "source": [
    "## Imports"
   ]
  },
  {
   "cell_type": "code",
   "execution_count": 1,
   "metadata": {},
   "outputs": [],
   "source": [
    "from pathlib import Path\n",
    "\n",
    "import geopandas as gpd\n",
    "import numpy as np\n",
    "import pandas as pd\n",
    "import shapely\n",
    "from ipywidgets import FloatRangeSlider, jsdlink\n",
    "from palettable.colorbrewer.diverging import BrBG_10\n",
    "\n",
    "from lonboard import Map, ScatterplotLayer\n",
    "from lonboard.colormap import apply_continuous_cmap\n",
    "from lonboard.controls import MultiRangeSlider\n",
    "from lonboard.experimental import DataFilterExtension"
   ]
  },
  {
   "cell_type": "markdown",
   "metadata": {},
   "source": [
    "## Fetch data\n",
    "\n",
    "We use the same data as the `ScatterplotLayer` example except that here we download extra columns from the dataset to use for filtering.\n",
    "\n",
    "Columns:\n",
    "\n",
    "- `avg_d_kbps`: the average download speed for that data point in kbps\n",
    "- `avg_u_kbps`: the average upload speed for that data point in kbps\n",
    "- `avg_lat_ms`: the average latency for that data point in milliseconds\n",
    "- `devices`: the number of unique devices contributing tests in the tile.\n",
    "- `tile`: the WKT string representing a given zoom-16 Web Mercator tile\n",
    "\n",
    "We cache the downloaded file locally to `data-filter-extension.parquet` so that the second time running this notebook will be faster."
   ]
  },
  {
   "cell_type": "code",
   "execution_count": 2,
   "metadata": {},
   "outputs": [],
   "source": [
    "url = \"https://ookla-open-data.s3.us-west-2.amazonaws.com/parquet/performance/type=mobile/year=2019/quarter=1/2019-01-01_performance_mobile_tiles.parquet\"\n",
    "local_path = Path(\"data-filter-extension.parquet\")\n",
    "if local_path.exists():\n",
    "    gdf = gpd.read_parquet(local_path)\n",
    "else:\n",
    "    columns = [\"avg_d_kbps\", \"avg_u_kbps\", \"avg_lat_ms\", \"devices\", \"tile\"]\n",
    "    df = pd.read_parquet(url, columns=columns)\n",
    "\n",
    "    tile_geometries = shapely.from_wkt(df[\"tile\"])\n",
    "    tile_centroids = shapely.centroid(tile_geometries)\n",
    "    non_geom_columns = [col for col in columns if col != \"tile\"]\n",
    "    gdf = gpd.GeoDataFrame(df[non_geom_columns], geometry=tile_centroids)\n",
    "    gdf.to_parquet(local_path)"
   ]
  },
  {
   "cell_type": "markdown",
   "metadata": {},
   "source": [
    "Taking a quick look at this data, we see that we have 3.2 million records."
   ]
  },
  {
   "cell_type": "code",
   "execution_count": 3,
   "metadata": {},
   "outputs": [
    {
     "data": {
      "text/html": [
       "<div>\n",
       "<style scoped>\n",
       "    .dataframe tbody tr th:only-of-type {\n",
       "        vertical-align: middle;\n",
       "    }\n",
       "\n",
       "    .dataframe tbody tr th {\n",
       "        vertical-align: top;\n",
       "    }\n",
       "\n",
       "    .dataframe thead th {\n",
       "        text-align: right;\n",
       "    }\n",
       "</style>\n",
       "<table border=\"1\" class=\"dataframe\">\n",
       "  <thead>\n",
       "    <tr style=\"text-align: right;\">\n",
       "      <th></th>\n",
       "      <th>avg_d_kbps</th>\n",
       "      <th>avg_u_kbps</th>\n",
       "      <th>avg_lat_ms</th>\n",
       "      <th>devices</th>\n",
       "      <th>geometry</th>\n",
       "    </tr>\n",
       "  </thead>\n",
       "  <tbody>\n",
       "    <tr>\n",
       "      <th>0</th>\n",
       "      <td>5983</td>\n",
       "      <td>7886</td>\n",
       "      <td>68</td>\n",
       "      <td>1</td>\n",
       "      <td>POINT (-160.01862 70.63722)</td>\n",
       "    </tr>\n",
       "    <tr>\n",
       "      <th>1</th>\n",
       "      <td>3748</td>\n",
       "      <td>5841</td>\n",
       "      <td>78</td>\n",
       "      <td>2</td>\n",
       "      <td>POINT (-160.04059 70.63357)</td>\n",
       "    </tr>\n",
       "    <tr>\n",
       "      <th>2</th>\n",
       "      <td>3364</td>\n",
       "      <td>6200</td>\n",
       "      <td>78</td>\n",
       "      <td>2</td>\n",
       "      <td>POINT (-160.04059 70.63175)</td>\n",
       "    </tr>\n",
       "    <tr>\n",
       "      <th>3</th>\n",
       "      <td>2381</td>\n",
       "      <td>2328</td>\n",
       "      <td>86</td>\n",
       "      <td>1</td>\n",
       "      <td>POINT (-160.03510 70.63357)</td>\n",
       "    </tr>\n",
       "    <tr>\n",
       "      <th>4</th>\n",
       "      <td>3047</td>\n",
       "      <td>5356</td>\n",
       "      <td>75</td>\n",
       "      <td>1</td>\n",
       "      <td>POINT (-160.03510 70.63175)</td>\n",
       "    </tr>\n",
       "    <tr>\n",
       "      <th>...</th>\n",
       "      <td>...</td>\n",
       "      <td>...</td>\n",
       "      <td>...</td>\n",
       "      <td>...</td>\n",
       "      <td>...</td>\n",
       "    </tr>\n",
       "    <tr>\n",
       "      <th>3231240</th>\n",
       "      <td>19528</td>\n",
       "      <td>3200</td>\n",
       "      <td>68</td>\n",
       "      <td>1</td>\n",
       "      <td>POINT (169.81842 -46.29571)</td>\n",
       "    </tr>\n",
       "    <tr>\n",
       "      <th>3231241</th>\n",
       "      <td>15693</td>\n",
       "      <td>10359</td>\n",
       "      <td>56</td>\n",
       "      <td>1</td>\n",
       "      <td>POINT (169.81293 -46.30710)</td>\n",
       "    </tr>\n",
       "    <tr>\n",
       "      <th>3231242</th>\n",
       "      <td>26747</td>\n",
       "      <td>9674</td>\n",
       "      <td>58</td>\n",
       "      <td>2</td>\n",
       "      <td>POINT (169.66461 -46.42082)</td>\n",
       "    </tr>\n",
       "    <tr>\n",
       "      <th>3231243</th>\n",
       "      <td>67995</td>\n",
       "      <td>13564</td>\n",
       "      <td>63</td>\n",
       "      <td>1</td>\n",
       "      <td>POINT (169.65912 -46.45110)</td>\n",
       "    </tr>\n",
       "    <tr>\n",
       "      <th>3231244</th>\n",
       "      <td>1230</td>\n",
       "      <td>1798</td>\n",
       "      <td>55</td>\n",
       "      <td>1</td>\n",
       "      <td>POINT (168.85162 -46.56075)</td>\n",
       "    </tr>\n",
       "  </tbody>\n",
       "</table>\n",
       "<p>3231245 rows × 5 columns</p>\n",
       "</div>"
      ],
      "text/plain": [
       "         avg_d_kbps  avg_u_kbps  avg_lat_ms  devices  \\\n",
       "0              5983        7886          68        1   \n",
       "1              3748        5841          78        2   \n",
       "2              3364        6200          78        2   \n",
       "3              2381        2328          86        1   \n",
       "4              3047        5356          75        1   \n",
       "...             ...         ...         ...      ...   \n",
       "3231240       19528        3200          68        1   \n",
       "3231241       15693       10359          56        1   \n",
       "3231242       26747        9674          58        2   \n",
       "3231243       67995       13564          63        1   \n",
       "3231244        1230        1798          55        1   \n",
       "\n",
       "                            geometry  \n",
       "0        POINT (-160.01862 70.63722)  \n",
       "1        POINT (-160.04059 70.63357)  \n",
       "2        POINT (-160.04059 70.63175)  \n",
       "3        POINT (-160.03510 70.63357)  \n",
       "4        POINT (-160.03510 70.63175)  \n",
       "...                              ...  \n",
       "3231240  POINT (169.81842 -46.29571)  \n",
       "3231241  POINT (169.81293 -46.30710)  \n",
       "3231242  POINT (169.66461 -46.42082)  \n",
       "3231243  POINT (169.65912 -46.45110)  \n",
       "3231244  POINT (168.85162 -46.56075)  \n",
       "\n",
       "[3231245 rows x 5 columns]"
      ]
     },
     "execution_count": 3,
     "metadata": {},
     "output_type": "execute_result"
    }
   ],
   "source": [
    "gdf"
   ]
  },
  {
   "cell_type": "markdown",
   "metadata": {},
   "source": [
    "Since we want to cross-filter on three attributes at once, we create a `DataFilterExtension` instance with `filter_size=3`."
   ]
  },
  {
   "cell_type": "code",
   "execution_count": 4,
   "metadata": {},
   "outputs": [],
   "source": [
    "filter_extension = DataFilterExtension(filter_size=3)"
   ]
  },
  {
   "cell_type": "markdown",
   "metadata": {},
   "source": [
    "Similar to the `ScatterplotLayer` example notebook, we create a normalized download speed to use for a per-point color and radius."
   ]
  },
  {
   "cell_type": "code",
   "execution_count": 5,
   "metadata": {},
   "outputs": [],
   "source": [
    "min_bound = 5000\n",
    "max_bound = 50000\n",
    "normalized_download_speed = (gdf[\"avg_d_kbps\"] - min_bound) / (max_bound - min_bound)\n",
    "fill_color = apply_continuous_cmap(normalized_download_speed, BrBG_10)\n",
    "radius = normalized_download_speed * 200"
   ]
  },
  {
   "cell_type": "markdown",
   "metadata": {},
   "source": [
    "Next we prepare the columns that we want to filter on. In this case, we'll filter on the download speed, upload speed, and latency values. These need to be passed in as a single two-dimensional numpy array, so we use [`numpy.column_stack`](https://numpy.org/doc/stable/reference/generated/numpy.column_stack.html). Only numeric arrays can be used for GPU-based filtering.\n",
    "\n",
    "We also define initial filter ranges for each of these columns."
   ]
  },
  {
   "cell_type": "code",
   "execution_count": 6,
   "metadata": {},
   "outputs": [],
   "source": [
    "filter_values = np.column_stack(\n",
    "    [gdf[\"avg_d_kbps\"], gdf[\"avg_u_kbps\"], gdf[\"avg_lat_ms\"]]\n",
    ")\n",
    "initial_filter_range = [\n",
    "    [10_000, 50_000],\n",
    "    [1000, 10_000],\n",
    "    [0, 100],\n",
    "]"
   ]
  },
  {
   "cell_type": "markdown",
   "metadata": {},
   "source": [
    "Next we create a `ScatterplotLayer` with our desired attributes. Keep in mind that you must pass the `DataFilterExtension` instance to the `extensions` parameter in order to activate its functionality on the layer."
   ]
  },
  {
   "cell_type": "code",
   "execution_count": 7,
   "metadata": {},
   "outputs": [
    {
     "data": {
      "application/vnd.jupyter.widget-view+json": {
       "model_id": "4320d596afb14eafa6ff73e88eb758a3",
       "version_major": 2,
       "version_minor": 0
      },
      "text/plain": [
       "Map(layers=[ScatterplotLayer(extensions=[DataFilterExtension(filter_size=3)], filter_range=[[10000.0, 50000.0]…"
      ]
     },
     "execution_count": 7,
     "metadata": {},
     "output_type": "execute_result"
    }
   ],
   "source": [
    "layer = ScatterplotLayer.from_geopandas(\n",
    "    gdf,\n",
    "    extensions=[filter_extension],\n",
    "    get_fill_color=fill_color,\n",
    "    get_radius=radius,\n",
    "    get_filter_value=filter_values,\n",
    "    filter_range=initial_filter_range,\n",
    "    radius_units=\"meters\",\n",
    "    radius_min_pixels=0.1,\n",
    ")\n",
    "m = Map(layer)\n",
    "m"
   ]
  },
  {
   "cell_type": "markdown",
   "metadata": {},
   "source": [
    "Only the points that are within all of our initial filter ranges are shown, but we'd like something more interactive. Let's connect sliders to the map.\n",
    "\n",
    "Here we create a separate slider for each attribute and then connect them using a `MultiRangeSlider`. This _defines_ the slider element but it won't be connected to the map until we use `ipywidgets.jsdlink` later."
   ]
  },
  {
   "cell_type": "code",
   "execution_count": 8,
   "metadata": {},
   "outputs": [
    {
     "data": {
      "application/vnd.jupyter.widget-view+json": {
       "model_id": "4c69d443c93740dca8ba209685237fab",
       "version_major": 2,
       "version_minor": 0
      },
      "text/plain": [
       "MultiRangeSlider(children=(FloatRangeSlider(value=(10000.0, 50000.0), description='Download: ', max=70000.0), …"
      ]
     },
     "execution_count": 8,
     "metadata": {},
     "output_type": "execute_result"
    }
   ],
   "source": [
    "download_slider = FloatRangeSlider(\n",
    "    value=initial_filter_range[0],\n",
    "    min=0,\n",
    "    max=70_000,\n",
    "    step=0.1,\n",
    "    description=\"Download: \",\n",
    ")\n",
    "upload_slider = FloatRangeSlider(\n",
    "    value=initial_filter_range[1],\n",
    "    min=0,\n",
    "    max=50_000,\n",
    "    step=1,\n",
    "    description=\"Upload: \",\n",
    ")\n",
    "latency_slider = FloatRangeSlider(\n",
    "    value=initial_filter_range[2],\n",
    "    min=0,\n",
    "    max=500,\n",
    "    step=1,\n",
    "    description=\"Latency: \",\n",
    ")\n",
    "multi_slider = MultiRangeSlider([download_slider, upload_slider, latency_slider])\n",
    "multi_slider"
   ]
  },
  {
   "cell_type": "markdown",
   "metadata": {},
   "source": [
    "In order to propagate the changes in our sliders to the `ScatterplotLayer` instance, we use `jsdlink`. See [Linking Widgets](https://ipywidgets.readthedocs.io/en/stable/examples/Widget%20Events.html#linking-widgets) in the ipywidgets documentation for more info."
   ]
  },
  {
   "cell_type": "code",
   "execution_count": 9,
   "metadata": {},
   "outputs": [],
   "source": [
    "_ = jsdlink((multi_slider, \"value\"), (layer, \"filter_range\"))"
   ]
  },
  {
   "cell_type": "code",
   "execution_count": null,
   "metadata": {},
   "outputs": [],
   "source": []
  }
 ],
 "metadata": {
  "kernelspec": {
   "display_name": "lonboard",
   "language": "python",
   "name": "lonboard"
  },
  "language_info": {
   "codemirror_mode": {
    "name": "ipython",
    "version": 3
   },
   "file_extension": ".py",
   "mimetype": "text/x-python",
   "name": "python",
   "nbconvert_exporter": "python",
   "pygments_lexer": "ipython3",
   "version": "3.11.4"
  }
 },
 "nbformat": 4,
 "nbformat_minor": 2
}
