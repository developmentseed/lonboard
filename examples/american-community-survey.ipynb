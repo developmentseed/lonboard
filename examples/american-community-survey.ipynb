{
 "cells": [
  {
   "cell_type": "markdown",
   "metadata": {},
   "source": [
    "# American Community Survey\n",
    "\n",
    "This example uses the Public Use Microdata Sample provided by the Census Bureau. You can read about the [data documentation](https://www.census.gov/programs-surveys/acs/microdata/documentation.html) or view the [data transformation](https://github.com/jaanli/exploring_american_community_survey_data/blob/main/american_community_survey/models/public_use_microdata_sample/generated/enum_types_mapped_renamed/housing_units_united_states_first_tranche_enum_mapped_renamed.sql)."
   ]
  },
  {
   "cell_type": "code",
   "execution_count": 1,
   "metadata": {},
   "outputs": [],
   "source": [
    "from pathlib import Path\n",
    "\n",
    "import geopandas as gpd\n",
    "import numpy as np\n",
    "import pandas as pd\n",
    "import shapely\n",
    "from ipywidgets import FloatRangeSlider, jsdlink\n",
    "from palettable.colorbrewer.diverging import BrBG_10\n",
    "\n",
    "from lonboard import Map, ScatterplotLayer\n",
    "from lonboard.colormap import apply_continuous_cmap\n",
    "from lonboard.controls import MultiRangeSlider\n",
    "from lonboard.layer_extension import DataFilterExtension"
   ]
  },
  {
   "cell_type": "code",
   "execution_count": 2,
   "metadata": {},
   "outputs": [
    {
     "name": "stdout",
     "output_type": "stream",
     "text": [
      "--2024-02-14 06:38:15--  https://www2.census.gov/geo/tiger/TIGER2020/PUMA/tl_2020_01_puma10.zip\n",
      "Resolving www2.census.gov (www2.census.gov)... 23.73.234.140\n",
      "Connecting to www2.census.gov (www2.census.gov)|23.73.234.140|:443... connected.\n",
      "HTTP request sent, awaiting response... 200 OK\n",
      "Length: unspecified [application/zip]\n",
      "Saving to: ‘tl_2020_01_puma10.zip’\n",
      "\n",
      "tl_2020_01_puma10.z     [ <=>                ]   1.21M  --.-KB/s    in 0.06s   \n",
      "\n",
      "2024-02-14 06:38:15 (19.1 MB/s) - ‘tl_2020_01_puma10.zip’ saved [1274421]\n",
      "\n",
      "Archive:  tl_2020_01_puma10.zip\n"
     ]
    }
   ],
   "source": [
    "!wget -O tl_2020_01_puma10.zip https://www2.census.gov/geo/tiger/TIGER2020/PUMA/tl_2020_01_puma10.zip\n",
    "!unzip -f tl_2020_01_puma10.zip"
   ]
  },
  {
   "cell_type": "code",
   "execution_count": 3,
   "metadata": {},
   "outputs": [
    {
     "data": {
      "text/html": [
       "<div>\n",
       "<style scoped>\n",
       "    .dataframe tbody tr th:only-of-type {\n",
       "        vertical-align: middle;\n",
       "    }\n",
       "\n",
       "    .dataframe tbody tr th {\n",
       "        vertical-align: top;\n",
       "    }\n",
       "\n",
       "    .dataframe thead th {\n",
       "        text-align: right;\n",
       "    }\n",
       "</style>\n",
       "<table border=\"1\" class=\"dataframe\">\n",
       "  <thead>\n",
       "    <tr style=\"text-align: right;\">\n",
       "      <th></th>\n",
       "      <th>income</th>\n",
       "      <th>geometry</th>\n",
       "    </tr>\n",
       "  </thead>\n",
       "  <tbody>\n",
       "    <tr>\n",
       "      <th>1</th>\n",
       "      <td>12500.0</td>\n",
       "      <td>POINT (-86.22214 32.34156)</td>\n",
       "    </tr>\n",
       "    <tr>\n",
       "      <th>3</th>\n",
       "      <td>8600.0</td>\n",
       "      <td>POINT (-85.82603 33.77143)</td>\n",
       "    </tr>\n",
       "    <tr>\n",
       "      <th>7</th>\n",
       "      <td>15600.0</td>\n",
       "      <td>POINT (-88.07089 30.68071)</td>\n",
       "    </tr>\n",
       "    <tr>\n",
       "      <th>11</th>\n",
       "      <td>10100.0</td>\n",
       "      <td>POINT (-87.09821 34.13982)</td>\n",
       "    </tr>\n",
       "    <tr>\n",
       "      <th>13</th>\n",
       "      <td>0.0</td>\n",
       "      <td>POINT (-86.03476 34.04525)</td>\n",
       "    </tr>\n",
       "  </tbody>\n",
       "</table>\n",
       "</div>"
      ],
      "text/plain": [
       "     income                    geometry\n",
       "1   12500.0  POINT (-86.22214 32.34156)\n",
       "3    8600.0  POINT (-85.82603 33.77143)\n",
       "7   15600.0  POINT (-88.07089 30.68071)\n",
       "11  10100.0  POINT (-87.09821 34.13982)\n",
       "13      0.0  POINT (-86.03476 34.04525)"
      ]
     },
     "execution_count": 3,
     "metadata": {},
     "output_type": "execute_result"
    }
   ],
   "source": [
    "from pathlib import Path\n",
    "import pandas as pd\n",
    "\n",
    "# URL to the specified data\n",
    "url = \"https://data.payless.health/census.gov%2Famerican_community_survey%2Fpublic_use_microdata%2F2022_acs_pums_individual_people_united_states_first_tranche.parquet\"\n",
    "local_path = Path(\"2022_acs_pums_individual_people_united_states_first_tranche.parquet\")\n",
    "\n",
    "# Check if the local file exists to avoid re-downloading\n",
    "columns_of_interest = [\"Public use microdata area code (PUMA) based on 2020 Census definition (areas with population of 100,000 or more, use with ST for unique code)\", \n",
    "                       \"Total person's income (use ADJINC to adjust to constant dollars)\"]\n",
    "if not local_path.exists():\n",
    "    # Download the parquet file\n",
    "    df = pd.read_parquet(url, columns=columns_of_interest)\n",
    "\n",
    "    df.rename(columns={\"Public use microdata area code (PUMA) based on 2020 Census definition (areas with population of 100,000 or more, use with ST for unique code)\": \"puma\",\n",
    "                        \"Total person's income (use ADJINC to adjust to constant dollars)\": \"income\"}, inplace=True)\n",
    "    # Saving to local for future use\n",
    "    df.to_parquet(local_path)\n",
    "else:\n",
    "    # Load from the local file\n",
    "    df = pd.read_parquet(local_path)\n",
    "\n",
    "\n",
    "shapefile_path = \"tl_2020_01_puma10.shp\"\n",
    "puma_shapes = gpd.read_file(shapefile_path)\n",
    "puma_shapes = puma_shapes.rename(columns={'PUMACE10': \"puma\"})\n",
    "puma_shapes['centroid'] = shapely.centroid(puma_shapes['geometry'])\n",
    "\n",
    "merged_df = df.merge(puma_shapes[[\"puma\", \"centroid\"]], on=\"puma\",\n",
    "                      how='left')\n",
    "# filter for nan values\n",
    "idx = ~merged_df['centroid'].isna() & ~merged_df['income'].isna()\n",
    "df['income'] = df[\"income\"].astype(float)\n",
    "gdf = gpd.GeoDataFrame(df[\"income\"][idx], geometry=merged_df[\"centroid\"][idx])\n",
    "\n",
    "gdf.head()"
   ]
  },
  {
   "cell_type": "code",
   "execution_count": 4,
   "metadata": {},
   "outputs": [],
   "source": [
    "filter_extension = DataFilterExtension(filter_size=1)"
   ]
  },
  {
   "cell_type": "code",
   "execution_count": 5,
   "metadata": {},
   "outputs": [],
   "source": [
    "# If you want to define specific bounds for normalization:\n",
    "min_bound = 5000  # Example minimum income\n",
    "max_bound = 100000  # Example maximum income\n",
    "\n",
    "normalized_income = (gdf[\"income\"].values.astype(float) - min_bound) / (max_bound - min_bound)\n",
    "\n",
    "fill_color = apply_continuous_cmap(normalized_income, BrBG_10)\n",
    "\n",
    "radius = normalized_income * 200  # Adjust 200 as per your visualization needs"
   ]
  },
  {
   "cell_type": "code",
   "execution_count": 9,
   "metadata": {},
   "outputs": [],
   "source": [
    "filter_values = gdf[\"income\"]\n",
    "\n",
    "initial_filter_range = [5_000, 100_000]\n"
   ]
  },
  {
   "cell_type": "code",
   "execution_count": 14,
   "metadata": {},
   "outputs": [
    {
     "name": "stderr",
     "output_type": "stream",
     "text": [
      "/Users/me/jaanli/lonboard/.venv/lib/python3.11/site-packages/lonboard/_utils.py:57: FutureWarning: errors='ignore' is deprecated and will raise in a future version. Use to_numeric without passing `errors` and catch exceptions explicitly instead\n",
      "  df[col_name] = pd.to_numeric(\n",
      "/Users/me/jaanli/lonboard/.venv/lib/python3.11/site-packages/lonboard/_utils.py:64: FutureWarning: errors='ignore' is deprecated and will raise in a future version. Use to_numeric without passing `errors` and catch exceptions explicitly instead\n",
      "  df[col_name] = pd.to_numeric(\n"
     ]
    },
    {
     "data": {
      "application/vnd.jupyter.widget-view+json": {
       "model_id": "49ea8fd44f6e4db197d7d970376ba940",
       "version_major": 2,
       "version_minor": 0
      },
      "text/plain": [
       "Map(layers=[ScatterplotLayer(extensions=[DataFilterExtension()], filter_range=[5000.0, 100000.0], get_fill_col…"
      ]
     },
     "execution_count": 14,
     "metadata": {},
     "output_type": "execute_result"
    }
   ],
   "source": [
    "layer = ScatterplotLayer.from_geopandas(\n",
    "    gdf,\n",
    "    extensions=[filter_extension],\n",
    "    get_fill_color=fill_color,\n",
    "    get_radius=radius,\n",
    "    get_filter_value=filter_values,\n",
    "    filter_range=initial_filter_range,\n",
    "    radius_units=\"meters\",\n",
    "    radius_min_pixels=5,\n",
    ")\n",
    "m = Map(layer)\n",
    "m"
   ]
  },
  {
   "cell_type": "code",
   "execution_count": 16,
   "metadata": {},
   "outputs": [
    {
     "data": {
      "application/vnd.jupyter.widget-view+json": {
       "model_id": "c826042c8d1a4bea968b0e2466c6c071",
       "version_major": 2,
       "version_minor": 0
      },
      "text/plain": [
       "MultiRangeSlider(children=(FloatRangeSlider(value=(5000.0, 100000.0), description='Income: ', max=100000.0, st…"
      ]
     },
     "execution_count": 16,
     "metadata": {},
     "output_type": "execute_result"
    }
   ],
   "source": [
    "income_slider = FloatRangeSlider(\n",
    "    value=initial_filter_range,\n",
    "    min=0,\n",
    "    max=100_000,\n",
    "    step=1,\n",
    "    description=\"Income: \",\n",
    ")\n",
    "\n",
    "\n",
    "multi_slider = MultiRangeSlider([income_slider])\n",
    "multi_slider"
   ]
  },
  {
   "cell_type": "code",
   "execution_count": 17,
   "metadata": {},
   "outputs": [],
   "source": [
    "_ = jsdlink((income_slider, \"value\"), (layer, \"filter_range\"))"
   ]
  },
  {
   "cell_type": "code",
   "execution_count": null,
   "metadata": {},
   "outputs": [],
   "source": []
  }
 ],
 "metadata": {
  "kernelspec": {
   "display_name": "Python 3 (ipykernel)",
   "language": "python",
   "name": "python3"
  },
  "language_info": {
   "codemirror_mode": {
    "name": "ipython",
    "version": 3
   },
   "file_extension": ".py",
   "mimetype": "text/x-python",
   "name": "python",
   "nbconvert_exporter": "python",
   "pygments_lexer": "ipython3",
   "version": "3.11.7"
  }
 },
 "nbformat": 4,
 "nbformat_minor": 4
}
