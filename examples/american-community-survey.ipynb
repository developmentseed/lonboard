{
 "cells": [
  {
   "cell_type": "markdown",
   "metadata": {},
   "source": [
    "# American Community Survey\n",
    "\n",
    "This example uses the Public Use Microdata Sample provided by the Census Bureau. You can read about the [data documentation](https://www.census.gov/programs-surveys/acs/microdata/documentation.html)."
   ]
  },
  {
   "cell_type": "code",
   "execution_count": 3,
   "metadata": {},
   "outputs": [],
   "source": [
    "from pathlib import Path\n",
    "\n",
    "import geopandas as gpd\n",
    "import numpy as np\n",
    "import pandas as pd\n",
    "import shapely\n",
    "from ipywidgets import FloatRangeSlider, jsdlink\n",
    "from palettable.colorbrewer.diverging import BrBG_10\n",
    "\n",
    "from lonboard import Map, ScatterplotLayer\n",
    "from lonboard.colormap import apply_continuous_cmap\n",
    "from lonboard.controls import MultiRangeSlider\n",
    "from lonboard.layer_extension import DataFilterExtension"
   ]
  },
  {
   "cell_type": "code",
   "execution_count": 20,
   "metadata": {},
   "outputs": [
    {
     "name": "stdout",
     "output_type": "stream",
     "text": [
      "--2024-02-13 19:40:29--  https://www2.census.gov/geo/tiger/TIGER2020/PUMA/tl_2020_01_puma10.zip\n",
      "Resolving www2.census.gov (www2.census.gov)... 104.77.246.208\n",
      "Connecting to www2.census.gov (www2.census.gov)|104.77.246.208|:443... connected.\n",
      "HTTP request sent, awaiting response... 200 OK\n",
      "Length: unspecified [application/zip]\n",
      "Saving to: ‘tl_2020_01_puma10.zip’\n",
      "\n",
      "tl_2020_01_puma10.z     [   <=>              ]   1.21M  2.41MB/s    in 0.5s    \n",
      "\n",
      "2024-02-13 19:40:30 (2.41 MB/s) - ‘tl_2020_01_puma10.zip’ saved [1274421]\n",
      "\n",
      "Archive:  tl_2020_01_puma10.zip\n",
      " extracting: tl_2020_01_puma10.cpg   \n",
      "  inflating: tl_2020_01_puma10.dbf   \n",
      "  inflating: tl_2020_01_puma10.prj   \n",
      "  inflating: tl_2020_01_puma10.shp   \n",
      "  inflating: tl_2020_01_puma10.shp.ea.iso.xml  \n",
      "  inflating: tl_2020_01_puma10.shp.iso.xml  \n",
      "  inflating: tl_2020_01_puma10.shx   \n"
     ]
    }
   ],
   "source": [
    "!wget https://www2.census.gov/geo/tiger/TIGER2020/PUMA/tl_2020_01_puma10.zip\n",
    "!unzip tl_2020_01_puma10.zip"
   ]
  },
  {
   "cell_type": "code",
   "execution_count": 22,
   "metadata": {},
   "outputs": [
    {
     "data": {
      "text/html": [
       "<div>\n",
       "<style scoped>\n",
       "    .dataframe tbody tr th:only-of-type {\n",
       "        vertical-align: middle;\n",
       "    }\n",
       "\n",
       "    .dataframe tbody tr th {\n",
       "        vertical-align: top;\n",
       "    }\n",
       "\n",
       "    .dataframe thead th {\n",
       "        text-align: right;\n",
       "    }\n",
       "</style>\n",
       "<table border=\"1\" class=\"dataframe\">\n",
       "  <thead>\n",
       "    <tr style=\"text-align: right;\">\n",
       "      <th></th>\n",
       "      <th>income</th>\n",
       "      <th>geometry</th>\n",
       "    </tr>\n",
       "  </thead>\n",
       "  <tbody>\n",
       "    <tr>\n",
       "      <th>1</th>\n",
       "      <td>12500.0</td>\n",
       "      <td>POINT (-86.22214 32.34156)</td>\n",
       "    </tr>\n",
       "    <tr>\n",
       "      <th>3</th>\n",
       "      <td>8600.0</td>\n",
       "      <td>POINT (-85.82603 33.77143)</td>\n",
       "    </tr>\n",
       "    <tr>\n",
       "      <th>7</th>\n",
       "      <td>15600.0</td>\n",
       "      <td>POINT (-88.07089 30.68071)</td>\n",
       "    </tr>\n",
       "    <tr>\n",
       "      <th>11</th>\n",
       "      <td>10100.0</td>\n",
       "      <td>POINT (-87.09821 34.13982)</td>\n",
       "    </tr>\n",
       "    <tr>\n",
       "      <th>13</th>\n",
       "      <td>0.0</td>\n",
       "      <td>POINT (-86.03476 34.04525)</td>\n",
       "    </tr>\n",
       "  </tbody>\n",
       "</table>\n",
       "</div>"
      ],
      "text/plain": [
       "     income                    geometry\n",
       "1   12500.0  POINT (-86.22214 32.34156)\n",
       "3    8600.0  POINT (-85.82603 33.77143)\n",
       "7   15600.0  POINT (-88.07089 30.68071)\n",
       "11  10100.0  POINT (-87.09821 34.13982)\n",
       "13      0.0  POINT (-86.03476 34.04525)"
      ]
     },
     "execution_count": 22,
     "metadata": {},
     "output_type": "execute_result"
    }
   ],
   "source": [
    "from pathlib import Path\n",
    "import pandas as pd\n",
    "\n",
    "# URL to the specified data\n",
    "url = \"https://data.payless.health/census.gov%2Famerican_community_survey%2Fpublic_use_microdata%2F2022_acs_pums_individual_people_united_states_first_tranche.parquet\"\n",
    "local_path = Path(\"2022_acs_pums_individual_people_united_states_first_tranche.parquet\")\n",
    "\n",
    "# Check if the local file exists to avoid re-downloading\n",
    "columns_of_interest = [\"Public use microdata area code (PUMA) based on 2020 Census definition (areas with population of 100,000 or more, use with ST for unique code)\", \n",
    "                       \"Total person's income (use ADJINC to adjust to constant dollars)\"]\n",
    "if not local_path.exists():\n",
    "    # Download the parquet file\n",
    "    df = pd.read_parquet(url, columns=columns_of_interest)\n",
    "\n",
    "    df.rename(columns={\"Public use microdata area code (PUMA) based on 2020 Census definition (areas with population of 100,000 or more, use with ST for unique code)\": \"puma\",\n",
    "                        \"Total person's income (use ADJINC to adjust to constant dollars)\": \"income\"}, inplace=True)\n",
    "    # Saving to local for future use\n",
    "    df.to_parquet(local_path)\n",
    "else:\n",
    "    # Load from the local file\n",
    "    df = pd.read_parquet(local_path)\n",
    "\n",
    "\n",
    "shapefile_path = \"tl_2020_01_puma10.shp\"\n",
    "puma_shapes = gpd.read_file(shapefile_path)\n",
    "puma_shapes = puma_shapes.rename(columns={'PUMACE10': \"puma\"})\n",
    "puma_shapes['centroid'] = shapely.centroid(puma_shapes['geometry'])\n",
    "\n",
    "merged_df = df.merge(puma_shapes[[\"puma\", \"centroid\"]], on=\"puma\",\n",
    "                      how='left')\n",
    "# filter for nan values\n",
    "idx = ~merged_df['centroid'].isna() & ~merged_df['income'].isna()\n",
    "df['income'] = df[\"income\"].astype(float)\n",
    "gdf = gpd.GeoDataFrame(df[\"income\"][idx], geometry=merged_df[\"centroid\"][idx])\n",
    "\n",
    "gdf.head()"
   ]
  },
  {
   "cell_type": "code",
   "execution_count": 23,
   "metadata": {},
   "outputs": [],
   "source": [
    "filter_extension = DataFilterExtension(filter_size=3)"
   ]
  },
  {
   "cell_type": "code",
   "execution_count": 24,
   "metadata": {},
   "outputs": [],
   "source": [
    "# If you want to define specific bounds for normalization:\n",
    "min_bound = 5000  # Example minimum income\n",
    "max_bound = 100000  # Example maximum income\n",
    "\n",
    "normalized_income = (gdf[\"income\"].values.astype(float) - min_bound) / (max_bound - min_bound)\n",
    "\n",
    "fill_color = apply_continuous_cmap(normalized_income, BrBG_10)\n",
    "\n",
    "radius = normalized_income * 200  # Adjust 200 as per your visualization needs"
   ]
  },
  {
   "cell_type": "code",
   "execution_count": 25,
   "metadata": {},
   "outputs": [],
   "source": [
    "filter_values = np.column_stack(\n",
    "    [gdf[\"income\"]]\n",
    ")\n",
    "initial_filter_range = [5_000, 100_000]\n",
    "    # [5_000, 100_000],\n"
   ]
  },
  {
   "cell_type": "code",
   "execution_count": 26,
   "metadata": {},
   "outputs": [
    {
     "name": "stderr",
     "output_type": "stream",
     "text": [
      "/Users/me/jaanli/lonboard/.venv/lib/python3.11/site-packages/lonboard/_utils.py:57: FutureWarning: errors='ignore' is deprecated and will raise in a future version. Use to_numeric without passing `errors` and catch exceptions explicitly instead\n",
      "  df[col_name] = pd.to_numeric(\n",
      "/Users/me/jaanli/lonboard/.venv/lib/python3.11/site-packages/lonboard/_utils.py:64: FutureWarning: errors='ignore' is deprecated and will raise in a future version. Use to_numeric without passing `errors` and catch exceptions explicitly instead\n",
      "  df[col_name] = pd.to_numeric(\n"
     ]
    },
    {
     "ename": "TraitError",
     "evalue": "The 'get_filter_value' trait of a ScatterplotLayer instance expected filter_size (3) to match 2nd dimension of numpy array, not the ndarray array([[12500.],\n       [ 8600.],\n       [15600.],\n       ...,\n       [96800.],\n       [61200.],\n       [18580.]], dtype=float32).",
     "output_type": "error",
     "traceback": [
      "\u001b[0;31m---------------------------------------------------------------------------\u001b[0m",
      "\u001b[0;31mTraitError\u001b[0m                                Traceback (most recent call last)",
      "Cell \u001b[0;32mIn[26], line 1\u001b[0m\n\u001b[0;32m----> 1\u001b[0m layer \u001b[38;5;241m=\u001b[39m \u001b[43mScatterplotLayer\u001b[49m\u001b[38;5;241;43m.\u001b[39;49m\u001b[43mfrom_geopandas\u001b[49m\u001b[43m(\u001b[49m\n\u001b[1;32m      2\u001b[0m \u001b[43m    \u001b[49m\u001b[43mgdf\u001b[49m\u001b[43m,\u001b[49m\n\u001b[1;32m      3\u001b[0m \u001b[43m    \u001b[49m\u001b[43mextensions\u001b[49m\u001b[38;5;241;43m=\u001b[39;49m\u001b[43m[\u001b[49m\u001b[43mfilter_extension\u001b[49m\u001b[43m]\u001b[49m\u001b[43m,\u001b[49m\n\u001b[1;32m      4\u001b[0m \u001b[43m    \u001b[49m\u001b[43mget_fill_color\u001b[49m\u001b[38;5;241;43m=\u001b[39;49m\u001b[43mfill_color\u001b[49m\u001b[43m,\u001b[49m\n\u001b[1;32m      5\u001b[0m \u001b[43m    \u001b[49m\u001b[43mget_radius\u001b[49m\u001b[38;5;241;43m=\u001b[39;49m\u001b[43mradius\u001b[49m\u001b[43m,\u001b[49m\n\u001b[1;32m      6\u001b[0m \u001b[43m    \u001b[49m\u001b[43mget_filter_value\u001b[49m\u001b[38;5;241;43m=\u001b[39;49m\u001b[43mfilter_values\u001b[49m\u001b[43m,\u001b[49m\n\u001b[1;32m      7\u001b[0m \u001b[43m    \u001b[49m\u001b[43mfilter_range\u001b[49m\u001b[38;5;241;43m=\u001b[39;49m\u001b[43minitial_filter_range\u001b[49m\u001b[43m,\u001b[49m\n\u001b[1;32m      8\u001b[0m \u001b[43m    \u001b[49m\u001b[43mradius_units\u001b[49m\u001b[38;5;241;43m=\u001b[39;49m\u001b[38;5;124;43m\"\u001b[39;49m\u001b[38;5;124;43mmeters\u001b[39;49m\u001b[38;5;124;43m\"\u001b[39;49m\u001b[43m,\u001b[49m\n\u001b[1;32m      9\u001b[0m \u001b[43m    \u001b[49m\u001b[43mradius_min_pixels\u001b[49m\u001b[38;5;241;43m=\u001b[39;49m\u001b[38;5;241;43m0.1\u001b[39;49m\u001b[43m,\u001b[49m\n\u001b[1;32m     10\u001b[0m \u001b[43m)\u001b[49m\n\u001b[1;32m     11\u001b[0m m \u001b[38;5;241m=\u001b[39m Map(layer)\n\u001b[1;32m     12\u001b[0m m\n",
      "File \u001b[0;32m~/jaanli/lonboard/.venv/lib/python3.11/site-packages/lonboard/_layer.py:285\u001b[0m, in \u001b[0;36mBaseArrowLayer.from_geopandas\u001b[0;34m(cls, gdf, auto_downcast, **kwargs)\u001b[0m\n\u001b[1;32m    282\u001b[0m     gdf \u001b[38;5;241m=\u001b[39m _auto_downcast(gdf\u001b[38;5;241m.\u001b[39mcopy())  \u001b[38;5;66;03m# type: ignore\u001b[39;00m\n\u001b[1;32m    284\u001b[0m table \u001b[38;5;241m=\u001b[39m geopandas_to_geoarrow(gdf)\n\u001b[0;32m--> 285\u001b[0m \u001b[38;5;28;01mreturn\u001b[39;00m \u001b[38;5;28;43mcls\u001b[39;49m\u001b[43m(\u001b[49m\u001b[43mtable\u001b[49m\u001b[38;5;241;43m=\u001b[39;49m\u001b[43mtable\u001b[49m\u001b[43m,\u001b[49m\u001b[43m \u001b[49m\u001b[38;5;241;43m*\u001b[39;49m\u001b[38;5;241;43m*\u001b[39;49m\u001b[43mkwargs\u001b[49m\u001b[43m)\u001b[49m\n",
      "File \u001b[0;32m~/jaanli/lonboard/.venv/lib/python3.11/site-packages/lonboard/_layer.py:257\u001b[0m, in \u001b[0;36mBaseArrowLayer.__init__\u001b[0;34m(self, table, _rows_per_chunk, **kwargs)\u001b[0m\n\u001b[1;32m    253\u001b[0m     \u001b[38;5;28;01mraise\u001b[39;00m \u001b[38;5;167;01mValueError\u001b[39;00m(\u001b[38;5;124m\"\u001b[39m\u001b[38;5;124mCannot serialize table with 0 rows per chunk.\u001b[39m\u001b[38;5;124m\"\u001b[39m)\n\u001b[1;32m    255\u001b[0m \u001b[38;5;28mself\u001b[39m\u001b[38;5;241m.\u001b[39m_rows_per_chunk \u001b[38;5;241m=\u001b[39m rows_per_chunk\n\u001b[0;32m--> 257\u001b[0m \u001b[38;5;28;43msuper\u001b[39;49m\u001b[43m(\u001b[49m\u001b[43m)\u001b[49m\u001b[38;5;241;43m.\u001b[39;49m\u001b[38;5;21;43m__init__\u001b[39;49m\u001b[43m(\u001b[49m\u001b[43mtable\u001b[49m\u001b[38;5;241;43m=\u001b[39;49m\u001b[43mtable\u001b[49m\u001b[43m,\u001b[49m\u001b[43m \u001b[49m\u001b[38;5;241;43m*\u001b[39;49m\u001b[38;5;241;43m*\u001b[39;49m\u001b[43mkwargs\u001b[49m\u001b[43m)\u001b[49m\n",
      "File \u001b[0;32m~/jaanli/lonboard/.venv/lib/python3.11/site-packages/lonboard/_layer.py:61\u001b[0m, in \u001b[0;36mBaseLayer.__init__\u001b[0;34m(self, extensions, **kwargs)\u001b[0m\n\u001b[1;32m     59\u001b[0m added_names: List[\u001b[38;5;28mstr\u001b[39m] \u001b[38;5;241m=\u001b[39m []\n\u001b[1;32m     60\u001b[0m \u001b[38;5;28;01mfor\u001b[39;00m prop_name, prop_value \u001b[38;5;129;01min\u001b[39;00m extension_kwargs\u001b[38;5;241m.\u001b[39mitems():\n\u001b[0;32m---> 61\u001b[0m     \u001b[38;5;28;43mself\u001b[39;49m\u001b[38;5;241;43m.\u001b[39;49m\u001b[43mset_trait\u001b[49m\u001b[43m(\u001b[49m\u001b[43mprop_name\u001b[49m\u001b[43m,\u001b[49m\u001b[43m \u001b[49m\u001b[43mprop_value\u001b[49m\u001b[43m)\u001b[49m\n\u001b[1;32m     62\u001b[0m     added_names\u001b[38;5;241m.\u001b[39mappend(prop_name)\n\u001b[1;32m     64\u001b[0m \u001b[38;5;28mself\u001b[39m\u001b[38;5;241m.\u001b[39msend_state(added_names)\n",
      "File \u001b[0;32m~/jaanli/lonboard/.venv/lib/python3.11/site-packages/traitlets/traitlets.py:1764\u001b[0m, in \u001b[0;36mHasTraits.set_trait\u001b[0;34m(self, name, value)\u001b[0m\n\u001b[1;32m   1762\u001b[0m \u001b[38;5;28;01mif\u001b[39;00m \u001b[38;5;129;01mnot\u001b[39;00m \u001b[38;5;28mself\u001b[39m\u001b[38;5;241m.\u001b[39mhas_trait(name):\n\u001b[1;32m   1763\u001b[0m     \u001b[38;5;28;01mraise\u001b[39;00m TraitError(\u001b[38;5;124mf\u001b[39m\u001b[38;5;124m\"\u001b[39m\u001b[38;5;124mClass \u001b[39m\u001b[38;5;132;01m{\u001b[39;00m\u001b[38;5;28mcls\u001b[39m\u001b[38;5;241m.\u001b[39m\u001b[38;5;18m__name__\u001b[39m\u001b[38;5;132;01m}\u001b[39;00m\u001b[38;5;124m does not have a trait named \u001b[39m\u001b[38;5;132;01m{\u001b[39;00mname\u001b[38;5;132;01m}\u001b[39;00m\u001b[38;5;124m\"\u001b[39m)\n\u001b[0;32m-> 1764\u001b[0m \u001b[38;5;28;43mgetattr\u001b[39;49m\u001b[43m(\u001b[49m\u001b[38;5;28;43mcls\u001b[39;49m\u001b[43m,\u001b[49m\u001b[43m \u001b[49m\u001b[43mname\u001b[49m\u001b[43m)\u001b[49m\u001b[38;5;241;43m.\u001b[39;49m\u001b[43mset\u001b[49m\u001b[43m(\u001b[49m\u001b[38;5;28;43mself\u001b[39;49m\u001b[43m,\u001b[49m\u001b[43m \u001b[49m\u001b[43mvalue\u001b[49m\u001b[43m)\u001b[49m\n",
      "File \u001b[0;32m~/jaanli/lonboard/.venv/lib/python3.11/site-packages/traitlets/traitlets.py:690\u001b[0m, in \u001b[0;36mTraitType.set\u001b[0;34m(self, obj, value)\u001b[0m\n\u001b[1;32m    689\u001b[0m \u001b[38;5;28;01mdef\u001b[39;00m \u001b[38;5;21mset\u001b[39m(\u001b[38;5;28mself\u001b[39m, obj: HasTraits, value: S) \u001b[38;5;241m-\u001b[39m\u001b[38;5;241m>\u001b[39m \u001b[38;5;28;01mNone\u001b[39;00m:\n\u001b[0;32m--> 690\u001b[0m     new_value \u001b[38;5;241m=\u001b[39m \u001b[38;5;28;43mself\u001b[39;49m\u001b[38;5;241;43m.\u001b[39;49m\u001b[43m_validate\u001b[49m\u001b[43m(\u001b[49m\u001b[43mobj\u001b[49m\u001b[43m,\u001b[49m\u001b[43m \u001b[49m\u001b[43mvalue\u001b[49m\u001b[43m)\u001b[49m\n\u001b[1;32m    691\u001b[0m     \u001b[38;5;28;01massert\u001b[39;00m \u001b[38;5;28mself\u001b[39m\u001b[38;5;241m.\u001b[39mname \u001b[38;5;129;01mis\u001b[39;00m \u001b[38;5;129;01mnot\u001b[39;00m \u001b[38;5;28;01mNone\u001b[39;00m\n\u001b[1;32m    692\u001b[0m     \u001b[38;5;28;01mtry\u001b[39;00m:\n",
      "File \u001b[0;32m~/jaanli/lonboard/.venv/lib/python3.11/site-packages/traitlets/traitlets.py:722\u001b[0m, in \u001b[0;36mTraitType._validate\u001b[0;34m(self, obj, value)\u001b[0m\n\u001b[1;32m    720\u001b[0m     \u001b[38;5;28;01mreturn\u001b[39;00m value\n\u001b[1;32m    721\u001b[0m \u001b[38;5;28;01mif\u001b[39;00m \u001b[38;5;28mhasattr\u001b[39m(\u001b[38;5;28mself\u001b[39m, \u001b[38;5;124m\"\u001b[39m\u001b[38;5;124mvalidate\u001b[39m\u001b[38;5;124m\"\u001b[39m):\n\u001b[0;32m--> 722\u001b[0m     value \u001b[38;5;241m=\u001b[39m \u001b[38;5;28;43mself\u001b[39;49m\u001b[38;5;241;43m.\u001b[39;49m\u001b[43mvalidate\u001b[49m\u001b[43m(\u001b[49m\u001b[43mobj\u001b[49m\u001b[43m,\u001b[49m\u001b[43m \u001b[49m\u001b[43mvalue\u001b[49m\u001b[43m)\u001b[49m\n\u001b[1;32m    723\u001b[0m \u001b[38;5;28;01mif\u001b[39;00m obj\u001b[38;5;241m.\u001b[39m_cross_validation_lock \u001b[38;5;129;01mis\u001b[39;00m \u001b[38;5;28;01mFalse\u001b[39;00m:\n\u001b[1;32m    724\u001b[0m     value \u001b[38;5;241m=\u001b[39m \u001b[38;5;28mself\u001b[39m\u001b[38;5;241m.\u001b[39m_cross_validate(obj, value)\n",
      "File \u001b[0;32m~/jaanli/lonboard/.venv/lib/python3.11/site-packages/lonboard/traits.py:647\u001b[0m, in \u001b[0;36mGetFilterValueAccessor.validate\u001b[0;34m(self, obj, value)\u001b[0m\n\u001b[1;32m    644\u001b[0m         \u001b[38;5;28mself\u001b[39m\u001b[38;5;241m.\u001b[39merror(obj, value, info\u001b[38;5;241m=\u001b[39m\u001b[38;5;124m\"\u001b[39m\u001b[38;5;124m1-D or 2-D numpy array\u001b[39m\u001b[38;5;124m\"\u001b[39m)\n\u001b[1;32m    646\u001b[0m     \u001b[38;5;28;01mif\u001b[39;00m value\u001b[38;5;241m.\u001b[39mshape[\u001b[38;5;241m1\u001b[39m] \u001b[38;5;241m!=\u001b[39m filter_size:\n\u001b[0;32m--> 647\u001b[0m         \u001b[38;5;28;43mself\u001b[39;49m\u001b[38;5;241;43m.\u001b[39;49m\u001b[43merror\u001b[49m\u001b[43m(\u001b[49m\n\u001b[1;32m    648\u001b[0m \u001b[43m            \u001b[49m\u001b[43mobj\u001b[49m\u001b[43m,\u001b[49m\n\u001b[1;32m    649\u001b[0m \u001b[43m            \u001b[49m\u001b[43mvalue\u001b[49m\u001b[43m,\u001b[49m\n\u001b[1;32m    650\u001b[0m \u001b[43m            \u001b[49m\u001b[43minfo\u001b[49m\u001b[38;5;241;43m=\u001b[39;49m\u001b[43m(\u001b[49m\n\u001b[1;32m    651\u001b[0m \u001b[43m                \u001b[49m\u001b[38;5;124;43mf\u001b[39;49m\u001b[38;5;124;43m\"\u001b[39;49m\u001b[38;5;124;43mfilter_size (\u001b[39;49m\u001b[38;5;132;43;01m{\u001b[39;49;00m\u001b[43mfilter_size\u001b[49m\u001b[38;5;132;43;01m}\u001b[39;49;00m\u001b[38;5;124;43m) to match 2nd dimension of \u001b[39;49m\u001b[38;5;124;43m\"\u001b[39;49m\n\u001b[1;32m    652\u001b[0m \u001b[43m                \u001b[49m\u001b[38;5;124;43m\"\u001b[39;49m\u001b[38;5;124;43mnumpy array\u001b[39;49m\u001b[38;5;124;43m\"\u001b[39;49m\n\u001b[1;32m    653\u001b[0m \u001b[43m            \u001b[49m\u001b[43m)\u001b[49m\u001b[43m,\u001b[49m\n\u001b[1;32m    654\u001b[0m \u001b[43m        \u001b[49m\u001b[43m)\u001b[49m\n\u001b[1;32m    656\u001b[0m     \u001b[38;5;28;01mreturn\u001b[39;00m pa\u001b[38;5;241m.\u001b[39mFixedSizeListArray\u001b[38;5;241m.\u001b[39mfrom_arrays(value\u001b[38;5;241m.\u001b[39mflatten(\u001b[38;5;124m\"\u001b[39m\u001b[38;5;124mC\u001b[39m\u001b[38;5;124m\"\u001b[39m), filter_size)\n\u001b[1;32m    658\u001b[0m \u001b[38;5;66;03m# Check for Arrow PyCapsule Interface\u001b[39;00m\n\u001b[1;32m    659\u001b[0m \u001b[38;5;66;03m# https://arrow.apache.org/docs/format/CDataInterface/PyCapsuleInterface.html\u001b[39;00m\n\u001b[1;32m    660\u001b[0m \u001b[38;5;66;03m# TODO: with pyarrow v16 also import chunked array from stream\u001b[39;00m\n",
      "File \u001b[0;32m~/jaanli/lonboard/.venv/lib/python3.11/site-packages/lonboard/traits.py:109\u001b[0m, in \u001b[0;36mFixedErrorTraitType.error\u001b[0;34m(self, obj, value, error, info)\u001b[0m\n\u001b[1;32m    101\u001b[0m \u001b[38;5;28;01melse\u001b[39;00m:\n\u001b[1;32m    102\u001b[0m     e \u001b[38;5;241m=\u001b[39m \u001b[38;5;124m\"\u001b[39m\u001b[38;5;124mThe \u001b[39m\u001b[38;5;124m'\u001b[39m\u001b[38;5;132;01m{}\u001b[39;00m\u001b[38;5;124m'\u001b[39m\u001b[38;5;124m trait expected \u001b[39m\u001b[38;5;132;01m{}\u001b[39;00m\u001b[38;5;124m, not \u001b[39m\u001b[38;5;132;01m{}\u001b[39;00m\u001b[38;5;124m.\u001b[39m\u001b[38;5;124m\"\u001b[39m\u001b[38;5;241m.\u001b[39mformat(\n\u001b[1;32m    103\u001b[0m         \u001b[38;5;28mself\u001b[39m\u001b[38;5;241m.\u001b[39mname,\n\u001b[1;32m    104\u001b[0m         \u001b[38;5;66;03m# CHANGED:\u001b[39;00m\n\u001b[0;32m   (...)\u001b[0m\n\u001b[1;32m    107\u001b[0m         describe(\u001b[38;5;124m\"\u001b[39m\u001b[38;5;124mthe\u001b[39m\u001b[38;5;124m\"\u001b[39m, value),\n\u001b[1;32m    108\u001b[0m     )\n\u001b[0;32m--> 109\u001b[0m \u001b[38;5;28;01mraise\u001b[39;00m TraitError(e)\n",
      "\u001b[0;31mTraitError\u001b[0m: The 'get_filter_value' trait of a ScatterplotLayer instance expected filter_size (3) to match 2nd dimension of numpy array, not the ndarray array([[12500.],\n       [ 8600.],\n       [15600.],\n       ...,\n       [96800.],\n       [61200.],\n       [18580.]], dtype=float32)."
     ]
    }
   ],
   "source": [
    "layer = ScatterplotLayer.from_geopandas(\n",
    "    gdf,\n",
    "    extensions=[filter_extension],\n",
    "    get_fill_color=fill_color,\n",
    "    get_radius=radius,\n",
    "    get_filter_value=filter_values,\n",
    "    filter_range=initial_filter_range,\n",
    "    radius_units=\"meters\",\n",
    "    radius_min_pixels=0.1,\n",
    ")\n",
    "m = Map(layer)\n",
    "m"
   ]
  }
 ],
 "metadata": {
  "kernelspec": {
   "display_name": ".venv",
   "language": "python",
   "name": "python3"
  },
  "language_info": {
   "codemirror_mode": {
    "name": "ipython",
    "version": 3
   },
   "file_extension": ".py",
   "mimetype": "text/x-python",
   "name": "python",
   "nbconvert_exporter": "python",
   "pygments_lexer": "ipython3",
   "version": "3.11.7"
  }
 },
 "nbformat": 4,
 "nbformat_minor": 2
}
