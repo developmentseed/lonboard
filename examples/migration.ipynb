{
 "cells": [
  {
   "cell_type": "code",
   "execution_count": 1,
   "id": "e92e7476-4f7d-4e50-b006-2c0b2428bd4f",
   "metadata": {},
   "outputs": [],
   "source": [
    "from lonboard.experimental import ArcLayer"
   ]
  },
  {
   "cell_type": "code",
   "execution_count": 2,
   "id": "9d8aba83-b71c-44f4-9f75-7a27576766c1",
   "metadata": {},
   "outputs": [],
   "source": [
    "from lonboard import Map\n",
    "import numpy as np"
   ]
  },
  {
   "cell_type": "code",
   "execution_count": 3,
   "id": "92bdc642-bc06-40db-a2df-b7660979d096",
   "metadata": {},
   "outputs": [],
   "source": [
    "import requests"
   ]
  },
  {
   "cell_type": "code",
   "execution_count": 4,
   "id": "677392e9-1e04-4493-afb4-e09f7971d78a",
   "metadata": {},
   "outputs": [],
   "source": [
    "url = \"https://raw.githubusercontent.com/visgl/deck.gl-data/master/examples/arc/counties.json\""
   ]
  },
  {
   "cell_type": "code",
   "execution_count": 5,
   "id": "c05d78d6-b12b-46ca-9405-3475b717cdc0",
   "metadata": {},
   "outputs": [],
   "source": [
    "r = requests.get(url)"
   ]
  },
  {
   "cell_type": "code",
   "execution_count": 6,
   "id": "55c4a5ff-0c1c-4d19-bd36-ff658abc06bf",
   "metadata": {},
   "outputs": [],
   "source": [
    "source_data = r.json()"
   ]
  },
  {
   "cell_type": "code",
   "execution_count": 7,
   "metadata": {},
   "outputs": [],
   "source": [
    "from matplotlib.colors import Normalize"
   ]
  },
  {
   "cell_type": "code",
   "execution_count": 8,
   "id": "6e0f5f58-58ed-48fc-b112-9306acd8d62a",
   "metadata": {},
   "outputs": [],
   "source": [
    "arcs = []\n",
    "targets = []\n",
    "sources = []\n",
    "pairs = {}"
   ]
  },
  {
   "cell_type": "code",
   "execution_count": 9,
   "id": "8bfbb5f1-0c43-43a7-b671-816ed37cd259",
   "metadata": {},
   "outputs": [],
   "source": [
    "features = source_data['features']\n",
    "for i, county in enumerate(features):\n",
    "    flows = county['properties']['flows']\n",
    "    target_centroid = county['properties']['centroid']\n",
    "    total_value = {\n",
    "        \"gain\": 0,\n",
    "        \"loss\": 0,\n",
    "    }\n",
    "\n",
    "    for to_id, value in flows.items():\n",
    "        if value > 0:\n",
    "            total_value['gain'] += value\n",
    "        else:\n",
    "            total_value['loss'] += value\n",
    "\n",
    "        # If number is too small, ignore it\n",
    "        if abs(value) < 50:\n",
    "            continue\n",
    "\n",
    "        pair_key = '-'.join(map(str, sorted([i, int(to_id)])))\n",
    "        source_centroid = features[int(to_id)]['properties']['centroid']\n",
    "        gain = np.sign(flows[to_id])\n",
    "\n",
    "        # add point at arc source\n",
    "        sources.append({\n",
    "            \"position\": source_centroid,\n",
    "            \"target\": target_centroid,\n",
    "            \"name\": features[int(to_id)]['properties']['name'],\n",
    "            \"radius\": 3,\n",
    "            \"gain\": -gain\n",
    "        });\n",
    "\n",
    "        # eliminate duplicate arcs\n",
    "        if pair_key in pairs.keys():\n",
    "            continue\n",
    "\n",
    "        pairs[pair_key] = True\n",
    "\n",
    "        if gain > 0:\n",
    "            arcs.append({\n",
    "                'target': target_centroid,\n",
    "                'source': source_centroid,\n",
    "                \"value\": flows[to_id],\n",
    "            })\n",
    "        else:\n",
    "            arcs.append({\n",
    "                'target': source_centroid,\n",
    "                'source': target_centroid,\n",
    "                \"value\": flows[to_id],\n",
    "            })\n",
    "\n",
    "\n",
    "\n",
    "    # add point at arc target\n",
    "    targets.append({\n",
    "        **total_value,\n",
    "        \"position\": [target_centroid[0], target_centroid[1], 10],\n",
    "        \"net\": total_value[\"gain\"] + total_value[\"loss\"],\n",
    "        \"name\": county['properties']['name']\n",
    "    });\n",
    "\n",
    "# sort targets by radius large -> small\n",
    "targets = sorted(targets, key=lambda d: abs(d['net']), reverse=True )\n",
    "normalizer = Normalize(0, abs(targets[0]['net']))"
   ]
  },
  {
   "cell_type": "code",
   "execution_count": 10,
   "metadata": {},
   "outputs": [],
   "source": [
    "value = np.array([arc['value'] for arc in arcs])\n",
    "get_source_position = np.array([arc['source'] for arc in arcs])\n",
    "get_target_position = np.array([arc['target'] for arc in arcs])\n",
    "get_source_color = [166, 3, 3]\n",
    "get_target_color = [35, 181, 184]\n",
    "stroke_width = 1\n",
    "opacity = 0.7"
   ]
  },
  {
   "cell_type": "code",
   "execution_count": 11,
   "metadata": {},
   "outputs": [],
   "source": [
    "import pyarrow as pa"
   ]
  },
  {
   "cell_type": "code",
   "execution_count": 12,
   "metadata": {},
   "outputs": [],
   "source": [
    "table = pa.table({\n",
    "    'value': value\n",
    "})"
   ]
  },
  {
   "cell_type": "code",
   "execution_count": 15,
   "metadata": {},
   "outputs": [],
   "source": [
    "layer = ArcLayer(\n",
    "    table=table,\n",
    "    get_source_position=get_source_position,\n",
    "    get_target_position=get_target_position,\n",
    "    get_source_color=get_source_color,\n",
    "    get_target_color = get_target_color,\n",
    "    get_width = stroke_width,\n",
    "    opacity=0.4,\n",
    ")"
   ]
  },
  {
   "cell_type": "code",
   "execution_count": 16,
   "metadata": {},
   "outputs": [
    {
     "data": {
      "application/vnd.jupyter.widget-view+json": {
       "model_id": "59f634c2d04949889a4b645d9691900f",
       "version_major": 2,
       "version_minor": 0
      },
      "text/plain": [
       "Map(layers=[ArcLayer(get_source_color=[166, 3, 3], get_source_position=<pyarrow.lib.FixedSizeListArray object …"
      ]
     },
     "execution_count": 16,
     "metadata": {},
     "output_type": "execute_result"
    }
   ],
   "source": [
    "map_ = Map(layers=[layer], _initial_view_state={})\n",
    "map_"
   ]
  },
  {
   "cell_type": "code",
   "execution_count": null,
   "id": "e9141f4f-b04f-460e-a935-8d3b18def652",
   "metadata": {},
   "outputs": [],
   "source": []
  }
 ],
 "metadata": {
  "kernelspec": {
   "display_name": "lonboard",
   "language": "python",
   "name": "lonboard"
  },
  "language_info": {
   "codemirror_mode": {
    "name": "ipython",
    "version": 3
   },
   "file_extension": ".py",
   "mimetype": "text/x-python",
   "name": "python",
   "nbconvert_exporter": "python",
   "pygments_lexer": "ipython3",
   "version": "3.11.4"
  }
 },
 "nbformat": 4,
 "nbformat_minor": 5
}
