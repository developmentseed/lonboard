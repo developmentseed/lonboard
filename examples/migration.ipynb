{
 "cells": [
  {
   "cell_type": "markdown",
   "metadata": {},
   "source": [
    "# U.S. County-to-County Migration\n",
    "\n",
    "This notebook is derived from the original deck.gl example in JavaScript, which you can see [here](https://deck.gl/examples/brushing-extension). \n",
    "\n",
    "This dataset originally came from the U.S. Census Bureau and represents people moving in and out of each county between 2009-2013.\n",
    "\n",
    "This also serves as a notebook for day 10 of [30 Day Map Challenge](https://30daymapchallenge.com/)."
   ]
  },
  {
   "cell_type": "markdown",
   "metadata": {},
   "source": [
    "## Imports"
   ]
  },
  {
   "cell_type": "code",
   "execution_count": 1,
   "id": "e92e7476-4f7d-4e50-b006-2c0b2428bd4f",
   "metadata": {},
   "outputs": [],
   "source": [
    "import geopandas as gpd\n",
    "import numpy as np\n",
    "import pandas as pd\n",
    "import pyarrow as pa\n",
    "import requests\n",
    "import shapely\n",
    "from matplotlib.colors import Normalize\n",
    "\n",
    "from lonboard import Map, ScatterplotLayer\n",
    "from lonboard.experimental import ArcLayer, BrushingExtension"
   ]
  },
  {
   "cell_type": "markdown",
   "metadata": {},
   "source": [
    "Fetch the data from the version in the `deck.gl-data` repository."
   ]
  },
  {
   "cell_type": "code",
   "execution_count": 2,
   "id": "677392e9-1e04-4493-afb4-e09f7971d78a",
   "metadata": {},
   "outputs": [],
   "source": [
    "url = \"https://raw.githubusercontent.com/visgl/deck.gl-data/master/examples/arc/counties.json\"\n",
    "r = requests.get(url)\n",
    "source_data = r.json()"
   ]
  },
  {
   "cell_type": "markdown",
   "metadata": {},
   "source": [
    "The following cell may be a little hard to follow, but what it's doing is taking the raw data, which represents a [_graph_](https://en.wikipedia.org/wiki/Graph_(abstract_data_type)) of the data and normalizing it to a table structure where each row represents one \"arc\" between a source and target county.\n",
    "\n",
    "This is ported from the original JavaScript [here](https://github.com/visgl/deck.gl/blob/b16f51509d4483c91fb3e418d063a7ca5b0e5387/examples/website/brushing/app.jsx#L37-L103)."
   ]
  },
  {
   "cell_type": "code",
   "execution_count": 3,
   "id": "8bfbb5f1-0c43-43a7-b671-816ed37cd259",
   "metadata": {},
   "outputs": [],
   "source": [
    "arcs = []\n",
    "targets = []\n",
    "sources = []\n",
    "pairs = {}\n",
    "\n",
    "features = source_data[\"features\"]\n",
    "for i, county in enumerate(features):\n",
    "    flows = county[\"properties\"][\"flows\"]\n",
    "    target_centroid = county[\"properties\"][\"centroid\"]\n",
    "    total_value = {\n",
    "        \"gain\": 0,\n",
    "        \"loss\": 0,\n",
    "    }\n",
    "\n",
    "    for to_id, value in flows.items():\n",
    "        if value > 0:\n",
    "            total_value[\"gain\"] += value\n",
    "        else:\n",
    "            total_value[\"loss\"] += value\n",
    "\n",
    "        # If number is too small, ignore it\n",
    "        if abs(value) < 50:\n",
    "            continue\n",
    "\n",
    "        pair_key = \"-\".join(map(str, sorted([i, int(to_id)])))\n",
    "        source_centroid = features[int(to_id)][\"properties\"][\"centroid\"]\n",
    "        gain = np.sign(flows[to_id])\n",
    "\n",
    "        # add point at arc source\n",
    "        sources.append(\n",
    "            {\n",
    "                \"position\": source_centroid,\n",
    "                \"target\": target_centroid,\n",
    "                \"name\": features[int(to_id)][\"properties\"][\"name\"],\n",
    "                \"radius\": 3,\n",
    "                \"gain\": -gain,\n",
    "            }\n",
    "        )\n",
    "        # eliminate duplicate arcs\n",
    "        if pair_key in pairs.keys():\n",
    "            continue\n",
    "\n",
    "        pairs[pair_key] = True\n",
    "\n",
    "        if gain > 0:\n",
    "            arcs.append(\n",
    "                {\n",
    "                    \"target\": target_centroid,\n",
    "                    \"source\": source_centroid,\n",
    "                    \"value\": flows[to_id],\n",
    "                }\n",
    "            )\n",
    "        else:\n",
    "            arcs.append(\n",
    "                {\n",
    "                    \"target\": source_centroid,\n",
    "                    \"source\": target_centroid,\n",
    "                    \"value\": flows[to_id],\n",
    "                }\n",
    "            )\n",
    "\n",
    "    # add point at arc target\n",
    "    targets.append(\n",
    "        {\n",
    "            **total_value,\n",
    "            \"position\": [target_centroid[0], target_centroid[1], 10],\n",
    "            \"net\": total_value[\"gain\"] + total_value[\"loss\"],\n",
    "            \"name\": county[\"properties\"][\"name\"],\n",
    "        }\n",
    "    )\n",
    "\n",
    "# sort targets by radius large -> small\n",
    "targets = sorted(targets, key=lambda d: abs(d[\"net\"]), reverse=True)\n",
    "normalizer = Normalize(0, abs(targets[0][\"net\"]))"
   ]
  },
  {
   "cell_type": "markdown",
   "metadata": {},
   "source": [
    "We define some color constants, as well as a color lookup array.\n",
    "\n",
    "A nice trick in numpy is that if you have a two-dimensional array like:\n",
    "\n",
    "```json\n",
    "[\n",
    "    [166,   3,   3],\n",
    "    [ 35, 181, 184]\n",
    "]\n",
    "```\n",
    "\n",
    "you can perform a lookup based on the index to transform data from one dimensionality to another. In this case, we'll use `0` and `1` — the two available indexes of the array's first dimension — to create an array of colors.\n",
    "\n",
    "So when we call `COLORS[colors_lookup]` that creates an output array of something like:\n",
    "\n",
    "```json\n",
    "[\n",
    "    [166,   3,   3],\n",
    "    [ 35, 181, 184],\n",
    "    [166,   3,   3],\n",
    "    [166,   3,   3]\n",
    "]\n",
    "```\n",
    "\n",
    "equal to the number of rows in our dataset. We can then pass this to any parameter that accepts a [ColorAccessor](https://developmentseed.org/lonboard/latest/api/traits/#lonboard.traits.ColorAccessor)."
   ]
  },
  {
   "cell_type": "code",
   "execution_count": 4,
   "metadata": {},
   "outputs": [],
   "source": [
    "# migrate out\n",
    "SOURCE_COLOR = [166, 3, 3]\n",
    "# migrate in\n",
    "TARGET_COLOR = [35, 181, 184]\n",
    "# Combine into a single arr to use as a lookup table\n",
    "COLORS = np.vstack(\n",
    "    [np.array(SOURCE_COLOR, dtype=np.uint8), np.array(TARGET_COLOR, dtype=np.uint8)]\n",
    ")\n",
    "SOURCE_LOOKUP = 0\n",
    "TARGET_LOOKUP = 1"
   ]
  },
  {
   "cell_type": "code",
   "execution_count": 5,
   "metadata": {},
   "outputs": [],
   "source": [
    "brushing_extension = BrushingExtension(brushing_radius=200000)"
   ]
  },
  {
   "cell_type": "markdown",
   "metadata": {},
   "source": [
    "Convert the `sources` list of dictionaries into a GeoPandas `GeoDataFrame` to pass into a `ScatterplotLayer`."
   ]
  },
  {
   "cell_type": "code",
   "execution_count": 6,
   "metadata": {},
   "outputs": [],
   "source": [
    "source_arr = np.array([source[\"position\"] for source in sources])\n",
    "source_positions = shapely.points(source_arr[:, 0], source_arr[:, 1])\n",
    "source_gdf = gpd.GeoDataFrame(\n",
    "    pd.DataFrame.from_records(sources)[[\"name\", \"radius\", \"gain\"]],\n",
    "    geometry=source_positions,\n",
    ")\n",
    "# We use a lookup table (`COLORS`) to apply either the target color or the source color\n",
    "# to the array\n",
    "source_colors_lookup = np.where(source_gdf[\"gain\"] > 0, TARGET_LOOKUP, SOURCE_LOOKUP)\n",
    "source_fill_colors = COLORS[source_colors_lookup]\n"
   ]
  },
  {
   "cell_type": "markdown",
   "metadata": {},
   "source": [
    "Create a `ScatterplotLayer` for source points:"
   ]
  },
  {
   "cell_type": "code",
   "execution_count": 7,
   "metadata": {},
   "outputs": [],
   "source": [
    "source_layer = ScatterplotLayer.from_geopandas(\n",
    "    source_gdf,\n",
    "    get_fill_color=source_fill_colors,\n",
    "    radius_scale=3000,\n",
    "    pickable=False,\n",
    "    extensions=[brushing_extension],\n",
    ")"
   ]
  },
  {
   "cell_type": "code",
   "execution_count": 8,
   "metadata": {},
   "outputs": [],
   "source": [
    "targets_arr = np.array([target[\"position\"] for target in targets])\n",
    "target_positions = shapely.points(targets_arr[:, 0], targets_arr[:, 1])\n",
    "target_gdf = gpd.GeoDataFrame(\n",
    "    pd.DataFrame.from_records(targets)[[\"name\", \"gain\", \"loss\", \"net\"]],\n",
    "    geometry=target_positions,\n",
    ")\n",
    "# We use a lookup table (`COLORS`) to apply either the target color or the source color\n",
    "# to the array\n",
    "target_line_colors_lookup = np.where(target_gdf[\"net\"] > 0, TARGET_LOOKUP, SOURCE_LOOKUP)\n",
    "target_line_colors = COLORS[target_line_colors_lookup]\n"
   ]
  },
  {
   "cell_type": "markdown",
   "metadata": {},
   "source": [
    "Create a `ScatterplotLayer` for target points:"
   ]
  },
  {
   "cell_type": "code",
   "execution_count": 9,
   "metadata": {},
   "outputs": [],
   "source": [
    "target_ring_layer = ScatterplotLayer.from_geopandas(\n",
    "    target_gdf,\n",
    "    get_line_color=target_line_colors,\n",
    "    radius_scale=4000,\n",
    "    pickable=True,\n",
    "    stroked=True,\n",
    "    filled=False,\n",
    "    line_width_min_pixels=2,\n",
    "    extensions=[brushing_extension],\n",
    ")"
   ]
  },
  {
   "cell_type": "markdown",
   "metadata": {},
   "source": [
    "Note: the `ArcLayer` can't currently be created from a GeoDataFrame because it\n",
    "needs _two_ point columns, not one. This is a large part of why it's still\n",
    "marked under the \"experimental\" module.\n",
    "\n",
    "Here we pass a numpy array for each point column. This is allowed as long as the shape of the array is `(N, 2)` or `(N, 3)` (i.e. 2D or 3D coordinates)."
   ]
  },
  {
   "cell_type": "code",
   "execution_count": 10,
   "metadata": {},
   "outputs": [],
   "source": [
    "value = np.array([arc[\"value\"] for arc in arcs])\n",
    "get_source_position = np.array([arc[\"source\"] for arc in arcs])\n",
    "get_target_position = np.array([arc[\"target\"] for arc in arcs])\n",
    "table = pa.table({\"value\": value})\n",
    "\n",
    "arc_layer = ArcLayer(\n",
    "    table=table,\n",
    "    get_source_position=get_source_position,\n",
    "    get_target_position=get_target_position,\n",
    "    get_source_color=SOURCE_COLOR,\n",
    "    get_target_color=TARGET_COLOR,\n",
    "    get_width=1,\n",
    "    opacity=0.4,\n",
    "    pickable=False,\n",
    "    extensions=[brushing_extension],\n",
    ")"
   ]
  },
  {
   "cell_type": "markdown",
   "metadata": {},
   "source": [
    "Now we can create a map using these three layers we've created.\n",
    "\n",
    "As you hover over the map, it should render only the arcs near your cursor.\n",
    "\n",
    "You can modify `brushing_extension.brushing_radius` to control how large the brush is around your cursor."
   ]
  },
  {
   "cell_type": "code",
   "execution_count": 11,
   "metadata": {},
   "outputs": [
    {
     "data": {
      "application/vnd.jupyter.widget-view+json": {
       "model_id": "c8b35b9909c148758cb6297a79a8e89e",
       "version_major": 2,
       "version_minor": 0
      },
      "text/plain": [
       "Map(layers=[ScatterplotLayer(extensions=[BrushingExtension(brushing_radius=200000.0)], get_fill_color=<pyarrow…"
      ]
     },
     "execution_count": 11,
     "metadata": {},
     "output_type": "execute_result"
    }
   ],
   "source": [
    "map_ = Map(layers=[source_layer, target_ring_layer, arc_layer], picking_radius=10)\n",
    "map_"
   ]
  },
  {
   "cell_type": "code",
   "execution_count": null,
   "metadata": {},
   "outputs": [],
   "source": []
  }
 ],
 "metadata": {
  "kernelspec": {
   "display_name": "lonboard",
   "language": "python",
   "name": "lonboard"
  },
  "language_info": {
   "codemirror_mode": {
    "name": "ipython",
    "version": 3
   },
   "file_extension": ".py",
   "mimetype": "text/x-python",
   "name": "python",
   "nbconvert_exporter": "python",
   "pygments_lexer": "ipython3",
   "version": "3.11.4"
  }
 },
 "nbformat": 4,
 "nbformat_minor": 5
}
