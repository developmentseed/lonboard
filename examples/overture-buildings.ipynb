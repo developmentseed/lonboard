{
 "cells": [
  {
   "cell_type": "markdown",
   "metadata": {},
   "source": [
    "# Overture buildings example\n"
   ]
  },
  {
   "cell_type": "code",
   "execution_count": 33,
   "metadata": {},
   "outputs": [],
   "source": [
    "from lonboard import viz, SolidPolygonLayer, Map\n",
    "import pyarrow.parquet as pq\n",
    "import shapely\n",
    "import numpy as np\n",
    "import s3fs\n",
    "import geopandas as gpd"
   ]
  },
  {
   "cell_type": "code",
   "execution_count": 2,
   "metadata": {},
   "outputs": [],
   "source": [
    "fs = s3fs.S3FileSystem()\n",
    "dataset = pq.ParquetDataset(\n",
    "    \"omf-internal-usw2/testing/jwasserman-test-spatial-partition/test-buildings13/\",\n",
    "    filesystem=fs,\n",
    ")"
   ]
  },
  {
   "cell_type": "code",
   "execution_count": 3,
   "metadata": {},
   "outputs": [],
   "source": [
    "# This takes a **while** (~two minutes) because the .metadata property of each fragment\n",
    "# is lazily loaded\n",
    "total_num_chunks = 0\n",
    "for fragment in dataset.fragments:\n",
    "    total_num_chunks += fragment.num_row_groups"
   ]
  },
  {
   "cell_type": "code",
   "execution_count": 30,
   "metadata": {},
   "outputs": [],
   "source": [
    "data_columns = {\n",
    "    \"path\": [],\n",
    "    \"row_group_idx\": np.zeros(total_num_chunks, dtype=np.uint16),\n",
    "}\n",
    "geom_columns = {\n",
    "    \"minx\": np.zeros(total_num_chunks, dtype=np.float64),\n",
    "    \"miny\": np.zeros(total_num_chunks, dtype=np.float64),\n",
    "    \"maxx\": np.zeros(total_num_chunks, dtype=np.float64),\n",
    "    \"maxy\": np.zeros(total_num_chunks, dtype=np.float64),\n",
    "}"
   ]
  },
  {
   "cell_type": "code",
   "execution_count": 31,
   "metadata": {},
   "outputs": [],
   "source": [
    "# For now hard-coded, (minx, miny, maxx, maxy)\n",
    "bbox_column_indexes = [(\"minx\", 2), (\"miny\", 4), (\"maxx\", 3), (\"maxy\", 5)]\n",
    "\n",
    "row_group_counter = 0\n",
    "for fragment in dataset.fragments:\n",
    "    for file_row_group_idx in range(fragment.num_row_groups):\n",
    "        data_columns[\"path\"].append(fragment.path)\n",
    "        data_columns[\"row_group_idx\"][row_group_counter] = file_row_group_idx\n",
    "\n",
    "        row_group_meta = fragment.metadata.row_group(file_row_group_idx)\n",
    "        geom_columns[\"minx\"][row_group_counter] = row_group_meta.column(\n",
    "            2\n",
    "        ).statistics.min\n",
    "        geom_columns[\"miny\"][row_group_counter] = row_group_meta.column(\n",
    "            4\n",
    "        ).statistics.min\n",
    "        geom_columns[\"maxx\"][row_group_counter] = row_group_meta.column(\n",
    "            3\n",
    "        ).statistics.max\n",
    "        geom_columns[\"maxy\"][row_group_counter] = row_group_meta.column(\n",
    "            5\n",
    "        ).statistics.max\n",
    "\n",
    "        row_group_counter += 1"
   ]
  },
  {
   "cell_type": "code",
   "execution_count": null,
   "metadata": {},
   "outputs": [],
   "source": []
  },
  {
   "cell_type": "code",
   "execution_count": 56,
   "metadata": {},
   "outputs": [],
   "source": [
    "from lonboard.basemap import CartoBasemap"
   ]
  },
  {
   "cell_type": "code",
   "execution_count": 35,
   "metadata": {},
   "outputs": [],
   "source": [
    "box_geoms = shapely.box(\n",
    "    geom_columns[\"minx\"],\n",
    "    geom_columns[\"miny\"],\n",
    "    geom_columns[\"maxx\"],\n",
    "    geom_columns[\"maxy\"],\n",
    ")\n",
    "gdf = gpd.GeoDataFrame(\n",
    "    {\n",
    "        \"path\": data_columns[\"path\"],\n",
    "        \"row_group_idx\": data_columns[\"row_group_idx\"],\n",
    "    },\n",
    "    geometry=box_geoms,\n",
    "    crs=\"epsg:4326\",\n",
    ")"
   ]
  },
  {
   "cell_type": "code",
   "execution_count": 36,
   "metadata": {},
   "outputs": [],
   "source": [
    "layer = SolidPolygonLayer.from_geopandas(\n",
    "    gdf, get_fill_color=[0, 50, 10, 40], auto_highlight=True\n",
    ")"
   ]
  },
  {
   "cell_type": "code",
   "execution_count": 57,
   "metadata": {},
   "outputs": [],
   "source": [
    "m = Map(layer, basemap_style=CartoBasemap.Voyager)"
   ]
  },
  {
   "cell_type": "code",
   "execution_count": 58,
   "metadata": {},
   "outputs": [
    {
     "data": {
      "application/vnd.jupyter.widget-view+json": {
       "model_id": "f9f45de39b5f448c8608d1011284214d",
       "version_major": 2,
       "version_minor": 0
      },
      "text/plain": [
       "Map(basemap_style=<CartoBasemap.Voyager: 'https://basemaps.cartocdn.com/gl/voyager-gl-style/style.json'>, laye…"
      ]
     },
     "execution_count": 58,
     "metadata": {},
     "output_type": "execute_result"
    }
   ],
   "source": [
    "m"
   ]
  },
  {
   "cell_type": "code",
   "execution_count": 46,
   "metadata": {},
   "outputs": [],
   "source": [
    "layer.get_fill_color = [0, 50, 10, 40]\n",
    "layer.auto_highlight = True"
   ]
  },
  {
   "cell_type": "code",
   "execution_count": 47,
   "metadata": {},
   "outputs": [
    {
     "data": {
      "text/plain": [
       "4277"
      ]
     },
     "execution_count": 47,
     "metadata": {},
     "output_type": "execute_result"
    }
   ],
   "source": [
    "layer.selected_index"
   ]
  },
  {
   "cell_type": "code",
   "execution_count": 49,
   "metadata": {},
   "outputs": [],
   "source": [
    "selected_path = gdf[\"path\"].iloc[layer.selected_index]\n",
    "selected_row_group_idx = gdf[\"row_group_idx\"].iloc[layer.selected_index]"
   ]
  },
  {
   "cell_type": "code",
   "execution_count": 51,
   "metadata": {},
   "outputs": [],
   "source": [
    "selected_pq_file = pq.ParquetFile(selected_path, filesystem=fs)\n",
    "small_data = selected_pq_file.read_row_group(selected_row_group_idx)"
   ]
  },
  {
   "cell_type": "code",
   "execution_count": 55,
   "metadata": {},
   "outputs": [
    {
     "data": {
      "application/vnd.jupyter.widget-view+json": {
       "model_id": "23bd22cb7f534708a9abe8dbde351fdc",
       "version_major": 2,
       "version_minor": 0
      },
      "text/plain": [
       "Map(basemap_style=<CartoBasemap.DarkMatter: 'https://basemaps.cartocdn.com/gl/dark-matter-gl-style/style.json'…"
      ]
     },
     "execution_count": 55,
     "metadata": {},
     "output_type": "execute_result"
    }
   ],
   "source": [
    "viz(small_data)"
   ]
  },
  {
   "cell_type": "code",
   "execution_count": 27,
   "metadata": {},
   "outputs": [
    {
     "data": {
      "text/plain": [
       "<pyarrow._parquet.FileMetaData object at 0x2a6250720>\n",
       "  created_by: parquet-mr version 1.12.3-databricks-0002 (build 2484a95dbe16a0023e3eb29c201f99ff9ea771ee)\n",
       "  num_columns: 36\n",
       "  num_rows: 9555507\n",
       "  num_row_groups: 82\n",
       "  format_version: 1.0\n",
       "  serialized_size: 443501"
      ]
     },
     "execution_count": 27,
     "metadata": {},
     "output_type": "execute_result"
    }
   ],
   "source": [
    "dataset.fragments[0].metadata"
   ]
  },
  {
   "cell_type": "code",
   "execution_count": 10,
   "metadata": {},
   "outputs": [
    {
     "data": {
      "text/plain": [
       "id: string\n",
       "geometry: binary\n",
       "bbox: struct<minx: double, maxx: double, miny: double, maxy: double>\n",
       "  child 0, minx: double\n",
       "  child 1, maxx: double\n",
       "  child 2, miny: double\n",
       "  child 3, maxy: double\n",
       "names: struct<common: list<element: struct<value: string, language: string>>, official: list<element: struct<value: string, language: string>>, alternate: list<element: struct<value: string, language: string>>, short: list<element: struct<value: string, language: string>>>\n",
       "  child 0, common: list<element: struct<value: string, language: string>>\n",
       "      child 0, element: struct<value: string, language: string>\n",
       "          child 0, value: string\n",
       "          child 1, language: string\n",
       "  child 1, official: list<element: struct<value: string, language: string>>\n",
       "      child 0, element: struct<value: string, language: string>\n",
       "          child 0, value: string\n",
       "          child 1, language: string\n",
       "  child 2, alternate: list<element: struct<value: string, language: string>>\n",
       "      child 0, element: struct<value: string, language: string>\n",
       "          child 0, value: string\n",
       "          child 1, language: string\n",
       "  child 3, short: list<element: struct<value: string, language: string>>\n",
       "      child 0, element: struct<value: string, language: string>\n",
       "          child 0, value: string\n",
       "          child 1, language: string\n",
       "version: int32\n",
       "updateTime: string\n",
       "sources: list<element: struct<property: string, dataset: string, recordId: string, confidence: double>>\n",
       "  child 0, element: struct<property: string, dataset: string, recordId: string, confidence: double>\n",
       "      child 0, property: string\n",
       "      child 1, dataset: string\n",
       "      child 2, recordId: string\n",
       "      child 3, confidence: double\n",
       "class: string\n",
       "hasParts: bool\n",
       "height: double\n",
       "numFloors: int32\n",
       "facadeColor: string\n",
       "facadeMaterial: string\n",
       "roofMaterial: string\n",
       "roofShape: string\n",
       "roofDirection: double\n",
       "roofOrientation: string\n",
       "roofColor: string\n",
       "eaveHeight: double\n",
       "level: int32\n",
       "tile: struct<x: int32, y: int32, zoom: int32> not null\n",
       "  child 0, x: int32\n",
       "  child 1, y: int32\n",
       "  child 2, zoom: int32\n",
       "-- schema metadata --\n",
       "geo: '{\"version\":\"1.0.0\",\"primary_column\":\"geometry\",\"columns\":{\"geometry' + 121\n",
       "org.apache.spark.legacyINT96: ''\n",
       "org.apache.spark.version: '3.4.1'\n",
       "org.apache.spark.sql.parquet.row.metadata: '{\"type\":\"struct\",\"fields\":[{\"' + 3282\n",
       "org.apache.spark.legacyDateTime: ''"
      ]
     },
     "execution_count": 10,
     "metadata": {},
     "output_type": "execute_result"
    }
   ],
   "source": [
    "dataset.schema"
   ]
  },
  {
   "cell_type": "code",
   "execution_count": null,
   "metadata": {},
   "outputs": [],
   "source": []
  }
 ],
 "metadata": {
  "kernelspec": {
   "display_name": "lonboard",
   "language": "python",
   "name": "lonboard"
  },
  "language_info": {
   "codemirror_mode": {
    "name": "ipython",
    "version": 3
   },
   "file_extension": ".py",
   "mimetype": "text/x-python",
   "name": "python",
   "nbconvert_exporter": "python",
   "pygments_lexer": "ipython3",
   "version": "3.11.4"
  }
 },
 "nbformat": 4,
 "nbformat_minor": 2
}
