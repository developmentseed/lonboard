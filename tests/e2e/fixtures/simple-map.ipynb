{
 "cells": [
  {
   "cell_type": "code",
   "execution_count": null,
   "metadata": {},
   "outputs": [],
   "source": [
    "import geopandas as gpd\n",
    "from shapely.geometry import Point\n",
    "from lonboard import Map, ScatterplotLayer"
   ]
  },
  {
   "cell_type": "code",
   "execution_count": null,
   "metadata": {},
   "outputs": [],
   "source": [
    "# Simple test data - 4 points in a grid\n",
    "points = [\n",
    "    Point(-10, -10),\n",
    "    Point(-10, 10),\n",
    "    Point(10, -10),\n",
    "    Point(10, 10),\n",
    "]\n",
    "gdf = gpd.GeoDataFrame(geometry=points, crs='EPSG:4326')\n",
    "\n",
    "layer = ScatterplotLayer.from_geopandas(\n",
    "    gdf,\n",
    "    get_fill_color=[255, 0, 0],\n",
    "    get_radius=100000,\n",
    ")\n",
    "\n",
    "m = Map(layer, view_state={\"longitude\": 0, \"latitude\": 0, \"zoom\": 2})\n",
    "m"
   ]
  },
  {
   "cell_type": "code",
   "execution_count": null,
   "metadata": {},
   "outputs": [],
   "source": [
    "# Check selected bounds (run after bbox selection)\n",
    "print(f\"Selected bounds: {m.selected_bounds}\")"
   ]
  }
 ],
 "metadata": {
  "kernelspec": {
   "display_name": "Python 3",
   "language": "python",
   "name": "python3"
  },
  "language_info": {
   "name": "python",
   "version": "3.10.0"
  }
 },
 "nbformat": 4,
 "nbformat_minor": 4
}
