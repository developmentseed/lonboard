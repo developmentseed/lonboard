{
 "cells": [
  {
   "cell_type": "code",
   "execution_count": null,
   "metadata": {},
   "outputs": [],
   "source": [
    "import geopandas as gpd\n",
    "from shapely.geometry import Point\n",
    "\n",
    "from lonboard import Map, ScatterplotLayer"
   ]
  },
  {
   "cell_type": "code",
   "execution_count": null,
   "metadata": {},
   "outputs": [],
   "source": [
    "# Simple test data - 4 points in a grid\n",
    "points = [\n",
    "    Point(-10, -10),\n",
    "    Point(-10, 10),\n",
    "    Point(10, -10),\n",
    "    Point(10, 10),\n",
    "]\n",
    "gdf = gpd.GeoDataFrame(geometry=points, crs=\"EPSG:4326\")\n",
    "\n",
    "layer = ScatterplotLayer.from_geopandas(\n",
    "    gdf,\n",
    "    get_fill_color=[255, 0, 0],\n",
    "    get_radius=100000,\n",
    ")\n",
    "\n",
    "m = Map(layer, view_state={\"longitude\": 0, \"latitude\": 0, \"zoom\": 2})\n",
    "m"
   ]
  },
  {
   "cell_type": "code",
   "execution_count": null,
   "metadata": {},
   "outputs": [],
   "source": "# Check selected bounds (run after bbox selection)\nf\"Selected bounds: {m.selected_bounds}\""
  },
  {
   "cell_type": "code",
   "execution_count": null,
   "metadata": {},
   "outputs": [],
   "source": []
  },
  {
   "cell_type": "code",
   "execution_count": null,
   "metadata": {},
   "outputs": [],
   "source": []
  }
 ],
 "metadata": {
  "kernelspec": {
   "display_name": "Python 3 (ipykernel)",
   "language": "python",
   "name": "python3"
  },
  "language_info": {
   "codemirror_mode": {
    "name": "ipython",
    "version": 3
   },
   "file_extension": ".py",
   "mimetype": "text/x-python",
   "name": "python",
   "nbconvert_exporter": "python",
   "pygments_lexer": "ipython3",
   "version": "3.11.6"
  }
 },
 "nbformat": 4,
 "nbformat_minor": 4
}